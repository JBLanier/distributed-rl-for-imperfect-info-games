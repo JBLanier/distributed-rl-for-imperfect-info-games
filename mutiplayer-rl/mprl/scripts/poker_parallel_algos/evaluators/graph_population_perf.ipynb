{
 "cells": [
  {
   "cell_type": "code",
   "execution_count": 1,
   "metadata": {
    "scrolled": true,
    "pycharm": {
     "is_executing": false
    }
   },
   "outputs": [
    {
     "name": "stderr",
     "text": [
      "/home/jb/ml/lib/python3.6/site-packages/tensorflow/python/framework/dtypes.py:516: FutureWarning:\n",
      "\n",
      "Passing (type, 1) or '1type' as a synonym of type is deprecated; in a future version of numpy, it will be understood as (type, (1,)) / '(1,)type'.\n",
      "\n",
      "/home/jb/ml/lib/python3.6/site-packages/tensorflow/python/framework/dtypes.py:517: FutureWarning:\n",
      "\n",
      "Passing (type, 1) or '1type' as a synonym of type is deprecated; in a future version of numpy, it will be understood as (type, (1,)) / '(1,)type'.\n",
      "\n",
      "/home/jb/ml/lib/python3.6/site-packages/tensorflow/python/framework/dtypes.py:518: FutureWarning:\n",
      "\n",
      "Passing (type, 1) or '1type' as a synonym of type is deprecated; in a future version of numpy, it will be understood as (type, (1,)) / '(1,)type'.\n",
      "\n",
      "/home/jb/ml/lib/python3.6/site-packages/tensorflow/python/framework/dtypes.py:519: FutureWarning:\n",
      "\n",
      "Passing (type, 1) or '1type' as a synonym of type is deprecated; in a future version of numpy, it will be understood as (type, (1,)) / '(1,)type'.\n",
      "\n",
      "/home/jb/ml/lib/python3.6/site-packages/tensorflow/python/framework/dtypes.py:520: FutureWarning:\n",
      "\n",
      "Passing (type, 1) or '1type' as a synonym of type is deprecated; in a future version of numpy, it will be understood as (type, (1,)) / '(1,)type'.\n",
      "\n",
      "/home/jb/ml/lib/python3.6/site-packages/tensorflow/python/framework/dtypes.py:525: FutureWarning:\n",
      "\n",
      "Passing (type, 1) or '1type' as a synonym of type is deprecated; in a future version of numpy, it will be understood as (type, (1,)) / '(1,)type'.\n",
      "\n",
      "/home/jb/ml/lib/python3.6/site-packages/tensorboard/compat/tensorflow_stub/dtypes.py:541: FutureWarning:\n",
      "\n",
      "Passing (type, 1) or '1type' as a synonym of type is deprecated; in a future version of numpy, it will be understood as (type, (1,)) / '(1,)type'.\n",
      "\n",
      "/home/jb/ml/lib/python3.6/site-packages/tensorboard/compat/tensorflow_stub/dtypes.py:542: FutureWarning:\n",
      "\n",
      "Passing (type, 1) or '1type' as a synonym of type is deprecated; in a future version of numpy, it will be understood as (type, (1,)) / '(1,)type'.\n",
      "\n",
      "/home/jb/ml/lib/python3.6/site-packages/tensorboard/compat/tensorflow_stub/dtypes.py:543: FutureWarning:\n",
      "\n",
      "Passing (type, 1) or '1type' as a synonym of type is deprecated; in a future version of numpy, it will be understood as (type, (1,)) / '(1,)type'.\n",
      "\n",
      "/home/jb/ml/lib/python3.6/site-packages/tensorboard/compat/tensorflow_stub/dtypes.py:544: FutureWarning:\n",
      "\n",
      "Passing (type, 1) or '1type' as a synonym of type is deprecated; in a future version of numpy, it will be understood as (type, (1,)) / '(1,)type'.\n",
      "\n",
      "/home/jb/ml/lib/python3.6/site-packages/tensorboard/compat/tensorflow_stub/dtypes.py:545: FutureWarning:\n",
      "\n",
      "Passing (type, 1) or '1type' as a synonym of type is deprecated; in a future version of numpy, it will be understood as (type, (1,)) / '(1,)type'.\n",
      "\n",
      "/home/jb/ml/lib/python3.6/site-packages/tensorboard/compat/tensorflow_stub/dtypes.py:550: FutureWarning:\n",
      "\n",
      "Passing (type, 1) or '1type' as a synonym of type is deprecated; in a future version of numpy, it will be understood as (type, (1,)) / '(1,)type'.\n",
      "\n"
     ],
     "output_type": "stream"
    },
    {
     "traceback": [
      "\u001b[0;31m---------------------------------------------------------------------------\u001b[0m",
      "\u001b[0;31mModuleNotFoundError\u001b[0m                       Traceback (most recent call last)",
      "\u001b[0;32m<ipython-input-1-e5941f3c7f12>\u001b[0m in \u001b[0;36m<module>\u001b[0;34m()\u001b[0m\n\u001b[1;32m      9\u001b[0m \u001b[0;32mimport\u001b[0m \u001b[0mnumpy\u001b[0m \u001b[0;32mas\u001b[0m \u001b[0mnp\u001b[0m\u001b[0;34m\u001b[0m\u001b[0;34m\u001b[0m\u001b[0m\n\u001b[1;32m     10\u001b[0m \u001b[0;34m\u001b[0m\u001b[0m\n\u001b[0;32m---> 11\u001b[0;31m \u001b[0;32mfrom\u001b[0m \u001b[0mpo\u001b[0m\u001b[0;34m.\u001b[0m\u001b[0mscripts\u001b[0m\u001b[0;34m.\u001b[0m\u001b[0mpoker_pop_server\u001b[0m\u001b[0;34m.\u001b[0m\u001b[0mevaluators\u001b[0m\u001b[0;34m.\u001b[0m\u001b[0mevaluator_utils\u001b[0m \u001b[0;32mimport\u001b[0m \u001b[0mmake_get_policy_fn\u001b[0m\u001b[0;34m,\u001b[0m \u001b[0meval_policy_matchup\u001b[0m\u001b[0;34m\u001b[0m\u001b[0;34m\u001b[0m\u001b[0m\n\u001b[0m\u001b[1;32m     12\u001b[0m \u001b[0;32mfrom\u001b[0m \u001b[0mpo\u001b[0m\u001b[0;34m.\u001b[0m\u001b[0mscripts\u001b[0m\u001b[0;34m.\u001b[0m\u001b[0mpoker_pop_server\u001b[0m\u001b[0;34m.\u001b[0m\u001b[0mutils\u001b[0m\u001b[0;34m.\u001b[0m\u001b[0mpolicy_config_keys\u001b[0m \u001b[0;32mimport\u001b[0m \u001b[0mPOKER_ARCH1_MODEL_CONFIG_KEY\u001b[0m\u001b[0;34m\u001b[0m\u001b[0;34m\u001b[0m\u001b[0m\n\u001b[1;32m     13\u001b[0m \u001b[0;32mfrom\u001b[0m \u001b[0mpo\u001b[0m\u001b[0;34m.\u001b[0m\u001b[0mrllib\u001b[0m\u001b[0;34m.\u001b[0m\u001b[0menvs\u001b[0m\u001b[0;34m.\u001b[0m\u001b[0mopnspl\u001b[0m\u001b[0;34m.\u001b[0m\u001b[0mmeasure_nashconv_eval_callback\u001b[0m \u001b[0;32mimport\u001b[0m \u001b[0mmeasure_nash_conv_nonlstm\u001b[0m\u001b[0;34m\u001b[0m\u001b[0;34m\u001b[0m\u001b[0m\n",
      "\u001b[0;32m/home/jb/git/po/po/scripts/poker_pop_server/evaluators/evaluator_utils.py\u001b[0m in \u001b[0;36m<module>\u001b[0;34m()\u001b[0m\n\u001b[0;32m----> 1\u001b[0;31m \u001b[0;32mfrom\u001b[0m \u001b[0mpo\u001b[0m\u001b[0;34m.\u001b[0m\u001b[0mrllib\u001b[0m\u001b[0;34m.\u001b[0m\u001b[0menvs\u001b[0m\u001b[0;34m.\u001b[0m\u001b[0mopnspl\u001b[0m\u001b[0;34m.\u001b[0m\u001b[0mpoker_multiagent_env\u001b[0m \u001b[0;32mimport\u001b[0m \u001b[0mPOKER_ENV\u001b[0m\u001b[0;34m,\u001b[0m \u001b[0mKUHN_POKER\u001b[0m\u001b[0;34m,\u001b[0m \u001b[0mLEDUC_POKER\u001b[0m\u001b[0;34m,\u001b[0m \u001b[0mPARTIALLY_OBSERVABLE\u001b[0m\u001b[0;34m,\u001b[0m \u001b[0mPokerMultiAgentEnv\u001b[0m\u001b[0;34m\u001b[0m\u001b[0;34m\u001b[0m\u001b[0m\n\u001b[0m\u001b[1;32m      2\u001b[0m \u001b[0;32mfrom\u001b[0m \u001b[0mpo\u001b[0m\u001b[0;34m.\u001b[0m\u001b[0mrllib\u001b[0m\u001b[0;34m.\u001b[0m\u001b[0mcommon\u001b[0m\u001b[0;34m.\u001b[0m\u001b[0msac_stratego_model\u001b[0m \u001b[0;32mimport\u001b[0m \u001b[0mSAC_STRATEGO_MODEL\u001b[0m\u001b[0;34m\u001b[0m\u001b[0;34m\u001b[0m\u001b[0m\n\u001b[1;32m      3\u001b[0m \u001b[0;34m\u001b[0m\u001b[0m\n\u001b[1;32m      4\u001b[0m \u001b[0;32mfrom\u001b[0m \u001b[0mprogress\u001b[0m\u001b[0;34m.\u001b[0m\u001b[0mbar\u001b[0m \u001b[0;32mimport\u001b[0m \u001b[0mBar\u001b[0m\u001b[0;34m\u001b[0m\u001b[0;34m\u001b[0m\u001b[0m\n\u001b[1;32m      5\u001b[0m \u001b[0;32mimport\u001b[0m \u001b[0mnumpy\u001b[0m \u001b[0;32mas\u001b[0m \u001b[0mnp\u001b[0m\u001b[0;34m\u001b[0m\u001b[0;34m\u001b[0m\u001b[0m\n",
      "\u001b[0;32m/home/jb/git/po/po/rllib/envs/opnspl/poker_multiagent_env.py\u001b[0m in \u001b[0;36m<module>\u001b[0;34m()\u001b[0m\n\u001b[1;32m      5\u001b[0m \u001b[0;32mimport\u001b[0m \u001b[0mcopy\u001b[0m\u001b[0;34m\u001b[0m\u001b[0;34m\u001b[0m\u001b[0m\n\u001b[1;32m      6\u001b[0m \u001b[0;32mimport\u001b[0m \u001b[0mnumpy\u001b[0m \u001b[0;32mas\u001b[0m \u001b[0mnp\u001b[0m\u001b[0;34m\u001b[0m\u001b[0;34m\u001b[0m\u001b[0m\n\u001b[0;32m----> 7\u001b[0;31m \u001b[0;32mfrom\u001b[0m \u001b[0mopen_spiel\u001b[0m\u001b[0;34m.\u001b[0m\u001b[0mpython\u001b[0m\u001b[0;34m.\u001b[0m\u001b[0mrl_environment\u001b[0m \u001b[0;32mimport\u001b[0m \u001b[0mTimeStep\u001b[0m\u001b[0;34m,\u001b[0m \u001b[0mEnvironment\u001b[0m\u001b[0;34m\u001b[0m\u001b[0;34m\u001b[0m\u001b[0m\n\u001b[0m\u001b[1;32m      8\u001b[0m \u001b[0;32mfrom\u001b[0m \u001b[0mpo\u001b[0m\u001b[0;34m.\u001b[0m\u001b[0mrllib\u001b[0m\u001b[0;34m.\u001b[0m\u001b[0menvs\u001b[0m\u001b[0;34m.\u001b[0m\u001b[0mopnspl\u001b[0m\u001b[0;34m.\u001b[0m\u001b[0mvalid_actions_mask_env\u001b[0m \u001b[0;32mimport\u001b[0m \u001b[0mValidActionsMaskEnvironment\u001b[0m\u001b[0;34m\u001b[0m\u001b[0;34m\u001b[0m\u001b[0m\n\u001b[1;32m      9\u001b[0m \u001b[0;32mfrom\u001b[0m \u001b[0mpo\u001b[0m\u001b[0;34m.\u001b[0m\u001b[0mutil\u001b[0m \u001b[0;32mimport\u001b[0m \u001b[0mwith_base_config\u001b[0m\u001b[0;34m\u001b[0m\u001b[0;34m\u001b[0m\u001b[0m\n",
      "\u001b[0;32m/home/jb/git/open_spiel/open_spiel/python/rl_environment.py\u001b[0m in \u001b[0;36m<module>\u001b[0;34m()\u001b[0m\n\u001b[1;32m     55\u001b[0m \u001b[0;32mimport\u001b[0m \u001b[0mnumpy\u001b[0m \u001b[0;32mas\u001b[0m \u001b[0mnp\u001b[0m\u001b[0;34m\u001b[0m\u001b[0;34m\u001b[0m\u001b[0m\n\u001b[1;32m     56\u001b[0m \u001b[0;34m\u001b[0m\u001b[0m\n\u001b[0;32m---> 57\u001b[0;31m \u001b[0;32mimport\u001b[0m \u001b[0mpyspiel\u001b[0m\u001b[0;34m\u001b[0m\u001b[0;34m\u001b[0m\u001b[0m\n\u001b[0m\u001b[1;32m     58\u001b[0m \u001b[0;34m\u001b[0m\u001b[0m\n\u001b[1;32m     59\u001b[0m \u001b[0mSIMULTANEOUS_PLAYER_ID\u001b[0m \u001b[0;34m=\u001b[0m \u001b[0mpyspiel\u001b[0m\u001b[0;34m.\u001b[0m\u001b[0mPlayerId\u001b[0m\u001b[0;34m.\u001b[0m\u001b[0mSIMULTANEOUS\u001b[0m\u001b[0;34m\u001b[0m\u001b[0;34m\u001b[0m\u001b[0m\n",
      "\u001b[0;31mModuleNotFoundError\u001b[0m: No module named 'pyspiel'"
     ],
     "ename": "ModuleNotFoundError",
     "evalue": "No module named 'pyspiel'",
     "output_type": "error"
    }
   ],
   "source": [
    "\n",
    "import json\n",
    "import logging\n",
    "import os\n",
    "import shutil\n",
    "import plotly.graph_objects as go\n",
    "import plotly.express as px\n",
    "import numpy as np\n",
    "\n",
    "from po.scripts.poker_pop_server.evaluators.evaluator_utils import make_get_policy_fn, eval_policy_matchup\n",
    "from po.scripts.poker_pop_server.utils.policy_config_keys import POKER_ARCH1_MODEL_CONFIG_KEY\n",
    "from po.rllib.envs.opnspl.measure_nashconv_eval_callback import measure_nash_conv_nonlstm\n",
    "import itertools\n",
    "from po.rllib.common.cloud_storage import maybe_download_object, connect_storage_client\n",
    "from po.rllib.sac.sac_policy import SACDiscreteTFPolicy\n",
    "from po.rllib.ppo.ppo_stratego_model_policy import PPOStrategoModelTFPolicy\n",
    "from po.rllib.common.stratego_preprocessor import STRATEGO_PREPROCESSOR, StrategoDictFlatteningPreprocessor\n",
    "from ray.rllib.agents.trainer import with_common_config, with_base_config\n",
    "from ray.rllib.models.catalog import MODEL_DEFAULTS\n",
    "import ray\n",
    "from ray.rllib.utils import try_import_tf\n",
    "import json\n",
    "import os\n",
    "from po.rllib.envs.opnspl.poker_multiagent_env import POKER_ENV, KUHN_POKER, LEDUC_POKER, PARTIALLY_OBSERVABLE, PokerMultiAgentEnv\n",
    "from po.rllib.common.sac_stratego_model import SAC_STRATEGO_MODEL\n",
    "from po.scripts.population_server.utils.metanash import get_fp_metanash_for_latest_payoff_table, get_fp_metanash_for_payoff_table\n",
    "from mprl.utility_services.payoff_table import PayoffTable, PolicySpec\n",
    "import pandas as pd\n",
    "import multiprocessing\n",
    "from itertools import repeat\n",
    "\n",
    "tf = try_import_tf()\n",
    "\n",
    "MINIO_ENDPOINT = os.getenv('MINIO_ENDPOINT')\n",
    "MINIO_ACCESS_KEY = os.getenv('MINIO_ACCESS_KEY')\n",
    "MINIO_SECRET_KEY = os.getenv('MINIO_SECRET_KEY')\n",
    "BUCKET_NAME = os.getenv(\"MINIO_BUCKET_NAME\")\n",
    "\n",
    "OBSERVATION_MODE = PARTIALLY_OBSERVABLE\n",
    "\n",
    "POLICY_CLASS = SACDiscreteTFPolicy\n",
    "POLICY_CLASS_NAME = SACDiscreteTFPolicy.__name__\n",
    "MODEL_CONFIG_KEY = POKER_ARCH1_MODEL_CONFIG_KEY\n",
    "\n",
    "MANAGER_SEVER_HOST = \"localhost\"\n",
    "\n",
    "logger = logging.getLogger(__name__)\n",
    "\n",
    "\n",
    "def get_stats_for_single_payoff_table(payoff_table_key, experiment_name, poker_game_version, model_config_key):\n",
    "    POKER_ENV_CONFIG = {\n",
    "        'version': poker_game_version,\n",
    "    }\n",
    "\n",
    "    storage_client = connect_storage_client(endpoint=MINIO_ENDPOINT,\n",
    "                                            access_key=MINIO_ACCESS_KEY,\n",
    "                                            secret_key=MINIO_SECRET_KEY)\n",
    "\n",
    "\n",
    "    # If you use ray for more than just this single example fn, you'll need to move ray.init to the top of your main()\n",
    "    ray.init(address=os.getenv('RAY_HEAD_NODE'), ignore_reinit_error=True, local_mode=True)\n",
    "\n",
    "\n",
    "    model_config_file_path, _ = maybe_download_object(storage_client=storage_client,\n",
    "                                                      bucket_name=BUCKET_NAME,\n",
    "                                                      object_name=model_config_key,\n",
    "                                                      force_download=False)\n",
    "\n",
    "    with open(model_config_file_path, 'r') as config_file:\n",
    "        model_config = json.load(fp=config_file)\n",
    "\n",
    "    example_env = PokerMultiAgentEnv(env_config=POKER_ENV_CONFIG)\n",
    "\n",
    "    obs_space = example_env.observation_space\n",
    "    act_space = example_env.action_space\n",
    "\n",
    "    preprocessor = StrategoDictFlatteningPreprocessor(obs_space=obs_space)\n",
    "    graph = tf.Graph()\n",
    "    sess = tf.Session(config=tf.ConfigProto(device_count={'GPU': 0}), graph=graph)\n",
    "\n",
    "    def fetch_logits(policy):\n",
    "        return {\n",
    "            \"behaviour_logits\": policy.model.last_output(),\n",
    "        }\n",
    "\n",
    "    _policy_cls = POLICY_CLASS.with_updates(\n",
    "        extra_action_fetches_fn=fetch_logits\n",
    "    )\n",
    "\n",
    "    with graph.as_default():\n",
    "        with sess.as_default():\n",
    "            policy = _policy_cls(\n",
    "                obs_space=preprocessor.observation_space,\n",
    "                action_space=act_space,\n",
    "                config=with_common_config({\n",
    "                    'model': with_base_config(base_config=MODEL_DEFAULTS, extra_config=model_config),\n",
    "                    'env': POKER_ENV,\n",
    "                    'env_config': POKER_ENV_CONFIG,\n",
    "                    'custom_preprocessor': STRATEGO_PREPROCESSOR}))\n",
    "\n",
    "    def set_policy_weights(weights_key):\n",
    "        weights_file_path, _ = maybe_download_object(storage_client=storage_client,\n",
    "                                                 bucket_name=BUCKET_NAME,\n",
    "                                                 object_name=weights_key,\n",
    "                                                 force_download=False)\n",
    "        policy.load_model_weights(weights_file_path)\n",
    "\n",
    "    payoff_table_local_path, _ = maybe_download_object(storage_client=storage_client,\n",
    "                                                           bucket_name=BUCKET_NAME,\n",
    "                                                           object_name=payoff_table_key,\n",
    "                                                           force_download=False)\n",
    "\n",
    "    payoff_table = PayoffTable.from_dill_file(dill_file_path=payoff_table_local_path)\n",
    "    stats_out = {\n",
    "        'payoff_table_key': [],\n",
    "        'experiment_name': [],\n",
    "        'num_policies': [],\n",
    "        'exploitability': [],\n",
    "        'total_steps': [],\n",
    "        'total_episodes': [],\n",
    "    }\n",
    "\n",
    "    exploitability_per_generation = []\n",
    "    total_steps_per_generation = []\n",
    "    total_episodes_per_generation = []\n",
    "    num_policies_per_generation = []\n",
    "\n",
    "    for i, n_policies in enumerate(range(1,payoff_table.size() + 1)):\n",
    "        metanash_probs = get_fp_metanash_for_payoff_table(payoff_table=payoff_table,\n",
    "                                                                 fp_iters=40000,\n",
    "                                                                 accepted_opponent_policy_class_names=[POLICY_CLASS_NAME],\n",
    "                                                                 accepted_opponent_model_config_keys=[POKER_ENV_CONFIG],\n",
    "                                                                 add_payoff_matrix_noise_std_dev=0.000,\n",
    "                                                                 mix_with_uniform_dist_coeff=None,\n",
    "                                                                 only_first_n_policies=n_policies,\n",
    "                                                                 p_or_lower_rounds_to_zero=0.0)\n",
    "\n",
    "        policy_weights_keys = payoff_table.get_ordered_keys_in_payoff_matrix()\n",
    "\n",
    "        policy_dict = {key: prob for key, prob in zip(policy_weights_keys, metanash_probs)}\n",
    "\n",
    "        exploitability_this_gen = measure_nash_conv_nonlstm(rllib_policy=policy,\n",
    "                                  poker_game_version=poker_game_version,\n",
    "                                  policy_mixture_dict=policy_dict,\n",
    "                                  set_policy_weights_fn=set_policy_weights)\n",
    "\n",
    "        print(f\"{n_policies} policies, {exploitability_this_gen} exploitability\")\n",
    "\n",
    "        policy_added_this_gen = payoff_table.get_policy_for_index(i)\n",
    "        latest_policy_tags = policy_added_this_gen.tags\n",
    "        steps_prefix = \"timesteps: \"\n",
    "        latest_policy_steps = int([tag for tag in latest_policy_tags if steps_prefix in tag][0][len(steps_prefix):])\n",
    "        episodes_prefix = \"episodes: \"\n",
    "        latest_policy_episodes = int([tag for tag in latest_policy_tags if episodes_prefix in tag][0][len(episodes_prefix):])\n",
    "\n",
    "        if i > 0:\n",
    "            total_steps_this_generation = latest_policy_steps + total_steps_per_generation[i-1]\n",
    "            total_episodes_this_generation = latest_policy_episodes + total_episodes_per_generation[i-1]\n",
    "        else:\n",
    "            total_steps_this_generation = latest_policy_steps\n",
    "            total_episodes_this_generation = latest_policy_episodes\n",
    "\n",
    "        exploitability_per_generation.append(exploitability_this_gen)\n",
    "        total_steps_per_generation.append(total_steps_this_generation)\n",
    "        total_episodes_per_generation.append(total_episodes_this_generation)\n",
    "        num_policies_per_generation.append(n_policies)\n",
    "\n",
    "        num_new_entries = len(exploitability_per_generation)\n",
    "        stats_out['payoff_table_key'] = stats_out['payoff_table_key'] + [payoff_table_key] * num_new_entries\n",
    "        stats_out['experiment_name'] = stats_out['experiment_name'] + [experiment_name] * num_new_entries\n",
    "        stats_out['num_policies'] = stats_out['num_policies'] + num_policies_per_generation\n",
    "        stats_out['exploitability'] = stats_out['exploitability'] + exploitability_per_generation\n",
    "        stats_out['total_steps'] = stats_out['total_steps'] + total_steps_per_generation\n",
    "        stats_out['total_episodes'] = stats_out['total_episodes'] + total_episodes_per_generation\n",
    "    return stats_out\n",
    "\n",
    "def get_exploitability_stats_over_time_for_payoff_table_all_same_poker_version(payoff_table_keys, exp_names, poker_game_version, model_config_key):\n",
    "\n",
    "    with multiprocessing.Pool(processes=16) as pool:\n",
    "        results = pool.starmap(get_stats_for_single_payoff_table, zip(payoff_table_keys, exp_names, repeat(poker_game_version), repeat(model_config_key)))\n",
    "\n",
    "    combined_stats = {}\n",
    "    for result in results:\n",
    "        for key, val in result.items():\n",
    "            if key not in combined_stats:\n",
    "                combined_stats[key] = val\n",
    "            else:\n",
    "                combined_stats[key] = [*combined_stats[key], *val]\n",
    "\n",
    "    return pd.DataFrame(combined_stats)"
   ]
  },
  {
   "cell_type": "code",
   "execution_count": null,
   "metadata": {
    "pycharm": {
     "is_executing": false,
     "name": "#%%\n"
    },
    "scrolled": true
   },
   "outputs": [],
   "source": [
    "kuhn_experiment_payoff_tables_and_names = [\n",
    "    (\"poker_ps/kuhn_psro_squential_explore_coeff_0/poker-learner-1_pid_168295_09_29_35AM_May-23-2020/payoff_tables/payoff_table_58_polices_0_pending_poker-learner-1_pid_168295_10_57_45PM_May-23-2020.dill\", \n",
    "     \"Kuhn Seq PSRO Expl 0.0\"),\n",
    "    (\"poker_ps/kuhn_psro_squential_explore_coeff_0p1/poker-learner-1_pid_170498_09_29_55AM_May-23-2020/payoff_tables/payoff_table_56_polices_0_pending_poker-learner-1_pid_170498_10_46_58PM_May-23-2020.dill\",\n",
    "     \"Kuhn Seq PSRO Expl 0.1\")\n",
    "]\n",
    "    "
   ]
  },
  {
   "cell_type": "code",
   "execution_count": null,
   "metadata": {
    "pycharm": {
     "is_executing": true,
     "name": "#%%\n"
    },
    "scrolled": false
   },
   "outputs": [],
   "source": [
    "kuhn_payoff_table_keys, kuhn_exp_names = zip(*kuhn_experiment_payoff_tables_and_names)\n",
    "\n",
    "kuhn_perf_df = get_exploitability_stats_over_time_for_payoff_table_all_same_poker_version(\n",
    "    payoff_table_keys=kuhn_payoff_table_keys,\n",
    "    exp_names=kuhn_exp_names,\n",
    "    poker_game_version=\"kuhn_poker\",\n",
    "    model_config_key=POKER_ARCH1_MODEL_CONFIG_KEY\n",
    ")\n"
   ]
  },
  {
   "cell_type": "code",
   "execution_count": null,
   "metadata": {
    "pycharm": {
     "is_executing": true,
     "name": "#%%\n"
    },
    "scrolled": true
   },
   "outputs": [],
   "source": [
    "fig = px.line(kuhn_perf_df, x=\"num_policies\", y=\"exploitability\", title=f\"Exploibility over time\",\n",
    "        render_mode=\"svg\", color=\"experiment_name\")\n",
    "fig.show()"
   ]
  },
  {
   "cell_type": "code",
   "execution_count": 5,
   "metadata": {
    "pycharm": {
     "is_executing": true,
     "name": "#%%\n"
    },
    "scrolled": true
   },
   "outputs": [],
   "source": [
    "\n",
    "\n",
    "leduc_experiment_payoff_tables_and_names = [\n",
    "    (\"poker_ps/leduc_psro_squential_explore_coeff_0/poker-learner-1_pid_137104_09_12_46AM_May-23-2020/payoff_tables/payoff_table_90_polices_0_pending_poker-learner-1_pid_137104_04_40_13AM_May-26-2020.dill\", \n",
    "     \"Leduc Seq PSRO Expl 0.0\"),\n",
    "    (\"poker_ps/leduc_psro_squential_explore_coeff_0p1/poker-learner-1_pid_141254_09_13_38AM_May-23-2020/payoff_tables/payoff_table_24_polices_0_pending_poker-learner-1_pid_141254_11_20_51PM_May-23-2020.dill\",\n",
    "     \"Leduc Seq PSRO Expl 0.1\")\n",
    "]\n",
    "    "
   ]
  },
  {
   "cell_type": "code",
   "execution_count": 6,
   "metadata": {
    "pycharm": {
     "is_executing": true,
     "name": "#%%\n"
    },
    "scrolled": false
   },
   "outputs": [
    {
     "name": "stderr",
     "output_type": "stream",
     "text": [
      "2020-05-30 19:15:15,550\tERROR worker.py:1428 -- Calling ray.init() again after it has already been called.\n",
      "/home/jb/ml/lib/python3.6/site-packages/gym/logger.py:30: UserWarning:\n",
      "\n",
      "\u001b[33mWARN: Box bound precision lowered by casting to float32\u001b[0m\n",
      "\n",
      "2020-05-30 19:15:15,573\tINFO catalog.py:363 -- Using custom preprocessor stratego_preprocessor\n",
      "2020-05-30 19:15:15,715\tINFO catalog.py:363 -- Using custom preprocessor stratego_preprocessor\n"
     ]
    },
    {
     "name": "stdout",
     "output_type": "stream",
     "text": [
      "{'conv_activation': 'relu', 'conv_filters': [], 'use_lstm': False, 'max_seq_len': 20, 'custom_preprocessor': 'stratego_preprocessor', 'custom_model': 'sac_stratego_model', 'custom_options': {'mask_invalid_actions': True, 'observation_mode': 'partially_observable', 'q_fn': True, 'fake_lstm': False, 'use_lstm': False}, 'fcnet_activation': 'tanh', 'fcnet_hiddens': [40, 40, 40], 'free_log_std': False, 'no_final_linear': False, 'vf_share_layers': False, 'lstm_cell_size': 256, 'lstm_use_prev_action_reward': False, 'state_shape': None, 'framestack': True, 'dim': 84, 'grayscale': False, 'zero_mean': True, 'custom_action_dist': None}\n",
      "Box(33,)\n",
      "Model: \"model_2\"\n",
      "_________________________________________________________________\n",
      "Layer (type)                 Output Shape              Param #   \n",
      "=================================================================\n",
      "vf_observation (InputLayer)  [(None, 30)]              0         \n",
      "_________________________________________________________________\n",
      "twin_vf_fc_0 (Dense)         (None, 40)                1240      \n",
      "_________________________________________________________________\n",
      "twin_vf_fc_1 (Dense)         (None, 40)                1640      \n",
      "_________________________________________________________________\n",
      "twin_vf_fc_2 (Dense)         (None, 40)                1640      \n",
      "_________________________________________________________________\n",
      "twin_vf_fc_q_out (Dense)     (None, 3)                 123       \n",
      "=================================================================\n",
      "Total params: 4,643\n",
      "Trainable params: 4,643\n",
      "Non-trainable params: 0\n",
      "_________________________________________________________________\n",
      "None\n",
      "Model: \"model\"\n",
      "_________________________________________________________________\n",
      "Layer (type)                 Output Shape              Param #   \n",
      "=================================================================\n",
      "pi_observation (InputLayer)  [(None, 30)]              0         \n",
      "_________________________________________________________________\n",
      "pi_fc_0 (Dense)              (None, 40)                1240      \n",
      "_________________________________________________________________\n",
      "pi_fc_1 (Dense)              (None, 40)                1640      \n",
      "_________________________________________________________________\n",
      "pi_fc_2 (Dense)              (None, 40)                1640      \n",
      "_________________________________________________________________\n",
      "pi_fc_unmasked_logits (Dense (None, 3)                 123       \n",
      "=================================================================\n",
      "Total params: 4,643\n",
      "Trainable params: 4,643\n",
      "Non-trainable params: 0\n",
      "_________________________________________________________________\n",
      "None\n",
      "Model: \"model_1\"\n",
      "_________________________________________________________________\n",
      "Layer (type)                 Output Shape              Param #   \n",
      "=================================================================\n",
      "vf_observation (InputLayer)  [(None, 30)]              0         \n",
      "_________________________________________________________________\n",
      "main_vf_fc_0 (Dense)         (None, 40)                1240      \n",
      "_________________________________________________________________\n",
      "main_vf_fc_1 (Dense)         (None, 40)                1640      \n",
      "_________________________________________________________________\n",
      "main_vf_fc_2 (Dense)         (None, 40)                1640      \n",
      "_________________________________________________________________\n",
      "main_vf_fc_q_out (Dense)     (None, 3)                 123       \n",
      "=================================================================\n",
      "Total params: 4,643\n",
      "Trainable params: 4,643\n",
      "Non-trainable params: 0\n",
      "_________________________________________________________________\n",
      "None\n",
      "{'conv_activation': 'relu', 'conv_filters': [], 'use_lstm': False, 'max_seq_len': 20, 'custom_preprocessor': 'stratego_preprocessor', 'custom_model': 'sac_stratego_model', 'custom_options': {'mask_invalid_actions': True, 'observation_mode': 'partially_observable', 'q_fn': True, 'fake_lstm': False, 'use_lstm': False}, 'fcnet_activation': 'tanh', 'fcnet_hiddens': [40, 40, 40], 'free_log_std': False, 'no_final_linear': False, 'vf_share_layers': False, 'lstm_cell_size': 256, 'lstm_use_prev_action_reward': False, 'state_shape': None, 'framestack': True, 'dim': 84, 'grayscale': False, 'zero_mean': True, 'custom_action_dist': None}\n",
      "Box(33,)\n",
      "Model: \"model_5\"\n",
      "_________________________________________________________________\n",
      "Layer (type)                 Output Shape              Param #   \n",
      "=================================================================\n",
      "vf_observation (InputLayer)  [(None, 30)]              0         \n",
      "_________________________________________________________________\n",
      "twin_vf_fc_0 (Dense)         (None, 40)                1240      \n",
      "_________________________________________________________________\n",
      "twin_vf_fc_1 (Dense)         (None, 40)                1640      \n",
      "_________________________________________________________________\n",
      "twin_vf_fc_2 (Dense)         (None, 40)                1640      \n",
      "_________________________________________________________________\n",
      "twin_vf_fc_q_out (Dense)     (None, 3)                 123       \n",
      "=================================================================\n",
      "Total params: 4,643\n",
      "Trainable params: 4,643\n",
      "Non-trainable params: 0\n",
      "_________________________________________________________________\n",
      "None\n",
      "Model: \"model_3\"\n",
      "_________________________________________________________________\n",
      "Layer (type)                 Output Shape              Param #   \n",
      "=================================================================\n",
      "pi_observation (InputLayer)  [(None, 30)]              0         \n",
      "_________________________________________________________________\n",
      "pi_fc_0 (Dense)              (None, 40)                1240      \n",
      "_________________________________________________________________\n",
      "pi_fc_1 (Dense)              (None, 40)                1640      \n",
      "_________________________________________________________________\n",
      "pi_fc_2 (Dense)              (None, 40)                1640      \n",
      "_________________________________________________________________\n",
      "pi_fc_unmasked_logits (Dense (None, 3)                 123       \n",
      "=================================================================\n",
      "Total params: 4,643\n",
      "Trainable params: 4,643\n",
      "Non-trainable params: 0\n",
      "_________________________________________________________________\n",
      "None\n",
      "Model: \"model_4\"\n",
      "_________________________________________________________________\n",
      "Layer (type)                 Output Shape              Param #   \n",
      "=================================================================\n",
      "vf_observation (InputLayer)  [(None, 30)]              0         \n",
      "_________________________________________________________________\n",
      "main_vf_fc_0 (Dense)         (None, 40)                1240      \n",
      "_________________________________________________________________\n",
      "main_vf_fc_1 (Dense)         (None, 40)                1640      \n",
      "_________________________________________________________________\n",
      "main_vf_fc_2 (Dense)         (None, 40)                1640      \n",
      "_________________________________________________________________\n",
      "main_vf_fc_q_out (Dense)     (None, 3)                 123       \n",
      "=================================================================\n",
      "Total params: 4,643\n",
      "Trainable params: 4,643\n",
      "Non-trainable params: 0\n",
      "_________________________________________________________________\n",
      "None\n",
      "1 policies, 2.9916676634517585 exploitability\n",
      "2 policies, 1.9445549263139132 exploitability\n",
      "3 policies, 1.3935296989273387 exploitability\n",
      "4 policies, 1.2594374503987043 exploitability\n",
      "5 policies, 1.3681780871133238 exploitability\n",
      "6 policies, 1.5390611181390002 exploitability\n",
      "7 policies, 1.3905863131316307 exploitability\n",
      "8 policies, 1.2959715532091642 exploitability\n",
      "9 policies, 1.283388165828001 exploitability\n",
      "10 policies, 1.1986014831536302 exploitability\n",
      "11 policies, 1.0818621969630628 exploitability\n",
      "12 policies, 0.9805707497728504 exploitability\n",
      "13 policies, 1.06398845882958 exploitability\n",
      "14 policies, 1.05351868002492 exploitability\n",
      "15 policies, 0.962596958870072 exploitability\n",
      "16 policies, 0.8726073134524391 exploitability\n",
      "17 policies, 0.8409976781265569 exploitability\n",
      "18 policies, 0.8178263348751168 exploitability\n"
     ]
    },
    {
     "name": "stdout",
     "output_type": "stream",
     "text": [
      "19 policies, 0.819706929876769 exploitability\n",
      "20 policies, 0.7818787387689884 exploitability\n",
      "21 policies, 0.7619052322117581 exploitability\n",
      "22 policies, 0.7600882366089301 exploitability\n",
      "23 policies, 0.751277620647232 exploitability\n",
      "24 policies, 0.7193328619354168 exploitability\n",
      "25 policies, 0.7139441413566245 exploitability\n",
      "26 policies, 0.7009118592578034 exploitability\n",
      "27 policies, 0.707780861987236 exploitability\n",
      "28 policies, 0.7138713694857135 exploitability\n",
      "29 policies, 0.6921403831663034 exploitability\n",
      "30 policies, 0.690202059842426 exploitability\n",
      "31 policies, 0.6931149762546837 exploitability\n",
      "32 policies, 0.6842320452092192 exploitability\n",
      "33 policies, 0.6770957431091358 exploitability\n",
      "34 policies, 0.6671562606473854 exploitability\n",
      "35 policies, 0.6604554766669317 exploitability\n",
      "36 policies, 0.6495775240007442 exploitability\n",
      "37 policies, 0.6428253115107566 exploitability\n",
      "38 policies, 0.6275349430794468 exploitability\n",
      "39 policies, 0.6117898193419141 exploitability\n",
      "40 policies, 0.6137722421135552 exploitability\n",
      "41 policies, 0.6043256946158357 exploitability\n",
      "42 policies, 0.605646786256432 exploitability\n",
      "43 policies, 0.5982951182407303 exploitability\n",
      "44 policies, 0.5878529272898284 exploitability\n",
      "45 policies, 0.5871256181902992 exploitability\n",
      "46 policies, 0.5882730652063424 exploitability\n",
      "47 policies, 0.5848794701674906 exploitability\n",
      "48 policies, 0.5783961833537302 exploitability\n",
      "49 policies, 0.5886309249052367 exploitability\n",
      "50 policies, 0.5818063766259416 exploitability\n",
      "51 policies, 0.5839819225584177 exploitability\n",
      "52 policies, 0.584999364651892 exploitability\n",
      "53 policies, 0.5742248383326268 exploitability\n",
      "54 policies, 0.5876928198889817 exploitability\n",
      "55 policies, 0.589819587049695 exploitability\n",
      "56 policies, 0.5881634700631023 exploitability\n",
      "57 policies, 0.5830236852072104 exploitability\n",
      "58 policies, 0.5822811962614152 exploitability\n",
      "59 policies, 0.5803293254212506 exploitability\n",
      "60 policies, 0.5822901420942 exploitability\n",
      "61 policies, 0.5746586253116821 exploitability\n",
      "62 policies, 0.572228012263135 exploitability\n",
      "63 policies, 0.5767160381881503 exploitability\n",
      "64 policies, 0.5770983018510395 exploitability\n",
      "65 policies, 0.5787713493875938 exploitability\n",
      "66 policies, 0.5758044873013541 exploitability\n",
      "67 policies, 0.5663106050090283 exploitability\n",
      "68 policies, 0.5698803199630964 exploitability\n",
      "69 policies, 0.5625175913243554 exploitability\n",
      "70 policies, 0.5595646189912116 exploitability\n",
      "71 policies, 0.5594008973026157 exploitability\n",
      "72 policies, 0.5556308818817239 exploitability\n",
      "73 policies, 0.5557733691241774 exploitability\n",
      "74 policies, 0.5496638356217678 exploitability\n",
      "75 policies, 0.5496717607921409 exploitability\n",
      "76 policies, 0.5417543391040133 exploitability\n",
      "77 policies, 0.5465362344242725 exploitability\n",
      "78 policies, 0.5393417334153244 exploitability\n",
      "79 policies, 0.5384297971892502 exploitability\n",
      "80 policies, 0.5377820721914608 exploitability\n",
      "81 policies, 0.540980197684424 exploitability\n",
      "82 policies, 0.5453085000044884 exploitability\n",
      "83 policies, 0.545267394095568 exploitability\n",
      "84 policies, 0.5460310866884109 exploitability\n",
      "85 policies, 0.5393636204545244 exploitability\n",
      "86 policies, 0.5390102239746257 exploitability\n",
      "87 policies, 0.5432026346839506 exploitability\n",
      "88 policies, 0.5412635003624713 exploitability\n",
      "89 policies, 0.5456645210641052 exploitability\n",
      "90 policies, 0.546456492118758 exploitability\n",
      "1 policies, 2.720207008215998 exploitability\n",
      "2 policies, 1.566462536113363 exploitability\n",
      "3 policies, 1.3325366687710374 exploitability\n",
      "4 policies, 1.3383745854444877 exploitability\n",
      "5 policies, 1.1011002688062392 exploitability\n",
      "6 policies, 1.0066709323419782 exploitability\n",
      "7 policies, 1.0041979953452094 exploitability\n",
      "8 policies, 0.8944916406596212 exploitability\n",
      "9 policies, 0.8623235467535842 exploitability\n",
      "10 policies, 0.8553033018074709 exploitability\n",
      "11 policies, 0.8104206246449721 exploitability\n",
      "12 policies, 0.847851261751573 exploitability\n",
      "13 policies, 0.7803112756151442 exploitability\n",
      "14 policies, 0.7822916182107508 exploitability\n",
      "15 policies, 0.7519785949204392 exploitability\n",
      "16 policies, 0.7266351715232495 exploitability\n",
      "17 policies, 0.7260627883048216 exploitability\n",
      "18 policies, 0.7015089584325322 exploitability\n",
      "19 policies, 0.6961124323358732 exploitability\n",
      "20 policies, 0.6739747236277632 exploitability\n",
      "21 policies, 0.6505681368079126 exploitability\n",
      "22 policies, 0.6388366247594601 exploitability\n",
      "23 policies, 0.6109774071762698 exploitability\n",
      "24 policies, 0.6008889773408468 exploitability\n"
     ]
    }
   ],
   "source": [
    "leduc_payoff_table_keys, leduc_exp_names = zip(*leduc_experiment_payoff_tables_and_names)\n",
    "\n",
    "leduc_perf_df = get_exploitability_stats_over_time_for_payoff_table_all_same_poker_version(\n",
    "    payoff_table_keys=leduc_payoff_table_keys,\n",
    "    exp_names=leduc_exp_names,\n",
    "    poker_game_version=\"leduc_poker\",\n",
    "    model_config_key=POKER_ARCH1_MODEL_CONFIG_KEY\n",
    ")\n"
   ]
  },
  {
   "cell_type": "code",
   "execution_count": 7,
   "metadata": {
    "pycharm": {
     "is_executing": true,
     "name": "#%%\n"
    },
    "scrolled": true
   },
   "outputs": [
    {
     "data": {
      "application/vnd.plotly.v1+json": {
       "config": {
        "plotlyServerURL": "https://plot.ly"
       },
       "data": [
        {
         "hoverlabel": {
          "namelength": 0
         },
         "hovertemplate": "experiment_name=Leduc Seq PSRO Expl 0.0<br>total_episodes=%{x}<br>exploitability=%{y}",
         "legendgroup": "experiment_name=Leduc Seq PSRO Expl 0.0",
         "line": {
          "color": "#636efa",
          "dash": "solid"
         },
         "mode": "lines",
         "name": "experiment_name=Leduc Seq PSRO Expl 0.0",
         "showlegend": true,
         "type": "scatter",
         "x": [
          25733,
          47796,
          75179,
          95906,
          123640,
          146511,
          179008,
          205794,
          229288,
          252988,
          277122,
          297330,
          317553,
          344617,
          381596,
          411464,
          444342,
          464114,
          488648,
          513621,
          533899,
          558337,
          579211,
          611514,
          637801,
          659328,
          691603,
          722936,
          755544,
          781510,
          805156,
          829100,
          857851,
          878395,
          904468,
          925059,
          946995,
          973086,
          1005787,
          1027960,
          1053151,
          1074555,
          1101084,
          1132185,
          1154408,
          1184563,
          1205006,
          1242616,
          1267793,
          1292071,
          1325110,
          1350056,
          1371894,
          1393796,
          1419501,
          1450200,
          1481081,
          1511864,
          1533267,
          1563361,
          1584879,
          1606800,
          1630796,
          1657250,
          1679289,
          1700964,
          1729918,
          1752443,
          1778953,
          1808730,
          1836041,
          1866563,
          1907121,
          1942803,
          1979234,
          2003460,
          2026593,
          2058840,
          2081302,
          2104224,
          2122082,
          2150266,
          2176833,
          2198170,
          2220395,
          2251444,
          2274077,
          2306068,
          2324034,
          2346936
         ],
         "xaxis": "x",
         "y": [
          2.9916676634517585,
          1.9445549263139132,
          1.3935296989273387,
          1.2594374503987043,
          1.3681780871133238,
          1.5390611181390002,
          1.3905863131316307,
          1.2959715532091642,
          1.283388165828001,
          1.1986014831536302,
          1.0818621969630628,
          0.9805707497728504,
          1.06398845882958,
          1.05351868002492,
          0.962596958870072,
          0.8726073134524391,
          0.8409976781265569,
          0.8178263348751168,
          0.819706929876769,
          0.7818787387689884,
          0.7619052322117581,
          0.7600882366089301,
          0.751277620647232,
          0.7193328619354168,
          0.7139441413566245,
          0.7009118592578034,
          0.707780861987236,
          0.7138713694857135,
          0.6921403831663034,
          0.690202059842426,
          0.6931149762546837,
          0.6842320452092192,
          0.6770957431091358,
          0.6671562606473854,
          0.6604554766669317,
          0.6495775240007442,
          0.6428253115107566,
          0.6275349430794468,
          0.6117898193419141,
          0.6137722421135552,
          0.6043256946158357,
          0.605646786256432,
          0.5982951182407303,
          0.5878529272898284,
          0.5871256181902992,
          0.5882730652063424,
          0.5848794701674906,
          0.5783961833537302,
          0.5886309249052367,
          0.5818063766259416,
          0.5839819225584177,
          0.584999364651892,
          0.5742248383326268,
          0.5876928198889817,
          0.589819587049695,
          0.5881634700631023,
          0.5830236852072104,
          0.5822811962614152,
          0.5803293254212506,
          0.5822901420942,
          0.5746586253116821,
          0.572228012263135,
          0.5767160381881503,
          0.5770983018510395,
          0.5787713493875938,
          0.5758044873013541,
          0.5663106050090283,
          0.5698803199630964,
          0.5625175913243554,
          0.5595646189912116,
          0.5594008973026157,
          0.5556308818817239,
          0.5557733691241774,
          0.5496638356217678,
          0.5496717607921409,
          0.5417543391040133,
          0.5465362344242725,
          0.5393417334153244,
          0.5384297971892502,
          0.5377820721914608,
          0.540980197684424,
          0.5453085000044884,
          0.545267394095568,
          0.5460310866884109,
          0.5393636204545244,
          0.5390102239746257,
          0.5432026346839506,
          0.5412635003624713,
          0.5456645210641052,
          0.546456492118758
         ],
         "yaxis": "y"
        },
        {
         "hoverlabel": {
          "namelength": 0
         },
         "hovertemplate": "experiment_name=Leduc Seq PSRO Expl 0.1<br>total_episodes=%{x}<br>exploitability=%{y}",
         "legendgroup": "experiment_name=Leduc Seq PSRO Expl 0.1",
         "line": {
          "color": "#EF553B",
          "dash": "solid"
         },
         "mode": "lines",
         "name": "experiment_name=Leduc Seq PSRO Expl 0.1",
         "showlegend": true,
         "type": "scatter",
         "x": [
          29855,
          56445,
          83212,
          110001,
          144731,
          182303,
          221119,
          244922,
          270598,
          291867,
          313158,
          354139,
          379152,
          407583,
          436049,
          466432,
          485854,
          514006,
          533945,
          561374,
          582240,
          603339,
          628338,
          661681
         ],
         "xaxis": "x",
         "y": [
          2.720207008215998,
          1.566462536113363,
          1.3325366687710374,
          1.3383745854444877,
          1.1011002688062392,
          1.0066709323419782,
          1.0041979953452094,
          0.8944916406596212,
          0.8623235467535842,
          0.8553033018074709,
          0.8104206246449721,
          0.847851261751573,
          0.7803112756151442,
          0.7822916182107508,
          0.7519785949204392,
          0.7266351715232495,
          0.7260627883048216,
          0.7015089584325322,
          0.6961124323358732,
          0.6739747236277632,
          0.6505681368079126,
          0.6388366247594601,
          0.6109774071762698,
          0.6008889773408468
         ],
         "yaxis": "y"
        }
       ],
       "layout": {
        "height": 600,
        "legend": {
         "tracegroupgap": 0
        },
        "template": {
         "data": {
          "bar": [
           {
            "error_x": {
             "color": "#2a3f5f"
            },
            "error_y": {
             "color": "#2a3f5f"
            },
            "marker": {
             "line": {
              "color": "#E5ECF6",
              "width": 0.5
             }
            },
            "type": "bar"
           }
          ],
          "barpolar": [
           {
            "marker": {
             "line": {
              "color": "#E5ECF6",
              "width": 0.5
             }
            },
            "type": "barpolar"
           }
          ],
          "carpet": [
           {
            "aaxis": {
             "endlinecolor": "#2a3f5f",
             "gridcolor": "white",
             "linecolor": "white",
             "minorgridcolor": "white",
             "startlinecolor": "#2a3f5f"
            },
            "baxis": {
             "endlinecolor": "#2a3f5f",
             "gridcolor": "white",
             "linecolor": "white",
             "minorgridcolor": "white",
             "startlinecolor": "#2a3f5f"
            },
            "type": "carpet"
           }
          ],
          "choropleth": [
           {
            "colorbar": {
             "outlinewidth": 0,
             "ticks": ""
            },
            "type": "choropleth"
           }
          ],
          "contour": [
           {
            "colorbar": {
             "outlinewidth": 0,
             "ticks": ""
            },
            "colorscale": [
             [
              0,
              "#0d0887"
             ],
             [
              0.1111111111111111,
              "#46039f"
             ],
             [
              0.2222222222222222,
              "#7201a8"
             ],
             [
              0.3333333333333333,
              "#9c179e"
             ],
             [
              0.4444444444444444,
              "#bd3786"
             ],
             [
              0.5555555555555556,
              "#d8576b"
             ],
             [
              0.6666666666666666,
              "#ed7953"
             ],
             [
              0.7777777777777778,
              "#fb9f3a"
             ],
             [
              0.8888888888888888,
              "#fdca26"
             ],
             [
              1,
              "#f0f921"
             ]
            ],
            "type": "contour"
           }
          ],
          "contourcarpet": [
           {
            "colorbar": {
             "outlinewidth": 0,
             "ticks": ""
            },
            "type": "contourcarpet"
           }
          ],
          "heatmap": [
           {
            "colorbar": {
             "outlinewidth": 0,
             "ticks": ""
            },
            "colorscale": [
             [
              0,
              "#0d0887"
             ],
             [
              0.1111111111111111,
              "#46039f"
             ],
             [
              0.2222222222222222,
              "#7201a8"
             ],
             [
              0.3333333333333333,
              "#9c179e"
             ],
             [
              0.4444444444444444,
              "#bd3786"
             ],
             [
              0.5555555555555556,
              "#d8576b"
             ],
             [
              0.6666666666666666,
              "#ed7953"
             ],
             [
              0.7777777777777778,
              "#fb9f3a"
             ],
             [
              0.8888888888888888,
              "#fdca26"
             ],
             [
              1,
              "#f0f921"
             ]
            ],
            "type": "heatmap"
           }
          ],
          "heatmapgl": [
           {
            "colorbar": {
             "outlinewidth": 0,
             "ticks": ""
            },
            "colorscale": [
             [
              0,
              "#0d0887"
             ],
             [
              0.1111111111111111,
              "#46039f"
             ],
             [
              0.2222222222222222,
              "#7201a8"
             ],
             [
              0.3333333333333333,
              "#9c179e"
             ],
             [
              0.4444444444444444,
              "#bd3786"
             ],
             [
              0.5555555555555556,
              "#d8576b"
             ],
             [
              0.6666666666666666,
              "#ed7953"
             ],
             [
              0.7777777777777778,
              "#fb9f3a"
             ],
             [
              0.8888888888888888,
              "#fdca26"
             ],
             [
              1,
              "#f0f921"
             ]
            ],
            "type": "heatmapgl"
           }
          ],
          "histogram": [
           {
            "marker": {
             "colorbar": {
              "outlinewidth": 0,
              "ticks": ""
             }
            },
            "type": "histogram"
           }
          ],
          "histogram2d": [
           {
            "colorbar": {
             "outlinewidth": 0,
             "ticks": ""
            },
            "colorscale": [
             [
              0,
              "#0d0887"
             ],
             [
              0.1111111111111111,
              "#46039f"
             ],
             [
              0.2222222222222222,
              "#7201a8"
             ],
             [
              0.3333333333333333,
              "#9c179e"
             ],
             [
              0.4444444444444444,
              "#bd3786"
             ],
             [
              0.5555555555555556,
              "#d8576b"
             ],
             [
              0.6666666666666666,
              "#ed7953"
             ],
             [
              0.7777777777777778,
              "#fb9f3a"
             ],
             [
              0.8888888888888888,
              "#fdca26"
             ],
             [
              1,
              "#f0f921"
             ]
            ],
            "type": "histogram2d"
           }
          ],
          "histogram2dcontour": [
           {
            "colorbar": {
             "outlinewidth": 0,
             "ticks": ""
            },
            "colorscale": [
             [
              0,
              "#0d0887"
             ],
             [
              0.1111111111111111,
              "#46039f"
             ],
             [
              0.2222222222222222,
              "#7201a8"
             ],
             [
              0.3333333333333333,
              "#9c179e"
             ],
             [
              0.4444444444444444,
              "#bd3786"
             ],
             [
              0.5555555555555556,
              "#d8576b"
             ],
             [
              0.6666666666666666,
              "#ed7953"
             ],
             [
              0.7777777777777778,
              "#fb9f3a"
             ],
             [
              0.8888888888888888,
              "#fdca26"
             ],
             [
              1,
              "#f0f921"
             ]
            ],
            "type": "histogram2dcontour"
           }
          ],
          "mesh3d": [
           {
            "colorbar": {
             "outlinewidth": 0,
             "ticks": ""
            },
            "type": "mesh3d"
           }
          ],
          "parcoords": [
           {
            "line": {
             "colorbar": {
              "outlinewidth": 0,
              "ticks": ""
             }
            },
            "type": "parcoords"
           }
          ],
          "scatter": [
           {
            "marker": {
             "colorbar": {
              "outlinewidth": 0,
              "ticks": ""
             }
            },
            "type": "scatter"
           }
          ],
          "scatter3d": [
           {
            "line": {
             "colorbar": {
              "outlinewidth": 0,
              "ticks": ""
             }
            },
            "marker": {
             "colorbar": {
              "outlinewidth": 0,
              "ticks": ""
             }
            },
            "type": "scatter3d"
           }
          ],
          "scattercarpet": [
           {
            "marker": {
             "colorbar": {
              "outlinewidth": 0,
              "ticks": ""
             }
            },
            "type": "scattercarpet"
           }
          ],
          "scattergeo": [
           {
            "marker": {
             "colorbar": {
              "outlinewidth": 0,
              "ticks": ""
             }
            },
            "type": "scattergeo"
           }
          ],
          "scattergl": [
           {
            "marker": {
             "colorbar": {
              "outlinewidth": 0,
              "ticks": ""
             }
            },
            "type": "scattergl"
           }
          ],
          "scattermapbox": [
           {
            "marker": {
             "colorbar": {
              "outlinewidth": 0,
              "ticks": ""
             }
            },
            "type": "scattermapbox"
           }
          ],
          "scatterpolar": [
           {
            "marker": {
             "colorbar": {
              "outlinewidth": 0,
              "ticks": ""
             }
            },
            "type": "scatterpolar"
           }
          ],
          "scatterpolargl": [
           {
            "marker": {
             "colorbar": {
              "outlinewidth": 0,
              "ticks": ""
             }
            },
            "type": "scatterpolargl"
           }
          ],
          "scatterternary": [
           {
            "marker": {
             "colorbar": {
              "outlinewidth": 0,
              "ticks": ""
             }
            },
            "type": "scatterternary"
           }
          ],
          "surface": [
           {
            "colorbar": {
             "outlinewidth": 0,
             "ticks": ""
            },
            "colorscale": [
             [
              0,
              "#0d0887"
             ],
             [
              0.1111111111111111,
              "#46039f"
             ],
             [
              0.2222222222222222,
              "#7201a8"
             ],
             [
              0.3333333333333333,
              "#9c179e"
             ],
             [
              0.4444444444444444,
              "#bd3786"
             ],
             [
              0.5555555555555556,
              "#d8576b"
             ],
             [
              0.6666666666666666,
              "#ed7953"
             ],
             [
              0.7777777777777778,
              "#fb9f3a"
             ],
             [
              0.8888888888888888,
              "#fdca26"
             ],
             [
              1,
              "#f0f921"
             ]
            ],
            "type": "surface"
           }
          ],
          "table": [
           {
            "cells": {
             "fill": {
              "color": "#EBF0F8"
             },
             "line": {
              "color": "white"
             }
            },
            "header": {
             "fill": {
              "color": "#C8D4E3"
             },
             "line": {
              "color": "white"
             }
            },
            "type": "table"
           }
          ]
         },
         "layout": {
          "annotationdefaults": {
           "arrowcolor": "#2a3f5f",
           "arrowhead": 0,
           "arrowwidth": 1
          },
          "colorscale": {
           "diverging": [
            [
             0,
             "#8e0152"
            ],
            [
             0.1,
             "#c51b7d"
            ],
            [
             0.2,
             "#de77ae"
            ],
            [
             0.3,
             "#f1b6da"
            ],
            [
             0.4,
             "#fde0ef"
            ],
            [
             0.5,
             "#f7f7f7"
            ],
            [
             0.6,
             "#e6f5d0"
            ],
            [
             0.7,
             "#b8e186"
            ],
            [
             0.8,
             "#7fbc41"
            ],
            [
             0.9,
             "#4d9221"
            ],
            [
             1,
             "#276419"
            ]
           ],
           "sequential": [
            [
             0,
             "#0d0887"
            ],
            [
             0.1111111111111111,
             "#46039f"
            ],
            [
             0.2222222222222222,
             "#7201a8"
            ],
            [
             0.3333333333333333,
             "#9c179e"
            ],
            [
             0.4444444444444444,
             "#bd3786"
            ],
            [
             0.5555555555555556,
             "#d8576b"
            ],
            [
             0.6666666666666666,
             "#ed7953"
            ],
            [
             0.7777777777777778,
             "#fb9f3a"
            ],
            [
             0.8888888888888888,
             "#fdca26"
            ],
            [
             1,
             "#f0f921"
            ]
           ],
           "sequentialminus": [
            [
             0,
             "#0d0887"
            ],
            [
             0.1111111111111111,
             "#46039f"
            ],
            [
             0.2222222222222222,
             "#7201a8"
            ],
            [
             0.3333333333333333,
             "#9c179e"
            ],
            [
             0.4444444444444444,
             "#bd3786"
            ],
            [
             0.5555555555555556,
             "#d8576b"
            ],
            [
             0.6666666666666666,
             "#ed7953"
            ],
            [
             0.7777777777777778,
             "#fb9f3a"
            ],
            [
             0.8888888888888888,
             "#fdca26"
            ],
            [
             1,
             "#f0f921"
            ]
           ]
          },
          "colorway": [
           "#636efa",
           "#EF553B",
           "#00cc96",
           "#ab63fa",
           "#FFA15A",
           "#19d3f3",
           "#FF6692",
           "#B6E880",
           "#FF97FF",
           "#FECB52"
          ],
          "font": {
           "color": "#2a3f5f"
          },
          "geo": {
           "bgcolor": "white",
           "lakecolor": "white",
           "landcolor": "#E5ECF6",
           "showlakes": true,
           "showland": true,
           "subunitcolor": "white"
          },
          "hoverlabel": {
           "align": "left"
          },
          "hovermode": "closest",
          "mapbox": {
           "style": "light"
          },
          "paper_bgcolor": "white",
          "plot_bgcolor": "#E5ECF6",
          "polar": {
           "angularaxis": {
            "gridcolor": "white",
            "linecolor": "white",
            "ticks": ""
           },
           "bgcolor": "#E5ECF6",
           "radialaxis": {
            "gridcolor": "white",
            "linecolor": "white",
            "ticks": ""
           }
          },
          "scene": {
           "xaxis": {
            "backgroundcolor": "#E5ECF6",
            "gridcolor": "white",
            "gridwidth": 2,
            "linecolor": "white",
            "showbackground": true,
            "ticks": "",
            "zerolinecolor": "white"
           },
           "yaxis": {
            "backgroundcolor": "#E5ECF6",
            "gridcolor": "white",
            "gridwidth": 2,
            "linecolor": "white",
            "showbackground": true,
            "ticks": "",
            "zerolinecolor": "white"
           },
           "zaxis": {
            "backgroundcolor": "#E5ECF6",
            "gridcolor": "white",
            "gridwidth": 2,
            "linecolor": "white",
            "showbackground": true,
            "ticks": "",
            "zerolinecolor": "white"
           }
          },
          "shapedefaults": {
           "line": {
            "color": "#2a3f5f"
           }
          },
          "ternary": {
           "aaxis": {
            "gridcolor": "white",
            "linecolor": "white",
            "ticks": ""
           },
           "baxis": {
            "gridcolor": "white",
            "linecolor": "white",
            "ticks": ""
           },
           "bgcolor": "#E5ECF6",
           "caxis": {
            "gridcolor": "white",
            "linecolor": "white",
            "ticks": ""
           }
          },
          "title": {
           "x": 0.05
          },
          "xaxis": {
           "automargin": true,
           "gridcolor": "white",
           "linecolor": "white",
           "ticks": "",
           "zerolinecolor": "white",
           "zerolinewidth": 2
          },
          "yaxis": {
           "automargin": true,
           "gridcolor": "white",
           "linecolor": "white",
           "ticks": "",
           "zerolinecolor": "white",
           "zerolinewidth": 2
          }
         }
        },
        "title": {
         "text": "Exploibility over time"
        },
        "xaxis": {
         "anchor": "y",
         "domain": [
          0,
          0.98
         ],
         "title": {
          "text": "total_episodes"
         }
        },
        "yaxis": {
         "anchor": "x",
         "domain": [
          0,
          1
         ],
         "title": {
          "text": "exploitability"
         }
        }
       }
      },
      "text/html": [
       "<div>\n",
       "        \n",
       "        \n",
       "            <div id=\"d5f734e5-019f-4ae0-8aab-b8174a1fc458\" class=\"plotly-graph-div\" style=\"height:600px; width:100%;\"></div>\n",
       "            <script type=\"text/javascript\">\n",
       "                require([\"plotly\"], function(Plotly) {\n",
       "                    window.PLOTLYENV=window.PLOTLYENV || {};\n",
       "                    \n",
       "                if (document.getElementById(\"d5f734e5-019f-4ae0-8aab-b8174a1fc458\")) {\n",
       "                    Plotly.newPlot(\n",
       "                        'd5f734e5-019f-4ae0-8aab-b8174a1fc458',\n",
       "                        [{\"hoverlabel\": {\"namelength\": 0}, \"hovertemplate\": \"experiment_name=Leduc Seq PSRO Expl 0.0<br>total_episodes=%{x}<br>exploitability=%{y}\", \"legendgroup\": \"experiment_name=Leduc Seq PSRO Expl 0.0\", \"line\": {\"color\": \"#636efa\", \"dash\": \"solid\"}, \"mode\": \"lines\", \"name\": \"experiment_name=Leduc Seq PSRO Expl 0.0\", \"showlegend\": true, \"type\": \"scatter\", \"x\": [25733, 47796, 75179, 95906, 123640, 146511, 179008, 205794, 229288, 252988, 277122, 297330, 317553, 344617, 381596, 411464, 444342, 464114, 488648, 513621, 533899, 558337, 579211, 611514, 637801, 659328, 691603, 722936, 755544, 781510, 805156, 829100, 857851, 878395, 904468, 925059, 946995, 973086, 1005787, 1027960, 1053151, 1074555, 1101084, 1132185, 1154408, 1184563, 1205006, 1242616, 1267793, 1292071, 1325110, 1350056, 1371894, 1393796, 1419501, 1450200, 1481081, 1511864, 1533267, 1563361, 1584879, 1606800, 1630796, 1657250, 1679289, 1700964, 1729918, 1752443, 1778953, 1808730, 1836041, 1866563, 1907121, 1942803, 1979234, 2003460, 2026593, 2058840, 2081302, 2104224, 2122082, 2150266, 2176833, 2198170, 2220395, 2251444, 2274077, 2306068, 2324034, 2346936], \"xaxis\": \"x\", \"y\": [2.9916676634517585, 1.9445549263139132, 1.3935296989273387, 1.2594374503987043, 1.3681780871133238, 1.5390611181390002, 1.3905863131316307, 1.2959715532091642, 1.283388165828001, 1.1986014831536302, 1.0818621969630628, 0.9805707497728504, 1.06398845882958, 1.05351868002492, 0.962596958870072, 0.8726073134524391, 0.8409976781265569, 0.8178263348751168, 0.819706929876769, 0.7818787387689884, 0.7619052322117581, 0.7600882366089301, 0.751277620647232, 0.7193328619354168, 0.7139441413566245, 0.7009118592578034, 0.707780861987236, 0.7138713694857135, 0.6921403831663034, 0.690202059842426, 0.6931149762546837, 0.6842320452092192, 0.6770957431091358, 0.6671562606473854, 0.6604554766669317, 0.6495775240007442, 0.6428253115107566, 0.6275349430794468, 0.6117898193419141, 0.6137722421135552, 0.6043256946158357, 0.605646786256432, 0.5982951182407303, 0.5878529272898284, 0.5871256181902992, 0.5882730652063424, 0.5848794701674906, 0.5783961833537302, 0.5886309249052367, 0.5818063766259416, 0.5839819225584177, 0.584999364651892, 0.5742248383326268, 0.5876928198889817, 0.589819587049695, 0.5881634700631023, 0.5830236852072104, 0.5822811962614152, 0.5803293254212506, 0.5822901420942, 0.5746586253116821, 0.572228012263135, 0.5767160381881503, 0.5770983018510395, 0.5787713493875938, 0.5758044873013541, 0.5663106050090283, 0.5698803199630964, 0.5625175913243554, 0.5595646189912116, 0.5594008973026157, 0.5556308818817239, 0.5557733691241774, 0.5496638356217678, 0.5496717607921409, 0.5417543391040133, 0.5465362344242725, 0.5393417334153244, 0.5384297971892502, 0.5377820721914608, 0.540980197684424, 0.5453085000044884, 0.545267394095568, 0.5460310866884109, 0.5393636204545244, 0.5390102239746257, 0.5432026346839506, 0.5412635003624713, 0.5456645210641052, 0.546456492118758], \"yaxis\": \"y\"}, {\"hoverlabel\": {\"namelength\": 0}, \"hovertemplate\": \"experiment_name=Leduc Seq PSRO Expl 0.1<br>total_episodes=%{x}<br>exploitability=%{y}\", \"legendgroup\": \"experiment_name=Leduc Seq PSRO Expl 0.1\", \"line\": {\"color\": \"#EF553B\", \"dash\": \"solid\"}, \"mode\": \"lines\", \"name\": \"experiment_name=Leduc Seq PSRO Expl 0.1\", \"showlegend\": true, \"type\": \"scatter\", \"x\": [29855, 56445, 83212, 110001, 144731, 182303, 221119, 244922, 270598, 291867, 313158, 354139, 379152, 407583, 436049, 466432, 485854, 514006, 533945, 561374, 582240, 603339, 628338, 661681], \"xaxis\": \"x\", \"y\": [2.720207008215998, 1.566462536113363, 1.3325366687710374, 1.3383745854444877, 1.1011002688062392, 1.0066709323419782, 1.0041979953452094, 0.8944916406596212, 0.8623235467535842, 0.8553033018074709, 0.8104206246449721, 0.847851261751573, 0.7803112756151442, 0.7822916182107508, 0.7519785949204392, 0.7266351715232495, 0.7260627883048216, 0.7015089584325322, 0.6961124323358732, 0.6739747236277632, 0.6505681368079126, 0.6388366247594601, 0.6109774071762698, 0.6008889773408468], \"yaxis\": \"y\"}],\n",
       "                        {\"height\": 600, \"legend\": {\"tracegroupgap\": 0}, \"template\": {\"data\": {\"bar\": [{\"error_x\": {\"color\": \"#2a3f5f\"}, \"error_y\": {\"color\": \"#2a3f5f\"}, \"marker\": {\"line\": {\"color\": \"#E5ECF6\", \"width\": 0.5}}, \"type\": \"bar\"}], \"barpolar\": [{\"marker\": {\"line\": {\"color\": \"#E5ECF6\", \"width\": 0.5}}, \"type\": \"barpolar\"}], \"carpet\": [{\"aaxis\": {\"endlinecolor\": \"#2a3f5f\", \"gridcolor\": \"white\", \"linecolor\": \"white\", \"minorgridcolor\": \"white\", \"startlinecolor\": \"#2a3f5f\"}, \"baxis\": {\"endlinecolor\": \"#2a3f5f\", \"gridcolor\": \"white\", \"linecolor\": \"white\", \"minorgridcolor\": \"white\", \"startlinecolor\": \"#2a3f5f\"}, \"type\": \"carpet\"}], \"choropleth\": [{\"colorbar\": {\"outlinewidth\": 0, \"ticks\": \"\"}, \"type\": \"choropleth\"}], \"contour\": [{\"colorbar\": {\"outlinewidth\": 0, \"ticks\": \"\"}, \"colorscale\": [[0.0, \"#0d0887\"], [0.1111111111111111, \"#46039f\"], [0.2222222222222222, \"#7201a8\"], [0.3333333333333333, \"#9c179e\"], [0.4444444444444444, \"#bd3786\"], [0.5555555555555556, \"#d8576b\"], [0.6666666666666666, \"#ed7953\"], [0.7777777777777778, \"#fb9f3a\"], [0.8888888888888888, \"#fdca26\"], [1.0, \"#f0f921\"]], \"type\": \"contour\"}], \"contourcarpet\": [{\"colorbar\": {\"outlinewidth\": 0, \"ticks\": \"\"}, \"type\": \"contourcarpet\"}], \"heatmap\": [{\"colorbar\": {\"outlinewidth\": 0, \"ticks\": \"\"}, \"colorscale\": [[0.0, \"#0d0887\"], [0.1111111111111111, \"#46039f\"], [0.2222222222222222, \"#7201a8\"], [0.3333333333333333, \"#9c179e\"], [0.4444444444444444, \"#bd3786\"], [0.5555555555555556, \"#d8576b\"], [0.6666666666666666, \"#ed7953\"], [0.7777777777777778, \"#fb9f3a\"], [0.8888888888888888, \"#fdca26\"], [1.0, \"#f0f921\"]], \"type\": \"heatmap\"}], \"heatmapgl\": [{\"colorbar\": {\"outlinewidth\": 0, \"ticks\": \"\"}, \"colorscale\": [[0.0, \"#0d0887\"], [0.1111111111111111, \"#46039f\"], [0.2222222222222222, \"#7201a8\"], [0.3333333333333333, \"#9c179e\"], [0.4444444444444444, \"#bd3786\"], [0.5555555555555556, \"#d8576b\"], [0.6666666666666666, \"#ed7953\"], [0.7777777777777778, \"#fb9f3a\"], [0.8888888888888888, \"#fdca26\"], [1.0, \"#f0f921\"]], \"type\": \"heatmapgl\"}], \"histogram\": [{\"marker\": {\"colorbar\": {\"outlinewidth\": 0, \"ticks\": \"\"}}, \"type\": \"histogram\"}], \"histogram2d\": [{\"colorbar\": {\"outlinewidth\": 0, \"ticks\": \"\"}, \"colorscale\": [[0.0, \"#0d0887\"], [0.1111111111111111, \"#46039f\"], [0.2222222222222222, \"#7201a8\"], [0.3333333333333333, \"#9c179e\"], [0.4444444444444444, \"#bd3786\"], [0.5555555555555556, \"#d8576b\"], [0.6666666666666666, \"#ed7953\"], [0.7777777777777778, \"#fb9f3a\"], [0.8888888888888888, \"#fdca26\"], [1.0, \"#f0f921\"]], \"type\": \"histogram2d\"}], \"histogram2dcontour\": [{\"colorbar\": {\"outlinewidth\": 0, \"ticks\": \"\"}, \"colorscale\": [[0.0, \"#0d0887\"], [0.1111111111111111, \"#46039f\"], [0.2222222222222222, \"#7201a8\"], [0.3333333333333333, \"#9c179e\"], [0.4444444444444444, \"#bd3786\"], [0.5555555555555556, \"#d8576b\"], [0.6666666666666666, \"#ed7953\"], [0.7777777777777778, \"#fb9f3a\"], [0.8888888888888888, \"#fdca26\"], [1.0, \"#f0f921\"]], \"type\": \"histogram2dcontour\"}], \"mesh3d\": [{\"colorbar\": {\"outlinewidth\": 0, \"ticks\": \"\"}, \"type\": \"mesh3d\"}], \"parcoords\": [{\"line\": {\"colorbar\": {\"outlinewidth\": 0, \"ticks\": \"\"}}, \"type\": \"parcoords\"}], \"scatter\": [{\"marker\": {\"colorbar\": {\"outlinewidth\": 0, \"ticks\": \"\"}}, \"type\": \"scatter\"}], \"scatter3d\": [{\"line\": {\"colorbar\": {\"outlinewidth\": 0, \"ticks\": \"\"}}, \"marker\": {\"colorbar\": {\"outlinewidth\": 0, \"ticks\": \"\"}}, \"type\": \"scatter3d\"}], \"scattercarpet\": [{\"marker\": {\"colorbar\": {\"outlinewidth\": 0, \"ticks\": \"\"}}, \"type\": \"scattercarpet\"}], \"scattergeo\": [{\"marker\": {\"colorbar\": {\"outlinewidth\": 0, \"ticks\": \"\"}}, \"type\": \"scattergeo\"}], \"scattergl\": [{\"marker\": {\"colorbar\": {\"outlinewidth\": 0, \"ticks\": \"\"}}, \"type\": \"scattergl\"}], \"scattermapbox\": [{\"marker\": {\"colorbar\": {\"outlinewidth\": 0, \"ticks\": \"\"}}, \"type\": \"scattermapbox\"}], \"scatterpolar\": [{\"marker\": {\"colorbar\": {\"outlinewidth\": 0, \"ticks\": \"\"}}, \"type\": \"scatterpolar\"}], \"scatterpolargl\": [{\"marker\": {\"colorbar\": {\"outlinewidth\": 0, \"ticks\": \"\"}}, \"type\": \"scatterpolargl\"}], \"scatterternary\": [{\"marker\": {\"colorbar\": {\"outlinewidth\": 0, \"ticks\": \"\"}}, \"type\": \"scatterternary\"}], \"surface\": [{\"colorbar\": {\"outlinewidth\": 0, \"ticks\": \"\"}, \"colorscale\": [[0.0, \"#0d0887\"], [0.1111111111111111, \"#46039f\"], [0.2222222222222222, \"#7201a8\"], [0.3333333333333333, \"#9c179e\"], [0.4444444444444444, \"#bd3786\"], [0.5555555555555556, \"#d8576b\"], [0.6666666666666666, \"#ed7953\"], [0.7777777777777778, \"#fb9f3a\"], [0.8888888888888888, \"#fdca26\"], [1.0, \"#f0f921\"]], \"type\": \"surface\"}], \"table\": [{\"cells\": {\"fill\": {\"color\": \"#EBF0F8\"}, \"line\": {\"color\": \"white\"}}, \"header\": {\"fill\": {\"color\": \"#C8D4E3\"}, \"line\": {\"color\": \"white\"}}, \"type\": \"table\"}]}, \"layout\": {\"annotationdefaults\": {\"arrowcolor\": \"#2a3f5f\", \"arrowhead\": 0, \"arrowwidth\": 1}, \"colorscale\": {\"diverging\": [[0, \"#8e0152\"], [0.1, \"#c51b7d\"], [0.2, \"#de77ae\"], [0.3, \"#f1b6da\"], [0.4, \"#fde0ef\"], [0.5, \"#f7f7f7\"], [0.6, \"#e6f5d0\"], [0.7, \"#b8e186\"], [0.8, \"#7fbc41\"], [0.9, \"#4d9221\"], [1, \"#276419\"]], \"sequential\": [[0.0, \"#0d0887\"], [0.1111111111111111, \"#46039f\"], [0.2222222222222222, \"#7201a8\"], [0.3333333333333333, \"#9c179e\"], [0.4444444444444444, \"#bd3786\"], [0.5555555555555556, \"#d8576b\"], [0.6666666666666666, \"#ed7953\"], [0.7777777777777778, \"#fb9f3a\"], [0.8888888888888888, \"#fdca26\"], [1.0, \"#f0f921\"]], \"sequentialminus\": [[0.0, \"#0d0887\"], [0.1111111111111111, \"#46039f\"], [0.2222222222222222, \"#7201a8\"], [0.3333333333333333, \"#9c179e\"], [0.4444444444444444, \"#bd3786\"], [0.5555555555555556, \"#d8576b\"], [0.6666666666666666, \"#ed7953\"], [0.7777777777777778, \"#fb9f3a\"], [0.8888888888888888, \"#fdca26\"], [1.0, \"#f0f921\"]]}, \"colorway\": [\"#636efa\", \"#EF553B\", \"#00cc96\", \"#ab63fa\", \"#FFA15A\", \"#19d3f3\", \"#FF6692\", \"#B6E880\", \"#FF97FF\", \"#FECB52\"], \"font\": {\"color\": \"#2a3f5f\"}, \"geo\": {\"bgcolor\": \"white\", \"lakecolor\": \"white\", \"landcolor\": \"#E5ECF6\", \"showlakes\": true, \"showland\": true, \"subunitcolor\": \"white\"}, \"hoverlabel\": {\"align\": \"left\"}, \"hovermode\": \"closest\", \"mapbox\": {\"style\": \"light\"}, \"paper_bgcolor\": \"white\", \"plot_bgcolor\": \"#E5ECF6\", \"polar\": {\"angularaxis\": {\"gridcolor\": \"white\", \"linecolor\": \"white\", \"ticks\": \"\"}, \"bgcolor\": \"#E5ECF6\", \"radialaxis\": {\"gridcolor\": \"white\", \"linecolor\": \"white\", \"ticks\": \"\"}}, \"scene\": {\"xaxis\": {\"backgroundcolor\": \"#E5ECF6\", \"gridcolor\": \"white\", \"gridwidth\": 2, \"linecolor\": \"white\", \"showbackground\": true, \"ticks\": \"\", \"zerolinecolor\": \"white\"}, \"yaxis\": {\"backgroundcolor\": \"#E5ECF6\", \"gridcolor\": \"white\", \"gridwidth\": 2, \"linecolor\": \"white\", \"showbackground\": true, \"ticks\": \"\", \"zerolinecolor\": \"white\"}, \"zaxis\": {\"backgroundcolor\": \"#E5ECF6\", \"gridcolor\": \"white\", \"gridwidth\": 2, \"linecolor\": \"white\", \"showbackground\": true, \"ticks\": \"\", \"zerolinecolor\": \"white\"}}, \"shapedefaults\": {\"line\": {\"color\": \"#2a3f5f\"}}, \"ternary\": {\"aaxis\": {\"gridcolor\": \"white\", \"linecolor\": \"white\", \"ticks\": \"\"}, \"baxis\": {\"gridcolor\": \"white\", \"linecolor\": \"white\", \"ticks\": \"\"}, \"bgcolor\": \"#E5ECF6\", \"caxis\": {\"gridcolor\": \"white\", \"linecolor\": \"white\", \"ticks\": \"\"}}, \"title\": {\"x\": 0.05}, \"xaxis\": {\"automargin\": true, \"gridcolor\": \"white\", \"linecolor\": \"white\", \"ticks\": \"\", \"zerolinecolor\": \"white\", \"zerolinewidth\": 2}, \"yaxis\": {\"automargin\": true, \"gridcolor\": \"white\", \"linecolor\": \"white\", \"ticks\": \"\", \"zerolinecolor\": \"white\", \"zerolinewidth\": 2}}}, \"title\": {\"text\": \"Exploibility over time\"}, \"xaxis\": {\"anchor\": \"y\", \"domain\": [0.0, 0.98], \"title\": {\"text\": \"total_episodes\"}}, \"yaxis\": {\"anchor\": \"x\", \"domain\": [0.0, 1.0], \"title\": {\"text\": \"exploitability\"}}},\n",
       "                        {\"responsive\": true}\n",
       "                    ).then(function(){\n",
       "                            \n",
       "var gd = document.getElementById('d5f734e5-019f-4ae0-8aab-b8174a1fc458');\n",
       "var x = new MutationObserver(function (mutations, observer) {{\n",
       "        var display = window.getComputedStyle(gd).display;\n",
       "        if (!display || display === 'none') {{\n",
       "            console.log([gd, 'removed!']);\n",
       "            Plotly.purge(gd);\n",
       "            observer.disconnect();\n",
       "        }}\n",
       "}});\n",
       "\n",
       "// Listen for the removal of the full notebook cells\n",
       "var notebookContainer = gd.closest('#notebook-container');\n",
       "if (notebookContainer) {{\n",
       "    x.observe(notebookContainer, {childList: true});\n",
       "}}\n",
       "\n",
       "// Listen for the clearing of the current output cell\n",
       "var outputEl = gd.closest('.output');\n",
       "if (outputEl) {{\n",
       "    x.observe(outputEl, {childList: true});\n",
       "}}\n",
       "\n",
       "                        })\n",
       "                };\n",
       "                });\n",
       "            </script>\n",
       "        </div>"
      ]
     },
     "metadata": {},
     "output_type": "display_data"
    }
   ],
   "source": [
    "fig = px.line(leduc_perf_df, x=\"total_episodes\", y=\"exploitability\", title=f\"Exploibility over time\",\n",
    "        render_mode=\"svg\", color=\"experiment_name\")\n",
    "fig.show()"
   ]
  },
  {
   "cell_type": "code",
   "execution_count": null,
   "metadata": {
    "pycharm": {
     "is_executing": true
    },
    "scrolled": false
   },
   "outputs": [
    {
     "name": "stderr",
     "output_type": "stream",
     "text": [
      "/home/jb/ml/lib/python3.6/site-packages/gym/logger.py:30: UserWarning:\n",
      "\n",
      "\u001b[33mWARN: Box bound precision lowered by casting to float32\u001b[0m\n",
      "\n",
      "/home/jb/ml/lib/python3.6/site-packages/gym/logger.py:30: UserWarning:\n",
      "\n",
      "\u001b[33mWARN: Box bound precision lowered by casting to float32\u001b[0m\n",
      "\n",
      "/home/jb/ml/lib/python3.6/site-packages/gym/logger.py:30: UserWarning:\n",
      "\n",
      "\u001b[33mWARN: Box bound precision lowered by casting to float32\u001b[0m\n",
      "\n"
     ]
    },
    {
     "name": "stdout",
     "output_type": "stream",
     "text": [
      "{'conv_activation': 'relu', 'conv_filters': [], 'use_lstm': False, 'max_seq_len': 20, 'custom_preprocessor': 'stratego_preprocessor', 'custom_model': 'sac_stratego_model', 'custom_options': {'mask_invalid_actions': True, 'observation_mode': 'partially_observable', 'q_fn': True, 'fake_lstm': False, 'use_lstm': False}, 'fcnet_activation': 'tanh', 'fcnet_hiddens': [40, 40, 40], 'free_log_std': False, 'no_final_linear': False, 'vf_share_layers': False, 'lstm_cell_size': 256, 'lstm_use_prev_action_reward': False, 'state_shape': None, 'framestack': True, 'dim': 84, 'grayscale': False, 'zero_mean': True, 'custom_action_dist': None}\n",
      "Box(13,)\n"
     ]
    },
    {
     "name": "stderr",
     "output_type": "stream",
     "text": [
      "2020-05-31 18:28:36,643\tINFO catalog.py:363 -- Using custom preprocessor stratego_preprocessor\n"
     ]
    },
    {
     "name": "stdout",
     "output_type": "stream",
     "text": [
      "{'conv_activation': 'relu', 'conv_filters': [], 'use_lstm': False, 'max_seq_len': 20, 'custom_preprocessor': 'stratego_preprocessor', 'custom_model': 'sac_stratego_model', 'custom_options': {'mask_invalid_actions': True, 'observation_mode': 'partially_observable', 'q_fn': True, 'fake_lstm': False, 'use_lstm': False}, 'fcnet_activation': 'tanh', 'fcnet_hiddens': [40, 40, 40], 'free_log_std': False, 'no_final_linear': False, 'vf_share_layers': False, 'lstm_cell_size': 256, 'lstm_use_prev_action_reward': False, 'state_shape': None, 'framestack': True, 'dim': 84, 'grayscale': False, 'zero_mean': True, 'custom_action_dist': None}\n",
      "Box(13,)\n"
     ]
    },
    {
     "name": "stderr",
     "output_type": "stream",
     "text": [
      "2020-05-31 18:28:36,654\tINFO catalog.py:363 -- Using custom preprocessor stratego_preprocessor\n"
     ]
    },
    {
     "name": "stdout",
     "output_type": "stream",
     "text": [
      "{'conv_activation': 'relu', 'conv_filters': [], 'use_lstm': False, 'max_seq_len': 20, 'custom_preprocessor': 'stratego_preprocessor', 'custom_model': 'sac_stratego_model', 'custom_options': {'mask_invalid_actions': True, 'observation_mode': 'partially_observable', 'q_fn': True, 'fake_lstm': False, 'use_lstm': False}, 'fcnet_activation': 'tanh', 'fcnet_hiddens': [40, 40, 40], 'free_log_std': False, 'no_final_linear': False, 'vf_share_layers': False, 'lstm_cell_size': 256, 'lstm_use_prev_action_reward': False, 'state_shape': None, 'framestack': True, 'dim': 84, 'grayscale': False, 'zero_mean': True, 'custom_action_dist': None}\n",
      "Box(13,)\n"
     ]
    },
    {
     "name": "stderr",
     "output_type": "stream",
     "text": [
      "2020-05-31 18:28:36,668\tINFO catalog.py:363 -- Using custom preprocessor stratego_preprocessor\n"
     ]
    },
    {
     "name": "stdout",
     "output_type": "stream",
     "text": [
      "Model: \"model_2\"\n",
      "_________________________________________________________________\n",
      "Layer (type)                 Output Shape              Param #   \n",
      "=================================================================\n",
      "vf_observation (InputLayer)  [(None, 11)]              0         \n",
      "_________________________________________________________________\n",
      "twin_vf_fc_0 (Dense)         (None, 40)                480       \n",
      "_________________________________________________________________\n",
      "twin_vf_fc_1 (Dense)         (None, 40)                1640      \n",
      "_________________________________________________________________\n",
      "twin_vf_fc_2 (Dense)         (None, 40)                1640      \n",
      "_________________________________________________________________\n",
      "twin_vf_fc_q_out (Dense)     (None, 2)                 82        \n",
      "=================================================================\n",
      "Total params: 3,842\n",
      "Trainable params: 3,842\n",
      "Non-trainable params: 0\n",
      "_________________________________________________________________\n",
      "None\n",
      "Model: \"model\"\n",
      "_________________________________________________________________\n",
      "Model: \"model_2\"\n",
      "Layer (type)                 Output Shape              Param #   \n",
      "_________________________________________________________________\n",
      "Model: \"model_2\"\n",
      "=================================================================\n",
      "Layer (type)                 Output Shape              Param #   \n",
      "pi_observation (InputLayer)  [(None, 11)]              0         \n",
      "=================================================================\n",
      "_________________________________________________________________\n",
      "_________________________________________________________________\n",
      "vf_observation (InputLayer)  [(None, 11)]              0         \n",
      "Layer (type)                 Output Shape              Param #   \n",
      "pi_fc_0 (Dense)              (None, 40)                480       \n",
      "_________________________________________________________________\n",
      "=================================================================\n",
      "_________________________________________________________________\n",
      "twin_vf_fc_0 (Dense)         (None, 40)                480       \n",
      "pi_fc_1 (Dense)              (None, 40)                1640      \n",
      "vf_observation (InputLayer)  [(None, 11)]              0         \n",
      "_________________________________________________________________\n",
      "_________________________________________________________________\n",
      "pi_fc_2 (Dense)              (None, 40)                1640      \n",
      "twin_vf_fc_0 (Dense)         (None, 40)                480       \n",
      "_________________________________________________________________\n",
      "_________________________________________________________________\n",
      "pi_fc_unmasked_logits (Dense (None, 2)                 82        \n",
      "twin_vf_fc_1 (Dense)         (None, 40)                1640      \n",
      "=================================================================\n",
      "_________________________________________________________________\n",
      "_________________________________________________________________\n",
      "Total params: 3,842\n",
      "twin_vf_fc_2 (Dense)         (None, 40)                1640      \n",
      "twin_vf_fc_1 (Dense)         (None, 40)                1640      \n",
      "_________________________________________________________________\n",
      "Trainable params: 3,842\n",
      "_________________________________________________________________\n",
      "twin_vf_fc_q_out (Dense)     (None, 2)                 82        \n",
      "Non-trainable params: 0\n",
      "twin_vf_fc_2 (Dense)         (None, 40)                1640      \n",
      "=================================================================\n",
      "_________________________________________________________________\n",
      "_________________________________________________________________\n",
      "Total params: 3,842\n",
      "None\n",
      "twin_vf_fc_q_out (Dense)     (None, 2)                 82        \n",
      "Trainable params: 3,842\n",
      "Model: \"model_1\"\n",
      "Non-trainable params: 0\n",
      "_________________________________________________________________\n",
      "Layer (type)                 Output Shape              Param #   \n",
      "_________________________________________________________________\n",
      "=================================================================\n",
      "None\n",
      "=================================================================\n",
      "vf_observation (InputLayer)  [(None, 11)]              0         \n",
      "_________________________________________________________________\n",
      "Model: \"model\"\n",
      "Total params: 3,842\n",
      "Trainable params: 3,842\n",
      "_________________________________________________________________\n",
      "main_vf_fc_0 (Dense)         (None, 40)                480       \n",
      "Non-trainable params: 0\n",
      "_________________________________________________________________\n",
      "Layer (type)                 Output Shape              Param #   \n",
      "_________________________________________________________________\n",
      "main_vf_fc_1 (Dense)         (None, 40)                1640      \n",
      "=================================================================\n",
      "None\n",
      "_________________________________________________________________\n",
      "pi_observation (InputLayer)  [(None, 11)]              0         \n",
      "Model: \"model\"\n",
      "_________________________________________________________________\n",
      "main_vf_fc_2 (Dense)         (None, 40)                1640      \n",
      "_________________________________________________________________\n",
      "pi_fc_0 (Dense)              (None, 40)                480       \n",
      "Layer (type)                 Output Shape              Param #   \n",
      "_________________________________________________________________\n",
      "_________________________________________________________________\n",
      "=================================================================\n",
      "pi_fc_1 (Dense)              (None, 40)                1640      \n",
      "pi_observation (InputLayer)  [(None, 11)]              0         \n",
      "_________________________________________________________________\n",
      "_________________________________________________________________\n",
      "pi_fc_2 (Dense)              (None, 40)                1640      \n",
      "pi_fc_0 (Dense)              (None, 40)                480       \n",
      "_________________________________________________________________\n",
      "_________________________________________________________________\n",
      "pi_fc_unmasked_logits (Dense (None, 2)                 82        \n",
      "pi_fc_1 (Dense)              (None, 40)                1640      \n",
      "=================================================================\n",
      "_________________________________________________________________\n",
      "Total params: 3,842\n",
      "pi_fc_2 (Dense)              (None, 40)                1640      \n",
      "main_vf_fc_q_out (Dense)     (None, 2)                 82        \n",
      "Trainable params: 3,842\n",
      "_________________________________________________________________\n",
      "=================================================================\n",
      "Non-trainable params: 0\n",
      "pi_fc_unmasked_logits (Dense (None, 2)                 82        \n",
      "Total params: 3,842\n",
      "_________________________________________________________________\n",
      "=================================================================\n",
      "Trainable params: 3,842\n",
      "None\n",
      "Total params: 3,842\n",
      "Non-trainable params: 0\n",
      "Model: \"model_1\"\n",
      "Trainable params: 3,842\n",
      "_________________________________________________________________\n",
      "_________________________________________________________________\n",
      "Non-trainable params: 0\n",
      "Layer (type)                 Output Shape              Param #   \n",
      "_________________________________________________________________\n",
      "=================================================================\n",
      "None\n",
      "vf_observation (InputLayer)  [(None, 11)]              0         \n",
      "Model: \"model_1\"\n",
      "_________________________________________________________________\n",
      "None\n",
      "main_vf_fc_0 (Dense)         (None, 40)                480       \n",
      "_________________________________________________________________\n",
      "main_vf_fc_1 (Dense)         (None, 40)                1640      \n",
      "_________________________________________________________________\n",
      "main_vf_fc_2 (Dense)         (None, 40)                1640      \n",
      "_________________________________________________________________\n",
      "main_vf_fc_q_out (Dense)     (None, 2)                 82        \n",
      "{'conv_activation': 'relu', 'conv_filters': [], 'use_lstm': False, 'max_seq_len': 20, 'custom_preprocessor': 'stratego_preprocessor', 'custom_model': 'sac_stratego_model', 'custom_options': {'mask_invalid_actions': True, 'observation_mode': 'partially_observable', 'q_fn': True, 'fake_lstm': False, 'use_lstm': False}, 'fcnet_activation': 'tanh', 'fcnet_hiddens': [40, 40, 40], 'free_log_std': False, 'no_final_linear': False, 'vf_share_layers': False, 'lstm_cell_size': 256, 'lstm_use_prev_action_reward': False, 'state_shape': None, 'framestack': True, 'dim': 84, 'grayscale': False, 'zero_mean': True, 'custom_action_dist': None}\n"
     ]
    },
    {
     "name": "stdout",
     "output_type": "stream",
     "text": [
      "=================================================================\n",
      "Box(13,)\n",
      "Total params: 3,842\n"
     ]
    },
    {
     "name": "stderr",
     "output_type": "stream",
     "text": [
      "2020-05-31 18:28:36,861\tINFO catalog.py:363 -- Using custom preprocessor stratego_preprocessor\n"
     ]
    },
    {
     "name": "stdout",
     "output_type": "stream",
     "text": [
      "Trainable params: 3,842\n",
      "Non-trainable params: 0\n",
      "_________________________________________________________________\n",
      "None\n",
      "_________________________________________________________________\n",
      "Layer (type)                 Output Shape              Param #   \n",
      "=================================================================\n",
      "vf_observation (InputLayer)  [(None, 11)]              0         \n",
      "_________________________________________________________________\n",
      "{'conv_activation': 'relu', 'conv_filters': [], 'use_lstm': False, 'max_seq_len': 20, 'custom_preprocessor': 'stratego_preprocessor', 'custom_model': 'sac_stratego_model', 'custom_options': {'mask_invalid_actions': True, 'observation_mode': 'partially_observable', 'q_fn': True, 'fake_lstm': False, 'use_lstm': False}, 'fcnet_activation': 'tanh', 'fcnet_hiddens': [40, 40, 40], 'free_log_std': False, 'no_final_linear': False, 'vf_share_layers': False, 'lstm_cell_size': 256, 'lstm_use_prev_action_reward': False, 'state_shape': None, 'framestack': True, 'dim': 84, 'grayscale': False, 'zero_mean': True, 'custom_action_dist': None}\n",
      "main_vf_fc_0 (Dense)         (None, 40)                480       \n",
      "Box(13,)\n",
      "_________________________________________________________________\n"
     ]
    },
    {
     "name": "stderr",
     "output_type": "stream",
     "text": [
      "2020-05-31 18:28:36,872\tINFO catalog.py:363 -- Using custom preprocessor stratego_preprocessor\n"
     ]
    },
    {
     "name": "stdout",
     "output_type": "stream",
     "text": [
      "main_vf_fc_1 (Dense)         (None, 40)                1640      \n",
      "_________________________________________________________________\n",
      "main_vf_fc_2 (Dense)         (None, 40)                1640      \n",
      "_________________________________________________________________\n",
      "main_vf_fc_q_out (Dense)     (None, 2)                 82        \n",
      "=================================================================\n",
      "Total params: 3,842\n",
      "Trainable params: 3,842\n",
      "Non-trainable params: 0\n",
      "_________________________________________________________________\n",
      "None\n",
      "{'conv_activation': 'relu', 'conv_filters': [], 'use_lstm': False, 'max_seq_len': 20, 'custom_preprocessor': 'stratego_preprocessor', 'custom_model': 'sac_stratego_model', 'custom_options': {'mask_invalid_actions': True, 'observation_mode': 'partially_observable', 'q_fn': True, 'fake_lstm': False, 'use_lstm': False}, 'fcnet_activation': 'tanh', 'fcnet_hiddens': [40, 40, 40], 'free_log_std': False, 'no_final_linear': False, 'vf_share_layers': False, 'lstm_cell_size': 256, 'lstm_use_prev_action_reward': False, 'state_shape': None, 'framestack': True, 'dim': 84, 'grayscale': False, 'zero_mean': True, 'custom_action_dist': None}\n",
      "Box(13,)\n"
     ]
    },
    {
     "name": "stderr",
     "output_type": "stream",
     "text": [
      "2020-05-31 18:28:36,891\tINFO catalog.py:363 -- Using custom preprocessor stratego_preprocessor\n"
     ]
    },
    {
     "name": "stdout",
     "output_type": "stream",
     "text": [
      "Model: \"model_5\"\n",
      "_________________________________________________________________\n",
      "Layer (type)                 Output Shape              Param #   \n",
      "=================================================================\n",
      "vf_observation (InputLayer)  [(None, 11)]              0         \n",
      "_________________________________________________________________\n",
      "twin_vf_fc_0 (Dense)         (None, 40)                480       \n",
      "Model: \"model_5\"\n",
      "_________________________________________________________________\n",
      "_________________________________________________________________\n",
      "twin_vf_fc_1 (Dense)         (None, 40)                1640      \n",
      "Layer (type)                 Output Shape              Param #   \n",
      "_________________________________________________________________\n",
      "=================================================================\n",
      "twin_vf_fc_2 (Dense)         (None, 40)                1640      \n",
      "vf_observation (InputLayer)  [(None, 11)]              0         \n",
      "_________________________________________________________________\n",
      "twin_vf_fc_q_out (Dense)     (None, 2)                 82        \n",
      "=================================================================\n",
      "_________________________________________________________________\n",
      "Total params: 3,842\n",
      "twin_vf_fc_0 (Dense)         (None, 40)                480       \n",
      "Trainable params: 3,842\n",
      "_________________________________________________________________\n",
      "Non-trainable params: 0\n",
      "_________________________________________________________________\n",
      "None\n",
      "twin_vf_fc_1 (Dense)         (None, 40)                1640      \n",
      "Model: \"model_3\"\n",
      "_________________________________________________________________\n",
      "_________________________________________________________________\n",
      "twin_vf_fc_2 (Dense)         (None, 40)                1640      \n",
      "Layer (type)                 Output Shape              Param #   \n",
      "_________________________________________________________________\n",
      "=================================================================\n",
      "pi_observation (InputLayer)  [(None, 11)]              0         \n",
      "_________________________________________________________________\n",
      "twin_vf_fc_q_out (Dense)     (None, 2)                 82        \n",
      "pi_fc_0 (Dense)              (None, 40)                480       \n",
      "_________________________________________________________________\n",
      "pi_fc_1 (Dense)              (None, 40)                1640      \n",
      "_________________________________________________________________\n",
      "pi_fc_2 (Dense)              (None, 40)                1640      \n",
      "=================================================================\n",
      "_________________________________________________________________\n",
      "Total params: 3,842\n",
      "pi_fc_unmasked_logits (Dense (None, 2)                 82        \n",
      "Trainable params: 3,842\n",
      "=================================================================\n",
      "Total params: 3,842\n",
      "Trainable params: 3,842\n",
      "Non-trainable params: 0\n",
      "Non-trainable params: 0\n",
      "_________________________________________________________________\n",
      "_________________________________________________________________\n",
      "None\n",
      "None\n",
      "Model: \"model_3\"\n",
      "Model: \"model_4\"\n",
      "_________________________________________________________________\n",
      "_________________________________________________________________\n",
      "Layer (type)                 Output Shape              Param #   \n",
      "=================================================================\n",
      "pi_observation (InputLayer)  [(None, 11)]              0         \n",
      "_________________________________________________________________\n",
      "Model: \"model_5\"\n",
      "Layer (type)                 Output Shape              Param #   \n",
      "=================================================================\n",
      "vf_observation (InputLayer)  [(None, 11)]              0         \n",
      "_________________________________________________________________\n",
      "main_vf_fc_0 (Dense)         (None, 40)                480       \n",
      "_________________________________________________________________\n",
      "_________________________________________________________________\n",
      "main_vf_fc_1 (Dense)         (None, 40)                1640      \n",
      "Layer (type)                 Output Shape              Param #   \n",
      "_________________________________________________________________\n",
      "pi_fc_0 (Dense)              (None, 40)                480       \n",
      "=================================================================\n",
      "_________________________________________________________________\n",
      "vf_observation (InputLayer)  [(None, 11)]              0         \n",
      "pi_fc_1 (Dense)              (None, 40)                1640      \n",
      "_________________________________________________________________\n",
      "_________________________________________________________________\n",
      "twin_vf_fc_0 (Dense)         (None, 40)                480       \n",
      "pi_fc_2 (Dense)              (None, 40)                1640      \n",
      "_________________________________________________________________\n",
      "twin_vf_fc_1 (Dense)         (None, 40)                1640      \n",
      "_________________________________________________________________\n",
      "twin_vf_fc_2 (Dense)         (None, 40)                1640      \n",
      "_________________________________________________________________\n",
      "twin_vf_fc_q_out (Dense)     (None, 2)                 82        \n",
      "main_vf_fc_2 (Dense)         (None, 40)                1640      \n",
      "_________________________________________________________________\n",
      "=================================================================\n",
      "pi_fc_unmasked_logits (Dense (None, 2)                 82        \n",
      "_________________________________________________________________\n",
      "=================================================================\n",
      "main_vf_fc_q_out (Dense)     (None, 2)                 82        \n",
      "=================================================================\n",
      "Total params: 3,842\n",
      "Total params: 3,842\n",
      "Trainable params: 3,842\n",
      "Trainable params: 3,842\n",
      "Non-trainable params: 0\n",
      "Non-trainable params: 0\n",
      "_________________________________________________________________\n",
      "None\n",
      "Total params: 3,842\n",
      "Trainable params: 3,842\n",
      "_________________________________________________________________\n",
      "Non-trainable params: 0\n",
      "None\n",
      "_________________________________________________________________\n",
      "Model: \"model_4\"\n",
      "None\n",
      "_________________________________________________________________\n",
      "Model: \"model_3\"\n",
      "Layer (type)                 Output Shape              Param #   \n",
      "=================================================================\n",
      "_________________________________________________________________\n",
      "Layer (type)                 Output Shape              Param #   \n",
      "vf_observation (InputLayer)  [(None, 11)]              0         \n",
      "=================================================================\n",
      "pi_observation (InputLayer)  [(None, 11)]              0         \n",
      "_________________________________________________________________\n",
      "_________________________________________________________________\n",
      "main_vf_fc_0 (Dense)         (None, 40)                480       \n",
      "_________________________________________________________________\n",
      "main_vf_fc_1 (Dense)         (None, 40)                1640      \n",
      "pi_fc_0 (Dense)              (None, 40)                480       \n",
      "_________________________________________________________________\n",
      "_________________________________________________________________\n",
      "main_vf_fc_2 (Dense)         (None, 40)                1640      \n",
      "pi_fc_1 (Dense)              (None, 40)                1640      \n",
      "_________________________________________________________________\n",
      "_________________________________________________________________\n",
      "main_vf_fc_q_out (Dense)     (None, 2)                 82        \n",
      "=================================================================\n",
      "pi_fc_2 (Dense)              (None, 40)                1640      \n",
      "Total params: 3,842\n",
      "_________________________________________________________________\n",
      "Trainable params: 3,842\n",
      "pi_fc_unmasked_logits (Dense (None, 2)                 82        \n",
      "Non-trainable params: 0\n",
      "=================================================================\n",
      "_________________________________________________________________\n",
      "Total params: 3,842\n",
      "None\n",
      "Trainable params: 3,842\n",
      "Non-trainable params: 0\n",
      "_________________________________________________________________\n",
      "None\n",
      "Model: \"model_4\"\n",
      "_________________________________________________________________\n"
     ]
    },
    {
     "name": "stdout",
     "output_type": "stream",
     "text": [
      "Layer (type)                 Output Shape              Param #   \n",
      "=================================================================\n",
      "vf_observation (InputLayer)  [(None, 11)]              0         \n",
      "_________________________________________________________________\n",
      "main_vf_fc_0 (Dense)         (None, 40)                480       \n",
      "_________________________________________________________________\n",
      "main_vf_fc_1 (Dense)         (None, 40)                1640      \n",
      "_________________________________________________________________\n",
      "main_vf_fc_2 (Dense)         (None, 40)                1640      \n",
      "_________________________________________________________________\n",
      "main_vf_fc_q_out (Dense)     (None, 2)                 82        \n",
      "=================================================================\n",
      "Total params: 3,842\n",
      "Trainable params: 3,842\n",
      "Non-trainable params: 0\n",
      "_________________________________________________________________\n",
      "None\n"
     ]
    },
    {
     "name": "stderr",
     "output_type": "stream",
     "text": [
      "2020-05-31 18:28:42,341\tINFO tf_run_builder.py:92 -- Executing TF run without tracing. To dump TF timeline traces to disk, set the TF_TIMELINE_DIR environment variable.\n"
     ]
    },
    {
     "name": "stdout",
     "output_type": "stream",
     "text": [
      "1 policies, 0.3644301917537757 exploitability\n"
     ]
    },
    {
     "name": "stderr",
     "output_type": "stream",
     "text": [
      "2020-05-31 18:28:42,415\tINFO tf_run_builder.py:92 -- Executing TF run without tracing. To dump TF timeline traces to disk, set the TF_TIMELINE_DIR environment variable.\n"
     ]
    },
    {
     "name": "stdout",
     "output_type": "stream",
     "text": [
      "1 policies, 0.4119692911197338 exploitability\n"
     ]
    },
    {
     "name": "stderr",
     "output_type": "stream",
     "text": [
      "2020-05-31 18:28:42,535\tINFO tf_run_builder.py:92 -- Executing TF run without tracing. To dump TF timeline traces to disk, set the TF_TIMELINE_DIR environment variable.\n"
     ]
    },
    {
     "name": "stdout",
     "output_type": "stream",
     "text": [
      "1 policies, 0.3378489864554763 exploitability\n",
      "2 policies, 0.22360588712940216 exploitability\n",
      "2 policies, 0.4006391349741132 exploitability\n",
      "2 policies, 0.3572169873877059 exploitability\n",
      "3 policies, 0.39914163943422576 exploitability\n",
      "3 policies, 0.10345805709434311 exploitability\n",
      "3 policies, 0.3562423033173112 exploitability\n",
      "4 policies, 0.3179631156470245 exploitability\n",
      "4 policies, 0.2772515067143104 exploitability\n",
      "4 policies, 0.1632361639463875 exploitability\n",
      "5 policies, 0.2661812108612055 exploitability\n",
      "5 policies, 0.17521397173365147 exploitability\n",
      "5 policies, 0.22243002270987658 exploitability\n",
      "6 policies, 0.23232368420260804 exploitability\n",
      "6 policies, 0.12673275685002036 exploitability\n",
      "6 policies, 0.185257453635883 exploitability\n",
      "7 policies, 0.19640093096182384 exploitability\n",
      "7 policies, 0.1662005825214526 exploitability\n",
      "7 policies, 0.14019225668556812 exploitability\n",
      "8 policies, 0.1651887300360247 exploitability\n",
      "8 policies, 0.15298261295113832 exploitability\n",
      "8 policies, 0.10527236611849974 exploitability\n",
      "9 policies, 0.14020410774668657 exploitability\n",
      "9 policies, 0.17833065235386106 exploitability\n",
      "9 policies, 0.08662194994137859 exploitability\n",
      "10 policies, 0.11138800340669958 exploitability\n",
      "10 policies, 0.1859465221034626 exploitability\n",
      "10 policies, 0.09562751796595526 exploitability\n",
      "11 policies, 0.09662715338757236 exploitability\n",
      "11 policies, 0.18183501251817114 exploitability\n",
      "11 policies, 0.12184775344394749 exploitability\n",
      "12 policies, 0.08357361509231212 exploitability\n",
      "12 policies, 0.21113396205142637 exploitability\n",
      "12 policies, 0.1260946786191901 exploitability\n",
      "13 policies, 0.08182680936051132 exploitability\n",
      "13 policies, 0.19278120229440004 exploitability\n",
      "13 policies, 0.16177237102732223 exploitability\n",
      "14 policies, 0.0694549072971419 exploitability\n",
      "14 policies, 0.15403614724825446 exploitability\n",
      "14 policies, 0.13642328768466563 exploitability\n",
      "15 policies, 0.05876595301708121 exploitability\n",
      "15 policies, 0.15115054193899907 exploitability\n",
      "15 policies, 0.11942911984678428 exploitability\n",
      "16 policies, 0.06040207555890861 exploitability\n",
      "16 policies, 0.15341954918363238 exploitability\n",
      "16 policies, 0.15569967503898538 exploitability\n",
      "17 policies, 0.062280203234855586 exploitability\n",
      "17 policies, 0.15301966907983347 exploitability\n",
      "17 policies, 0.18352110774808106 exploitability\n",
      "18 policies, 0.06772745302758906 exploitability\n",
      "18 policies, 0.156814757888826 exploitability\n",
      "18 policies, 0.18383406576437183 exploitability\n",
      "19 policies, 0.0689261008618404 exploitability\n",
      "19 policies, 0.14896919690627666 exploitability\n",
      "19 policies, 0.2245214471738457 exploitability\n",
      "20 policies, 0.0665590819830092 exploitability\n",
      "20 policies, 0.146550205546483 exploitability\n",
      "20 policies, 0.225156135325088 exploitability\n",
      "21 policies, 0.07468574693849211 exploitability\n",
      "21 policies, 0.15538921101833186 exploitability\n",
      "21 policies, 0.2106866606631273 exploitability\n",
      "22 policies, 0.07838585222754058 exploitability\n",
      "22 policies, 0.1634575617234905 exploitability\n",
      "22 policies, 0.23317331204958192 exploitability\n",
      "23 policies, 0.08905959398029217 exploitability\n",
      "23 policies, 0.14925262940145514 exploitability\n",
      "23 policies, 0.23337738449775472 exploitability\n",
      "24 policies, 0.08744743845718478 exploitability\n",
      "24 policies, 0.15351175117211546 exploitability\n",
      "24 policies, 0.22108005523235352 exploitability\n",
      "25 policies, 0.08487384704402942 exploitability\n",
      "25 policies, 0.14572974797369018 exploitability\n",
      "25 policies, 0.2527230835150698 exploitability\n",
      "26 policies, 0.07676575798124974 exploitability\n",
      "26 policies, 0.13693376911724003 exploitability\n",
      "26 policies, 0.281325160169589 exploitability\n",
      "27 policies, 0.07928480891768422 exploitability\n",
      "27 policies, 0.14417908169360172 exploitability\n",
      "27 policies, 0.2629049356915525 exploitability\n",
      "28 policies, 0.07130312374972783 exploitability\n",
      "28 policies, 0.1481546663875546 exploitability\n",
      "28 policies, 0.28949419352298544 exploitability\n",
      "29 policies, 0.07008120360614181 exploitability\n",
      "29 policies, 0.1373879707822114 exploitability\n",
      "29 policies, 0.313479389312444 exploitability\n",
      "30 policies, 0.0675824817221459 exploitability\n",
      "30 policies, 0.14309738116603712 exploitability\n",
      "30 policies, 0.293349658722056 exploitability\n",
      "31 policies, 0.06576306401930224 exploitability\n",
      "31 policies, 0.14926439448790588 exploitability\n",
      "31 policies, 0.3150527312005946 exploitability\n",
      "32 policies, 0.06413175647415068 exploitability\n",
      "32 policies, 0.15642009183389827 exploitability\n",
      "32 policies, 0.32918950786156154 exploitability\n",
      "33 policies, 0.058163011813066434 exploitability\n",
      "33 policies, 0.14803579900259453 exploitability\n",
      "33 policies, 0.31932498228485584 exploitability\n",
      "34 policies, 0.05625041261677327 exploitability\n",
      "34 policies, 0.1436407329550779 exploitability\n",
      "34 policies, 0.3355795099919965 exploitability\n",
      "35 policies, 0.05284452151073232 exploitability\n",
      "35 policies, 0.14433246727927 exploitability\n",
      "35 policies, 0.3573236506374652 exploitability\n",
      "36 policies, 0.05365543732569647 exploitability\n",
      "36 policies, 0.14507983458623008 exploitability\n",
      "36 policies, 0.3407187790860834 exploitability\n",
      "37 policies, 0.047830593355648016 exploitability\n",
      "37 policies, 0.15052801827028867 exploitability\n",
      "37 policies, 0.3615573315434617 exploitability\n",
      "38 policies, 0.04906049100921006 exploitability\n",
      "38 policies, 0.14223702109040104 exploitability\n",
      "38 policies, 0.380749706001162 exploitability\n",
      "39 policies, 0.04479162760564895 exploitability\n",
      "39 policies, 0.14824736421774934 exploitability\n",
      "39 policies, 0.3673068415717695 exploitability\n"
     ]
    }
   ],
   "source": [
    "google_cloud_kuhn_experiment_payoff_tables_and_names = [\n",
    "    (\"kuhn_poker_naive_3_workers_poker_ps/kuhn_psro_naive/naive-1-3-3-kuhn-poker_pid_430_12_40_08PM_May-31-2020/payoff_tables/latest.dill\", \"kuhn_naive_psro\"),\n",
    "    (\"kuhn_poker_rect_3_workers_poker_ps/kuhn_psro_rectified/rect-1-3-3-kuhn-poker_pid_430_12_40_27PM_May-31-2020/payoff_tables/latest.dill\", \"kuhn_rectified\"),\n",
    "    (\"kuhn_poker_singles_3_workers_poker_ps/kuhn_single_policies/singles-1-3-3-kuhn-poker_pid_431_12_40_58PM_May-31-2020/payoff_tables/latest.dill\", \"kuhn_singles\"),\n",
    "    (\"kuhn_poker_subsets_3_workers_poker_ps/kuhn_subsets/subsets-1-3-3-kuhn-poker_pid_430_12_41_07PM_May-31-2020/payoff_tables/latest.dill\", \"kuhn_subsets\")\n",
    "]\n",
    "\n",
    "gc_kuhn_table_keys, gc_kuhn_exp_names = zip(*google_cloud_kuhn_experiment_payoff_tables_and_names)\n",
    "\n",
    "gc_kuhn_perf_df = get_exploitability_stats_over_time_for_payoff_table_all_same_poker_version(\n",
    "    payoff_table_keys=gc_kuhn_table_keys,\n",
    "    exp_names=gc_kuhn_exp_names,\n",
    "    poker_game_version=\"kuhn_poker\",\n",
    "    model_config_key=POKER_ARCH1_MODEL_CONFIG_KEY\n",
    ")"
   ]
  },
  {
   "cell_type": "code",
   "execution_count": null,
   "metadata": {},
   "outputs": [],
   "source": [
    "fig = px.line(gc_kuhn_perf_df, x=\"total_episodes\", y=\"exploitability\", title=f\"Exploitability over time Kuhn 3 workers\",\n",
    "        render_mode=\"svg\", color=\"experiment_name\")\n",
    "fig.show()"
   ]
  },
  {
   "cell_type": "code",
   "execution_count": 2,
   "metadata": {},
   "outputs": [
    {
     "data": {
      "text/html": [
       "<style>.container { width:100% !important; }</style>"
      ],
      "text/plain": [
       "<IPython.core.display.HTML object>"
      ]
     },
     "metadata": {},
     "output_type": "display_data"
    }
   ],
   "source": [
    "from IPython.core.display import display, HTML\n",
    "display(HTML(\"<style>.container { width:100% !important; }</style>\"))"
   ]
  },
  {
   "cell_type": "code",
   "execution_count": 7,
   "metadata": {
    "scrolled": false
   },
   "outputs": [
    {
     "name": "stderr",
     "output_type": "stream",
     "text": [
      "/home/jb/ml/lib/python3.6/site-packages/gym/logger.py:30: UserWarning:\n",
      "\n",
      "\u001b[33mWARN: Box bound precision lowered by casting to float32\u001b[0m\n",
      "\n",
      "/home/jb/ml/lib/python3.6/site-packages/gym/logger.py:30: UserWarning:\n",
      "\n",
      "\u001b[33mWARN: Box bound precision lowered by casting to float32\u001b[0m\n",
      "\n",
      "/home/jb/ml/lib/python3.6/site-packages/gym/logger.py:30: UserWarning:\n",
      "\n",
      "\u001b[33mWARN: Box bound precision lowered by casting to float32\u001b[0m\n",
      "\n",
      "/home/jb/ml/lib/python3.6/site-packages/gym/logger.py:30: UserWarning:\n",
      "\n",
      "\u001b[33mWARN: Box bound precision lowered by casting to float32\u001b[0m\n",
      "\n",
      "/home/jb/ml/lib/python3.6/site-packages/gym/logger.py:30: UserWarning:\n",
      "\n",
      "\u001b[33mWARN: Box bound precision lowered by casting to float32\u001b[0m\n",
      "\n",
      "/home/jb/ml/lib/python3.6/site-packages/gym/logger.py:30: UserWarning:\n",
      "\n",
      "\u001b[33mWARN: Box bound precision lowered by casting to float32\u001b[0m\n",
      "\n",
      "/home/jb/ml/lib/python3.6/site-packages/gym/logger.py:30: UserWarning:\n",
      "\n",
      "\u001b[33mWARN: Box bound precision lowered by casting to float32\u001b[0m\n",
      "\n",
      "/home/jb/ml/lib/python3.6/site-packages/gym/logger.py:30: UserWarning:\n",
      "\n",
      "\u001b[33mWARN: Box bound precision lowered by casting to float32\u001b[0m\n",
      "\n",
      "/home/jb/ml/lib/python3.6/site-packages/gym/logger.py:30: UserWarning:\n",
      "\n",
      "\u001b[33mWARN: Box bound precision lowered by casting to float32\u001b[0m\n",
      "\n"
     ]
    },
    {
     "name": "stdout",
     "output_type": "stream",
     "text": [
      "{'conv_activation': 'relu', 'conv_filters': [], 'use_lstm': False, 'max_seq_len': 20, 'custom_preprocessor': 'stratego_preprocessor', 'custom_model': 'sac_stratego_model', 'custom_options': {'mask_invalid_actions': True, 'observation_mode': 'partially_observable', 'q_fn': True, 'fake_lstm': False, 'use_lstm': False}, 'fcnet_activation': 'tanh', 'fcnet_hiddens': [40, 40, 40], 'free_log_std': False, 'no_final_linear': False, 'vf_share_layers': False, 'lstm_cell_size': 256, 'lstm_use_prev_action_reward': False, 'state_shape': None, 'framestack': True, 'dim': 84, 'grayscale': False, 'zero_mean': True, 'custom_action_dist': None}\n",
      "Box(33,)\n"
     ]
    },
    {
     "name": "stderr",
     "output_type": "stream",
     "text": [
      "2020-06-01 19:09:53,979\tINFO catalog.py:363 -- Using custom preprocessor stratego_preprocessor\n"
     ]
    },
    {
     "name": "stdout",
     "output_type": "stream",
     "text": [
      "{'conv_activation': 'relu', 'conv_filters': [], 'use_lstm': False, 'max_seq_len': 20, 'custom_preprocessor': 'stratego_preprocessor', 'custom_model': 'sac_stratego_model', 'custom_options': {'mask_invalid_actions': True, 'observation_mode': 'partially_observable', 'q_fn': True, 'fake_lstm': False, 'use_lstm': False}, 'fcnet_activation': 'tanh', 'fcnet_hiddens': [40, 40, 40], 'free_log_std': False, 'no_final_linear': False, 'vf_share_layers': False, 'lstm_cell_size': 256, 'lstm_use_prev_action_reward': False, 'state_shape': None, 'framestack': True, 'dim': 84, 'grayscale': False, 'zero_mean': True, 'custom_action_dist': None}\n",
      "Box(33,)\n"
     ]
    },
    {
     "name": "stderr",
     "output_type": "stream",
     "text": [
      "2020-06-01 19:09:54,136\tINFO catalog.py:363 -- Using custom preprocessor stratego_preprocessor\n"
     ]
    },
    {
     "name": "stdout",
     "output_type": "stream",
     "text": [
      "{'conv_activation': 'relu', 'conv_filters': [], 'use_lstm': False, 'max_seq_len': 20, 'custom_preprocessor': 'stratego_preprocessor', 'custom_model': 'sac_stratego_model', 'custom_options': {'mask_invalid_actions': True, 'observation_mode': 'partially_observable', 'q_fn': True, 'fake_lstm': False, 'use_lstm': False}, 'fcnet_activation': 'tanh', 'fcnet_hiddens': [40, 40, 40], 'free_log_std': False, 'no_final_linear': False, 'vf_share_layers': False, 'lstm_cell_size': 256, 'lstm_use_prev_action_reward': False, 'state_shape': None, 'framestack': True, 'dim': 84, 'grayscale': False, 'zero_mean': True, 'custom_action_dist': None}\n",
      "{'conv_activation': 'relu', 'conv_filters': [], 'use_lstm': False, 'max_seq_len': 20, 'custom_preprocessor': 'stratego_preprocessor', 'custom_model': 'sac_stratego_model', 'custom_options': {'mask_invalid_actions': True, 'observation_mode': 'partially_observable', 'q_fn': True, 'fake_lstm': False, 'use_lstm': False}, 'fcnet_activation': 'tanh', 'fcnet_hiddens': [40, 40, 40], 'free_log_std': False, 'no_final_linear': False, 'vf_share_layers': False, 'lstm_cell_size': 256, 'lstm_use_prev_action_reward': False, 'state_shape': None, 'framestack': True, 'dim': 84, 'grayscale': False, 'zero_mean': True, 'custom_action_dist': None}\n",
      "Box(33,)\n",
      "Box(33,)\n"
     ]
    },
    {
     "name": "stderr",
     "output_type": "stream",
     "text": [
      "2020-06-01 19:09:54,145\tINFO catalog.py:363 -- Using custom preprocessor stratego_preprocessor\n",
      "2020-06-01 19:09:54,146\tINFO catalog.py:363 -- Using custom preprocessor stratego_preprocessor\n"
     ]
    },
    {
     "name": "stdout",
     "output_type": "stream",
     "text": [
      "{'conv_activation': 'relu', 'conv_filters': [], 'use_lstm': False, 'max_seq_len': 20, 'custom_preprocessor': 'stratego_preprocessor', 'custom_model': 'sac_stratego_model', 'custom_options': {'mask_invalid_actions': True, 'observation_mode': 'partially_observable', 'q_fn': True, 'fake_lstm': False, 'use_lstm': False}, 'fcnet_activation': 'tanh', 'fcnet_hiddens': [40, 40, 40], 'free_log_std': False, 'no_final_linear': False, 'vf_share_layers': False, 'lstm_cell_size': 256, 'lstm_use_prev_action_reward': False, 'state_shape': None, 'framestack': True, 'dim': 84, 'grayscale': False, 'zero_mean': True, 'custom_action_dist': None}\n",
      "Box(33,)\n"
     ]
    },
    {
     "name": "stderr",
     "output_type": "stream",
     "text": [
      "2020-06-01 19:09:54,162\tINFO catalog.py:363 -- Using custom preprocessor stratego_preprocessor\n"
     ]
    },
    {
     "name": "stdout",
     "output_type": "stream",
     "text": [
      "{'conv_activation': 'relu', 'conv_filters': [], 'use_lstm': False, 'max_seq_len': 20, 'custom_preprocessor': 'stratego_preprocessor', 'custom_model': 'sac_stratego_model', 'custom_options': {'mask_invalid_actions': True, 'observation_mode': 'partially_observable', 'q_fn': True, 'fake_lstm': False, 'use_lstm': False}, 'fcnet_activation': 'tanh', 'fcnet_hiddens': [40, 40, 40], 'free_log_std': False, 'no_final_linear': False, 'vf_share_layers': False, 'lstm_cell_size': 256, 'lstm_use_prev_action_reward': False, 'state_shape': None, 'framestack': True, 'dim': 84, 'grayscale': False, 'zero_mean': True, 'custom_action_dist': None}\n",
      "Box(33,)\n",
      "{'conv_activation': 'relu', 'conv_filters': [], 'use_lstm': False, 'max_seq_len': 20, 'custom_preprocessor': 'stratego_preprocessor', 'custom_model': 'sac_stratego_model', 'custom_options': {'mask_invalid_actions': True, 'observation_mode': 'partially_observable', 'q_fn': True, 'fake_lstm': False, 'use_lstm': False}, 'fcnet_activation': 'tanh', 'fcnet_hiddens': [40, 40, 40], 'free_log_std': False, 'no_final_linear': False, 'vf_share_layers': False, 'lstm_cell_size': 256, 'lstm_use_prev_action_reward': False, 'state_shape': None, 'framestack': True, 'dim': 84, 'grayscale': False, 'zero_mean': True, 'custom_action_dist': None}\n",
      "Box(33,)\n"
     ]
    },
    {
     "name": "stderr",
     "output_type": "stream",
     "text": [
      "2020-06-01 19:09:54,170\tINFO catalog.py:363 -- Using custom preprocessor stratego_preprocessor\n"
     ]
    },
    {
     "name": "stdout",
     "output_type": "stream",
     "text": [
      "{'conv_activation': 'relu', 'conv_filters': [], 'use_lstm': False, 'max_seq_len': 20, 'custom_preprocessor': 'stratego_preprocessor', 'custom_model': 'sac_stratego_model', 'custom_options': {'mask_invalid_actions': True, 'observation_mode': 'partially_observable', 'q_fn': True, 'fake_lstm': False, 'use_lstm': False}, 'fcnet_activation': 'tanh', 'fcnet_hiddens': [40, 40, 40], 'free_log_std': False, 'no_final_linear': False, 'vf_share_layers': False, 'lstm_cell_size': 256, 'lstm_use_prev_action_reward': False, 'state_shape': None, 'framestack': True, 'dim': 84, 'grayscale': False, 'zero_mean': True, 'custom_action_dist': None}\n"
     ]
    },
    {
     "name": "stderr",
     "output_type": "stream",
     "text": [
      "2020-06-01 19:09:54,166\tINFO catalog.py:363 -- Using custom preprocessor stratego_preprocessor\n"
     ]
    },
    {
     "name": "stdout",
     "output_type": "stream",
     "text": [
      "Box(33,)\n"
     ]
    },
    {
     "name": "stderr",
     "output_type": "stream",
     "text": [
      "2020-06-01 19:09:54,185\tINFO catalog.py:363 -- Using custom preprocessor stratego_preprocessor\n"
     ]
    },
    {
     "name": "stdout",
     "output_type": "stream",
     "text": [
      "{'conv_activation': 'relu', 'conv_filters': [], 'use_lstm': False, 'max_seq_len': 20, 'custom_preprocessor': 'stratego_preprocessor', 'custom_model': 'sac_stratego_model', 'custom_options': {'mask_invalid_actions': True, 'observation_mode': 'partially_observable', 'q_fn': True, 'fake_lstm': False, 'use_lstm': False}, 'fcnet_activation': 'tanh', 'fcnet_hiddens': [40, 40, 40], 'free_log_std': False, 'no_final_linear': False, 'vf_share_layers': False, 'lstm_cell_size': 256, 'lstm_use_prev_action_reward': False, 'state_shape': None, 'framestack': True, 'dim': 84, 'grayscale': False, 'zero_mean': True, 'custom_action_dist': None}\n",
      "Box(33,)\n"
     ]
    },
    {
     "name": "stderr",
     "output_type": "stream",
     "text": [
      "2020-06-01 19:09:54,204\tINFO catalog.py:363 -- Using custom preprocessor stratego_preprocessor\n"
     ]
    },
    {
     "name": "stdout",
     "output_type": "stream",
     "text": [
      "Model: \"model_2\"\n",
      "_________________________________________________________________\n",
      "Layer (type)                 Output Shape              Param #   \n",
      "=================================================================\n",
      "vf_observation (InputLayer)  [(None, 30)]              0         \n",
      "_________________________________________________________________\n",
      "twin_vf_fc_0 (Dense)         (None, 40)                1240      \n",
      "_________________________________________________________________\n",
      "twin_vf_fc_1 (Dense)         (None, 40)                1640      \n",
      "_________________________________________________________________\n",
      "twin_vf_fc_2 (Dense)         (None, 40)                1640      \n",
      "_________________________________________________________________\n",
      "twin_vf_fc_q_out (Dense)     (None, 3)                 123       \n",
      "=================================================================\n",
      "Total params: 4,643\n",
      "Trainable params: 4,643\n",
      "Non-trainable params: 0\n",
      "_________________________________________________________________\n",
      "None\n",
      "Model: \"model\"\n",
      "_________________________________________________________________\n",
      "Layer (type)                 Output Shape              Param #   \n",
      "=================================================================\n",
      "pi_observation (InputLayer)  [(None, 30)]              0         \n",
      "_________________________________________________________________\n",
      "pi_fc_0 (Dense)              (None, 40)                1240      \n",
      "_________________________________________________________________\n",
      "pi_fc_1 (Dense)              (None, 40)                1640      \n",
      "_________________________________________________________________\n",
      "pi_fc_2 (Dense)              (None, 40)                1640      \n",
      "_________________________________________________________________\n",
      "pi_fc_unmasked_logits (Dense (None, 3)                 123       \n",
      "=================================================================\n",
      "Total params: 4,643\n",
      "Trainable params: 4,643\n",
      "Non-trainable params: 0\n",
      "_________________________________________________________________\n",
      "None\n",
      "Model: \"model_1\"\n",
      "_________________________________________________________________\n",
      "Layer (type)                 Output Shape              Param #   \n",
      "=================================================================\n",
      "vf_observation (InputLayer)  [(None, 30)]              0         \n",
      "_________________________________________________________________\n",
      "main_vf_fc_0 (Dense)         (None, 40)                1240      \n",
      "_________________________________________________________________\n",
      "main_vf_fc_1 (Dense)         (None, 40)                1640      \n",
      "_________________________________________________________________\n",
      "main_vf_fc_2 (Dense)         (None, 40)                1640      \n",
      "_________________________________________________________________\n",
      "main_vf_fc_q_out (Dense)     (None, 3)                 123       \n",
      "=================================================================\n",
      "Total params: 4,643\n",
      "Trainable params: 4,643\n",
      "Non-trainable params: 0\n",
      "_________________________________________________________________\n",
      "None\n",
      "{'conv_activation': 'relu', 'conv_filters': [], 'use_lstm': False, 'max_seq_len': 20, 'custom_preprocessor': 'stratego_preprocessor', 'custom_model': 'sac_stratego_model', 'custom_options': {'mask_invalid_actions': True, 'observation_mode': 'partially_observable', 'q_fn': True, 'fake_lstm': False, 'use_lstm': False}, 'fcnet_activation': 'tanh', 'fcnet_hiddens': [40, 40, 40], 'free_log_std': False, 'no_final_linear': False, 'vf_share_layers': False, 'lstm_cell_size': 256, 'lstm_use_prev_action_reward': False, 'state_shape': None, 'framestack': True, 'dim': 84, 'grayscale': False, 'zero_mean': True, 'custom_action_dist': None}\n",
      "Box(33,)\n"
     ]
    },
    {
     "name": "stderr",
     "output_type": "stream",
     "text": [
      "2020-06-01 19:09:54,522\tINFO catalog.py:363 -- Using custom preprocessor stratego_preprocessor\n"
     ]
    },
    {
     "name": "stdout",
     "output_type": "stream",
     "text": [
      "Model: \"model_2\"\n",
      "_________________________________________________________________\n",
      "Layer (type)                 Output Shape              Param #   \n",
      "=================================================================\n",
      "vf_observation (InputLayer)  [(None, 30)]              0         \n",
      "_________________________________________________________________\n",
      "twin_vf_fc_0 (Dense)         (None, 40)                1240      \n",
      "_________________________________________________________________\n",
      "twin_vf_fc_1 (Dense)         (None, 40)                1640      \n",
      "_________________________________________________________________\n",
      "twin_vf_fc_2 (Dense)         (None, 40)                1640      \n",
      "_________________________________________________________________\n",
      "twin_vf_fc_q_out (Dense)     (None, 3)                 123       \n",
      "=================================================================\n",
      "Total params: 4,643\n",
      "Trainable params: 4,643\n",
      "Model: \"model_2\"\n",
      "Non-trainable params: 0\n",
      "_________________________________________________________________\n",
      "_________________________________________________________________\n",
      "Layer (type)                 Output Shape              Param #   \n",
      "=================================================================\n",
      "vf_observation (InputLayer)  [(None, 30)]              0         \n",
      "None\n",
      "_________________________________________________________________\n",
      "Model: \"model\"\n",
      "twin_vf_fc_0 (Dense)         (None, 40)                1240      \n",
      "_________________________________________________________________\n",
      "twin_vf_fc_1 (Dense)         (None, 40)                1640      \n",
      "_________________________________________________________________\n",
      "Model: \"model_2\"\n",
      "_________________________________________________________________\n",
      "Layer (type)                 Output Shape              Param #   \n",
      "Model: \"model_2\"\n",
      "_________________________________________________________________\n",
      "=================================================================\n",
      "_________________________________________________________________\n",
      "pi_observation (InputLayer)  [(None, 30)]              0         \n",
      "Layer (type)                 Output Shape              Param #   \n",
      "Layer (type)                 Output Shape              Param #   \n",
      "_________________________________________________________________\n",
      "=================================================================\n",
      "=================================================================\n",
      "vf_observation (InputLayer)  [(None, 30)]              0         \n",
      "_________________________________________________________________\n",
      "pi_fc_0 (Dense)              (None, 40)                1240      \n",
      "Model: \"model_2\"\n",
      "_________________________________________________________________\n",
      "twin_vf_fc_0 (Dense)         (None, 40)                1240      \n",
      "_________________________________________________________________\n",
      "pi_fc_1 (Dense)              (None, 40)                1640      \n",
      "Layer (type)                 Output Shape              Param #   \n",
      "_________________________________________________________________\n",
      "=================================================================\n",
      "twin_vf_fc_1 (Dense)         (None, 40)                1640      \n",
      "vf_observation (InputLayer)  [(None, 30)]              0         \n",
      "_________________________________________________________________\n",
      "_________________________________________________________________\n",
      "twin_vf_fc_2 (Dense)         (None, 40)                1640      \n",
      "twin_vf_fc_2 (Dense)         (None, 40)                1640      \n",
      "twin_vf_fc_0 (Dense)         (None, 40)                1240      \n",
      "Model: \"model_2\"\n",
      "_________________________________________________________________\n",
      "_________________________________________________________________\n",
      "_________________________________________________________________\n",
      "Model: \"model_2\"\n",
      "_________________________________________________________________\n",
      "pi_fc_2 (Dense)              (None, 40)                1640      \n",
      "twin_vf_fc_q_out (Dense)     (None, 3)                 123       \n",
      "_________________________________________________________________\n",
      "_________________________________________________________________\n",
      "Layer (type)                 Output Shape              Param #   \n",
      "twin_vf_fc_q_out (Dense)     (None, 3)                 123       \n",
      "vf_observation (InputLayer)  [(None, 30)]              0         \n",
      "=================================================================\n",
      "Layer (type)                 Output Shape              Param #   \n",
      "twin_vf_fc_1 (Dense)         (None, 40)                1640      \n",
      "=================================================================\n",
      "_________________________________________________________________\n",
      "=================================================================\n",
      "_________________________________________________________________\n",
      "=================================================================\n",
      "Total params: 4,643\n",
      "vf_observation (InputLayer)  [(None, 30)]              0         \n",
      "pi_fc_unmasked_logits (Dense (None, 3)                 123       \n",
      "twin_vf_fc_0 (Dense)         (None, 40)                1240      \n",
      "Trainable params: 4,643\n",
      "vf_observation (InputLayer)  [(None, 30)]              0         \n",
      "=================================================================\n",
      "_________________________________________________________________\n",
      "_________________________________________________________________\n",
      "Non-trainable params: 0\n",
      "_________________________________________________________________\n",
      "Total params: 4,643\n",
      "twin_vf_fc_0 (Dense)         (None, 40)                1240      \n",
      "_________________________________________________________________\n",
      "Trainable params: 4,643\n",
      "twin_vf_fc_1 (Dense)         (None, 40)                1640      \n",
      "None\n",
      "Non-trainable params: 0\n",
      "_________________________________________________________________\n",
      "twin_vf_fc_0 (Dense)         (None, 40)                1240      \n",
      "_________________________________________________________________\n",
      "_________________________________________________________________\n",
      "Model: \"model\"\n",
      "twin_vf_fc_2 (Dense)         (None, 40)                1640      \n",
      "_________________________________________________________________\n",
      "twin_vf_fc_1 (Dense)         (None, 40)                1640      \n",
      "_________________________________________________________________\n",
      "None\n",
      "_________________________________________________________________\n",
      "_________________________________________________________________\n",
      "Model: \"model\"\n",
      "twin_vf_fc_2 (Dense)         (None, 40)                1640      \n",
      "Layer (type)                 Output Shape              Param #   \n",
      "_________________________________________________________________\n",
      "_________________________________________________________________\n",
      "_________________________________________________________________\n",
      "twin_vf_fc_2 (Dense)         (None, 40)                1640      \n",
      "twin_vf_fc_q_out (Dense)     (None, 3)                 123       \n",
      "Layer (type)                 Output Shape              Param #   \n",
      "twin_vf_fc_q_out (Dense)     (None, 3)                 123       \n",
      "_________________________________________________________________\n",
      "=================================================================\n",
      "=================================================================\n",
      "twin_vf_fc_q_out (Dense)     (None, 3)                 123       \n",
      "Total params: 4,643\n",
      "=================================================================\n",
      "twin_vf_fc_1 (Dense)         (None, 40)                1640      \n",
      "Trainable params: 4,643\n",
      "Total params: 4,643\n",
      "=================================================================\n",
      "_________________________________________________________________\n",
      "Non-trainable params: 0\n",
      "Trainable params: 4,643\n",
      "_________________________________________________________________\n",
      "Total params: 4,643\n",
      "twin_vf_fc_2 (Dense)         (None, 40)                1640      \n",
      "None\n",
      "_________________________________________________________________\n",
      "pi_observation (InputLayer)  [(None, 30)]              0         \n",
      "Total params: 4,643\n",
      "Non-trainable params: 0\n",
      "Model: \"model\"\n",
      "twin_vf_fc_q_out (Dense)     (None, 3)                 123       \n",
      "_________________________________________________________________\n",
      "pi_fc_0 (Dense)              (None, 40)                1240      \n",
      "_________________________________________________________________\n"
     ]
    },
    {
     "name": "stdout",
     "output_type": "stream",
     "text": [
      "Trainable params: 4,643\n",
      "=================================================================\n",
      "_________________________________________________________________\n",
      "Layer (type)                 Output Shape              Param #   \n",
      "pi_observation (InputLayer)  [(None, 30)]              0         \n",
      "Non-trainable params: 0\n",
      "_________________________________________________________________\n",
      "=================================================================\n",
      "None\n",
      "_________________________________________________________________\n",
      "pi_observation (InputLayer)  [(None, 30)]              0         \n",
      "None\n",
      "Model: \"model\"\n",
      "Model: \"model_2\"\n",
      "pi_fc_1 (Dense)              (None, 40)                1640      \n",
      "_________________________________________________________________\n",
      "Model: \"model_1\"\n",
      "=================================================================\n",
      "_________________________________________________________________\n",
      "Trainable params: 4,643\n",
      "pi_fc_0 (Dense)              (None, 40)                1240      \n",
      "_________________________________________________________________\n",
      "_________________________________________________________________\n",
      "_________________________________________________________________\n",
      "Layer (type)                 Output Shape              Param #   \n",
      "_________________________________________________________________\n",
      "pi_fc_0 (Dense)              (None, 40)                1240      \n",
      "Layer (type)                 Output Shape              Param #   \n",
      "Total params: 4,643\n",
      "Layer (type)                 Output Shape              Param #   \n",
      "_________________________________________________________________\n",
      "Trainable params: 4,643\n",
      "=================================================================\n",
      "=================================================================\n",
      "pi_fc_2 (Dense)              (None, 40)                1640      \n",
      "pi_fc_1 (Dense)              (None, 40)                1640      \n",
      "_________________________________________________________________\n",
      "Non-trainable params: 0\n",
      "vf_observation (InputLayer)  [(None, 30)]              0         \n",
      "_________________________________________________________________\n",
      "vf_observation (InputLayer)  [(None, 30)]              0         \n",
      "pi_fc_1 (Dense)              (None, 40)                1640      \n",
      "_________________________________________________________________\n",
      "_________________________________________________________________\n",
      "pi_fc_unmasked_logits (Dense (None, 3)                 123       \n",
      "_________________________________________________________________\n",
      "_________________________________________________________________\n",
      "_________________________________________________________________\n",
      "None\n",
      "pi_fc_2 (Dense)              (None, 40)                1640      \n",
      "Non-trainable params: 0\n",
      "_________________________________________________________________\n",
      "Total params: 4,643\n",
      "=================================================================\n",
      "=================================================================\n",
      "_________________________________________________________________\n",
      "Model: \"model\"\n",
      "main_vf_fc_0 (Dense)         (None, 40)                1240      \n",
      "pi_fc_2 (Dense)              (None, 40)                1640      \n",
      "_________________________________________________________________\n",
      "_________________________________________________________________\n",
      "None\n",
      "pi_fc_unmasked_logits (Dense (None, 3)                 123       \n",
      "Trainable params: 4,643\n",
      "twin_vf_fc_0 (Dense)         (None, 40)                1240      \n",
      "_________________________________________________________________\n",
      "Layer (type)                 Output Shape              Param #   \n",
      "=================================================================\n",
      "Model: \"model\"\n",
      "Non-trainable params: 0\n",
      "pi_fc_unmasked_logits (Dense (None, 3)                 123       \n",
      "=================================================================\n",
      "_________________________________________________________________\n",
      "=================================================================\n",
      "_________________________________________________________________\n",
      "Total params: 4,643\n",
      "main_vf_fc_1 (Dense)         (None, 40)                1640      \n",
      "pi_observation (InputLayer)  [(None, 30)]              0         \n",
      "twin_vf_fc_1 (Dense)         (None, 40)                1640      \n",
      "None\n",
      "Total params: 4,643\n",
      "Trainable params: 4,643\n",
      "_________________________________________________________________\n",
      "_________________________________________________________________\n",
      "_________________________________________________________________\n",
      "Model: \"model_1\"\n",
      "Non-trainable params: 0\n",
      "pi_fc_0 (Dense)              (None, 40)                1240      \n",
      "_________________________________________________________________\n",
      "twin_vf_fc_2 (Dense)         (None, 40)                1640      \n",
      "_________________________________________________________________\n",
      "_________________________________________________________________\n",
      "None\n",
      "Layer (type)                 Output Shape              Param #   \n",
      "_________________________________________________________________\n",
      "pi_fc_1 (Dense)              (None, 40)                1640      \n",
      "=================================================================\n",
      "_________________________________________________________________\n",
      "twin_vf_fc_q_out (Dense)     (None, 3)                 123       \n",
      "pi_fc_2 (Dense)              (None, 40)                1640      \n",
      "Model: \"model_1\"\n",
      "=================================================================\n",
      "_________________________________________________________________\n",
      "_________________________________________________________________\n",
      "Layer (type)                 Output Shape              Param #   \n",
      "pi_fc_unmasked_logits (Dense (None, 3)                 123       \n",
      "Total params: 4,643\n",
      "=================================================================\n",
      "pi_observation (InputLayer)  [(None, 30)]              0         \n",
      "=================================================================\n",
      "vf_observation (InputLayer)  [(None, 30)]              0         \n",
      "_________________________________________________________________\n",
      "main_vf_fc_2 (Dense)         (None, 40)                1640      \n",
      "Trainable params: 4,643\n",
      "_________________________________________________________________\n",
      "_________________________________________________________________\n",
      "Layer (type)                 Output Shape              Param #   \n",
      "_________________________________________________________________\n",
      "Non-trainable params: 0\n",
      "Total params: 4,643\n",
      "=================================================================\n",
      "main_vf_fc_0 (Dense)         (None, 40)                1240      \n",
      "pi_fc_0 (Dense)              (None, 40)                1240      \n",
      "main_vf_fc_q_out (Dense)     (None, 3)                 123       \n",
      "_________________________________________________________________\n",
      "Trainable params: 4,643\n",
      "_________________________________________________________________\n",
      "pi_observation (InputLayer)  [(None, 30)]              0         \n",
      "_________________________________________________________________\n",
      "None\n",
      "Non-trainable params: 0\n",
      "=================================================================\n",
      "main_vf_fc_1 (Dense)         (None, 40)                1640      \n",
      "Model: \"model\"\n",
      "pi_fc_1 (Dense)              (None, 40)                1640      \n",
      "_________________________________________________________________\n",
      "_________________________________________________________________\n",
      "_________________________________________________________________\n",
      "_________________________________________________________________\n",
      "main_vf_fc_2 (Dense)         (None, 40)                1640      \n",
      "None\n",
      "Layer (type)                 Output Shape              Param #   \n",
      "_________________________________________________________________\n",
      "_________________________________________________________________\n",
      "pi_fc_2 (Dense)              (None, 40)                1640      \n",
      "=================================================================\n",
      "main_vf_fc_q_out (Dense)     (None, 3)                 123       \n",
      "pi_fc_0 (Dense)              (None, 40)                1240      \n",
      "=================================================================\n",
      "pi_observation (InputLayer)  [(None, 30)]              0         \n",
      "_________________________________________________________________\n"
     ]
    },
    {
     "name": "stdout",
     "output_type": "stream",
     "text": [
      "_________________________________________________________________\n",
      "Trainable params: 4,643\n",
      "Total params: 4,643\n",
      "pi_fc_1 (Dense)              (None, 40)                1640      \n",
      "_________________________________________________________________\n",
      "pi_fc_unmasked_logits (Dense (None, 3)                 123       \n",
      "Total params: 4,643\n",
      "Trainable params: 4,643\n",
      "_________________________________________________________________\n",
      "pi_fc_0 (Dense)              (None, 40)                1240      \n",
      "Trainable params: 4,643\n",
      "Non-trainable params: 0\n",
      "_________________________________________________________________\n",
      "=================================================================\n",
      "Non-trainable params: 0\n",
      "pi_fc_2 (Dense)              (None, 40)                1640      \n",
      "vf_observation (InputLayer)  [(None, 30)]              0         \n",
      "_________________________________________________________________\n",
      "Model: \"model_1\"\n",
      "Total params: 4,643\n",
      "_________________________________________________________________\n",
      "pi_fc_1 (Dense)              (None, 40)                1640      \n",
      "_________________________________________________________________\n",
      "None\n",
      "_________________________________________________________________\n",
      "Trainable params: 4,643\n",
      "None\n",
      "_________________________________________________________________\n",
      "main_vf_fc_0 (Dense)         (None, 40)                1240      \n",
      "Layer (type)                 Output Shape              Param #   \n",
      "pi_fc_2 (Dense)              (None, 40)                1640      \n",
      "_________________________________________________________________\n",
      "Non-trainable params: 0\n",
      "main_vf_fc_1 (Dense)         (None, 40)                1640      \n",
      "_________________________________________________________________\n",
      "_________________________________________________________________\n",
      "_________________________________________________________________\n",
      "pi_fc_unmasked_logits (Dense (None, 3)                 123       \n",
      "=================================================================\n",
      "main_vf_fc_2 (Dense)         (None, 40)                1640      \n",
      "_________________________________________________________________\n",
      "=================================================================\n",
      "Model: \"model_5\"\n",
      "Total params: 4,643\n",
      "{'conv_activation': 'relu', 'conv_filters': [], 'use_lstm': False, 'max_seq_len': 20, 'custom_preprocessor': 'stratego_preprocessor', 'custom_model': 'sac_stratego_model', 'custom_options': {'mask_invalid_actions': True, 'observation_mode': 'partially_observable', 'q_fn': True, 'fake_lstm': False, 'use_lstm': False}, 'fcnet_activation': 'tanh', 'fcnet_hiddens': [40, 40, 40], 'free_log_std': False, 'no_final_linear': False, 'vf_share_layers': False, 'lstm_cell_size': 256, 'lstm_use_prev_action_reward': False, 'state_shape': None, 'framestack': True, 'dim': 84, 'grayscale': False, 'zero_mean': True, 'custom_action_dist': None}\n",
      "_________________________________________________________________\n",
      "Trainable params: 4,643\n",
      "{'conv_activation': 'relu', 'conv_filters': [], 'use_lstm': False, 'max_seq_len': 20, 'custom_preprocessor': 'stratego_preprocessor', 'custom_model': 'sac_stratego_model', 'custom_options': {'mask_invalid_actions': True, 'observation_mode': 'partially_observable', 'q_fn': True, 'fake_lstm': False, 'use_lstm': False}, 'fcnet_activation': 'tanh', 'fcnet_hiddens': [40, 40, 40], 'free_log_std': False, 'no_final_linear': False, 'vf_share_layers': False, 'lstm_cell_size': 256, 'lstm_use_prev_action_reward': False, 'state_shape': None, 'framestack': True, 'dim': 84, 'grayscale': False, 'zero_mean': True, 'custom_action_dist': None}\n",
      "_________________________________________________________________\n",
      "vf_observation (InputLayer)  [(None, 30)]              0         \n",
      "Box(33,)\n",
      "Layer (type)                 Output Shape              Param #   \n",
      "Box(33,)\n",
      "None\n",
      "pi_fc_unmasked_logits (Dense (None, 3)                 123       \n",
      "_________________________________________________________________\n"
     ]
    },
    {
     "name": "stderr",
     "output_type": "stream",
     "text": [
      "2020-06-01 19:09:54,715\tINFO catalog.py:363 -- Using custom preprocessor stratego_preprocessor\n"
     ]
    },
    {
     "name": "stdout",
     "output_type": "stream",
     "text": [
      "Non-trainable params: 0\n",
      "=================================================================\n",
      "Model: \"model_1\"\n"
     ]
    },
    {
     "name": "stderr",
     "output_type": "stream",
     "text": [
      "2020-06-01 19:09:54,715\tINFO catalog.py:363 -- Using custom preprocessor stratego_preprocessor\n"
     ]
    },
    {
     "name": "stdout",
     "output_type": "stream",
     "text": [
      "Non-trainable params: 0\n",
      "=================================================================\n",
      "_________________________________________________________________\n",
      "main_vf_fc_0 (Dense)         (None, 40)                1240      \n",
      "vf_observation (InputLayer)  [(None, 30)]              0         \n",
      "_________________________________________________________________\n",
      "_________________________________________________________________\n",
      "_________________________________________________________________\n",
      "Total params: 4,643\n",
      "_________________________________________________________________\n",
      "main_vf_fc_1 (Dense)         (None, 40)                1640      \n",
      "None\n",
      "_________________________________________________________________\n",
      "twin_vf_fc_0 (Dense)         (None, 40)                1240      \n",
      "Trainable params: 4,643\n",
      "Model: \"model_1\"\n",
      "_________________________________________________________________\n",
      "main_vf_fc_2 (Dense)         (None, 40)                1640      \n",
      "Non-trainable params: 0\n",
      "_________________________________________________________________\n",
      "twin_vf_fc_1 (Dense)         (None, 40)                1640      \n",
      "_________________________________________________________________\n",
      "Layer (type)                 Output Shape              Param #   \n",
      "main_vf_fc_q_out (Dense)     (None, 3)                 123       \n",
      "_________________________________________________________________\n",
      "None\n",
      "=================================================================\n",
      "twin_vf_fc_2 (Dense)         (None, 40)                1640      \n",
      "Model: \"model_1\"\n",
      "_________________________________________________________________\n",
      "vf_observation (InputLayer)  [(None, 30)]              0         \n",
      "_________________________________________________________________\n",
      "twin_vf_fc_q_out (Dense)     (None, 3)                 123       \n",
      "_________________________________________________________________\n",
      "_________________________________________________________________\n",
      "Layer (type)                 Output Shape              Param #   \n",
      "=================================================================\n",
      "main_vf_fc_q_out (Dense)     (None, 3)                 123       \n",
      "None\n",
      "main_vf_fc_0 (Dense)         (None, 40)                1240      \n",
      "=================================================================\n",
      "Model: \"model_1\"\n",
      "_________________________________________________________________\n",
      "=================================================================\n",
      "_________________________________________________________________\n",
      "Total params: 4,643\n",
      "Total params: 4,643\n",
      "main_vf_fc_1 (Dense)         (None, 40)                1640      \n",
      "vf_observation (InputLayer)  [(None, 30)]              0         \n",
      "Layer (type)                 Output Shape              Param #   \n",
      "Trainable params: 4,643\n",
      "Trainable params: 4,643\n",
      "_________________________________________________________________\n",
      "=================================================================\n",
      "_________________________________________________________________\n",
      "Non-trainable params: 0\n",
      "main_vf_fc_2 (Dense)         (None, 40)                1640      \n",
      "_________________________________________________________________\n",
      "main_vf_fc_0 (Dense)         (None, 40)                1240      \n",
      "_________________________________________________________________\n",
      "Total params: 4,643\n",
      "None\n",
      "main_vf_fc_q_out (Dense)     (None, 3)                 123       \n",
      "_________________________________________________________________\n",
      "Trainable params: 4,643\n",
      "=================================================================\n",
      "=================================================================\n",
      "main_vf_fc_1 (Dense)         (None, 40)                1640      \n",
      "Total params: 4,643\n",
      "_________________________________________________________________\n",
      "vf_observation (InputLayer)  [(None, 30)]              0         \n",
      "Trainable params: 4,643\n",
      "main_vf_fc_2 (Dense)         (None, 40)                1640      \n",
      "Non-trainable params: 0\n",
      "Layer (type)                 Output Shape              Param #   \n",
      "_________________________________________________________________\n",
      "_________________________________________________________________\n",
      "None\n",
      "=================================================================\n",
      "main_vf_fc_q_out (Dense)     (None, 3)                 123       \n",
      "_________________________________________________________________\n",
      "vf_observation (InputLayer)  [(None, 30)]              0         \n",
      "=================================================================\n",
      "_________________________________________________________________\n",
      "main_vf_fc_0 (Dense)         (None, 40)                1240      \n",
      "{'conv_activation': 'relu', 'conv_filters': [], 'use_lstm': False, 'max_seq_len': 20, 'custom_preprocessor': 'stratego_preprocessor', 'custom_model': 'sac_stratego_model', 'custom_options': {'mask_invalid_actions': True, 'observation_mode': 'partially_observable', 'q_fn': True, 'fake_lstm': False, 'use_lstm': False}, 'fcnet_activation': 'tanh', 'fcnet_hiddens': [40, 40, 40], 'free_log_std': False, 'no_final_linear': False, 'vf_share_layers': False, 'lstm_cell_size': 256, 'lstm_use_prev_action_reward': False, 'state_shape': None, 'framestack': True, 'dim': 84, 'grayscale': False, 'zero_mean': True, 'custom_action_dist': None}\n",
      "_________________________________________________________________\n",
      "Non-trainable params: 0\n",
      "main_vf_fc_0 (Dense)         (None, 40)                1240      \n",
      "Box(33,)\n",
      "Total params: 4,643\n",
      "_________________________________________________________________\n",
      "Trainable params: 4,643\n"
     ]
    },
    {
     "name": "stderr",
     "output_type": "stream",
     "text": [
      "2020-06-01 19:09:54,745\tINFO catalog.py:363 -- Using custom preprocessor stratego_preprocessor\n"
     ]
    },
    {
     "name": "stdout",
     "output_type": "stream",
     "text": [
      "_________________________________________________________________\n",
      "main_vf_fc_1 (Dense)         (None, 40)                1640      \n",
      "Non-trainable params: 0\n",
      "None\n",
      "{'conv_activation': 'relu', 'conv_filters': [], 'use_lstm': False, 'max_seq_len': 20, 'custom_preprocessor': 'stratego_preprocessor', 'custom_model': 'sac_stratego_model', 'custom_options': {'mask_invalid_actions': True, 'observation_mode': 'partially_observable', 'q_fn': True, 'fake_lstm': False, 'use_lstm': False}, 'fcnet_activation': 'tanh', 'fcnet_hiddens': [40, 40, 40], 'free_log_std': False, 'no_final_linear': False, 'vf_share_layers': False, 'lstm_cell_size': 256, 'lstm_use_prev_action_reward': False, 'state_shape': None, 'framestack': True, 'dim': 84, 'grayscale': False, 'zero_mean': True, 'custom_action_dist': None}\n",
      "Non-trainable params: 0\n",
      "_________________________________________________________________\n",
      "Box(33,)\n",
      "None\n",
      "main_vf_fc_1 (Dense)         (None, 40)                1640      \n",
      "_________________________________________________________________\n",
      "_________________________________________________________________\n"
     ]
    },
    {
     "name": "stderr",
     "output_type": "stream",
     "text": [
      "2020-06-01 19:09:54,750\tINFO catalog.py:363 -- Using custom preprocessor stratego_preprocessor\n"
     ]
    },
    {
     "name": "stdout",
     "output_type": "stream",
     "text": [
      "None\n",
      "_________________________________________________________________\n",
      "Model: \"model_3\"\n",
      "{'conv_activation': 'relu', 'conv_filters': [], 'use_lstm': False, 'max_seq_len': 20, 'custom_preprocessor': 'stratego_preprocessor', 'custom_model': 'sac_stratego_model', 'custom_options': {'mask_invalid_actions': True, 'observation_mode': 'partially_observable', 'q_fn': True, 'fake_lstm': False, 'use_lstm': False}, 'fcnet_activation': 'tanh', 'fcnet_hiddens': [40, 40, 40], 'free_log_std': False, 'no_final_linear': False, 'vf_share_layers': False, 'lstm_cell_size': 256, 'lstm_use_prev_action_reward': False, 'state_shape': None, 'framestack': True, 'dim': 84, 'grayscale': False, 'zero_mean': True, 'custom_action_dist': None}\n",
      "Box(33,)\n",
      "{'conv_activation': 'relu', 'conv_filters': [], 'use_lstm': False, 'max_seq_len': 20, 'custom_preprocessor': 'stratego_preprocessor', 'custom_model': 'sac_stratego_model', 'custom_options': {'mask_invalid_actions': True, 'observation_mode': 'partially_observable', 'q_fn': True, 'fake_lstm': False, 'use_lstm': False}, 'fcnet_activation': 'tanh', 'fcnet_hiddens': [40, 40, 40], 'free_log_std': False, 'no_final_linear': False, 'vf_share_layers': False, 'lstm_cell_size': 256, 'lstm_use_prev_action_reward': False, 'state_shape': None, 'framestack': True, 'dim': 84, 'grayscale': False, 'zero_mean': True, 'custom_action_dist': None}\n",
      "main_vf_fc_2 (Dense)         (None, 40)                1640      \n",
      "Box(33,)\n",
      "_________________________________________________________________\n",
      "main_vf_fc_2 (Dense)         (None, 40)                1640      \n"
     ]
    },
    {
     "name": "stderr",
     "output_type": "stream",
     "text": [
      "2020-06-01 19:09:54,760\tINFO catalog.py:363 -- Using custom preprocessor stratego_preprocessor\n"
     ]
    },
    {
     "name": "stdout",
     "output_type": "stream",
     "text": [
      "_________________________________________________________________\n",
      "=================================================================\n",
      "_________________________________________________________________\n",
      "Layer (type)                 Output Shape              Param #   \n",
      "main_vf_fc_q_out (Dense)     (None, 3)                 123       \n",
      "=================================================================\n",
      "Total params: 4,643\n"
     ]
    },
    {
     "name": "stderr",
     "output_type": "stream",
     "text": [
      "2020-06-01 19:09:54,768\tINFO catalog.py:363 -- Using custom preprocessor stratego_preprocessor\n"
     ]
    },
    {
     "name": "stdout",
     "output_type": "stream",
     "text": [
      "Trainable params: 4,643\n",
      "Non-trainable params: 0\n",
      "pi_observation (InputLayer)  [(None, 30)]              0         \n",
      "_________________________________________________________________\n",
      "None\n",
      "_________________________________________________________________\n",
      "pi_fc_0 (Dense)              (None, 40)                1240      \n",
      "main_vf_fc_q_out (Dense)     (None, 3)                 123       \n",
      "=================================================================\n",
      "Total params: 4,643\n",
      "Trainable params: 4,643\n",
      "{'conv_activation': 'relu', 'conv_filters': [], 'use_lstm': False, 'max_seq_len': 20, 'custom_preprocessor': 'stratego_preprocessor', 'custom_model': 'sac_stratego_model', 'custom_options': {'mask_invalid_actions': True, 'observation_mode': 'partially_observable', 'q_fn': True, 'fake_lstm': False, 'use_lstm': False}, 'fcnet_activation': 'tanh', 'fcnet_hiddens': [40, 40, 40], 'free_log_std': False, 'no_final_linear': False, 'vf_share_layers': False, 'lstm_cell_size': 256, 'lstm_use_prev_action_reward': False, 'state_shape': None, 'framestack': True, 'dim': 84, 'grayscale': False, 'zero_mean': True, 'custom_action_dist': None}\n",
      "_________________________________________________________________\n",
      "pi_fc_1 (Dense)              (None, 40)                1640      \n",
      "Non-trainable params: 0\n",
      "Box(33,)\n",
      "_________________________________________________________________\n"
     ]
    },
    {
     "name": "stderr",
     "output_type": "stream",
     "text": [
      "2020-06-01 19:09:54,794\tINFO catalog.py:363 -- Using custom preprocessor stratego_preprocessor\n"
     ]
    },
    {
     "name": "stdout",
     "output_type": "stream",
     "text": [
      "_________________________________________________________________\n",
      "None\n",
      "pi_fc_2 (Dense)              (None, 40)                1640      \n",
      "_________________________________________________________________\n",
      "pi_fc_unmasked_logits (Dense (None, 3)                 123       \n",
      "{'conv_activation': 'relu', 'conv_filters': [], 'use_lstm': False, 'max_seq_len': 20, 'custom_preprocessor': 'stratego_preprocessor', 'custom_model': 'sac_stratego_model', 'custom_options': {'mask_invalid_actions': True, 'observation_mode': 'partially_observable', 'q_fn': True, 'fake_lstm': False, 'use_lstm': False}, 'fcnet_activation': 'tanh', 'fcnet_hiddens': [40, 40, 40], 'free_log_std': False, 'no_final_linear': False, 'vf_share_layers': False, 'lstm_cell_size': 256, 'lstm_use_prev_action_reward': False, 'state_shape': None, 'framestack': True, 'dim': 84, 'grayscale': False, 'zero_mean': True, 'custom_action_dist': None}\n",
      "Box(33,)\n"
     ]
    },
    {
     "name": "stderr",
     "output_type": "stream",
     "text": [
      "2020-06-01 19:09:54,805\tINFO catalog.py:363 -- Using custom preprocessor stratego_preprocessor\n"
     ]
    },
    {
     "name": "stdout",
     "output_type": "stream",
     "text": [
      "=================================================================\n",
      "Total params: 4,643\n",
      "Trainable params: 4,643\n",
      "Non-trainable params: 0\n",
      "_________________________________________________________________\n",
      "None\n",
      "Model: \"model_4\"\n",
      "_________________________________________________________________\n",
      "Layer (type)                 Output Shape              Param #   \n",
      "=================================================================\n",
      "vf_observation (InputLayer)  [(None, 30)]              0         \n",
      "_________________________________________________________________\n",
      "main_vf_fc_0 (Dense)         (None, 40)                1240      \n",
      "_________________________________________________________________\n",
      "main_vf_fc_1 (Dense)         (None, 40)                1640      \n",
      "_________________________________________________________________\n",
      "main_vf_fc_2 (Dense)         (None, 40)                1640      \n",
      "_________________________________________________________________\n",
      "main_vf_fc_q_out (Dense)     (None, 3)                 123       \n",
      "=================================================================\n",
      "Total params: 4,643\n",
      "Trainable params: 4,643\n",
      "Non-trainable params: 0\n",
      "_________________________________________________________________\n",
      "None\n",
      "Model: \"model_5\"\n",
      "_________________________________________________________________\n",
      "Layer (type)                 Output Shape              Param #   \n",
      "=================================================================\n",
      "Model: \"model_5\"\n",
      "vf_observation (InputLayer)  [(None, 30)]              0         \n",
      "_________________________________________________________________\n",
      "_________________________________________________________________\n",
      "Layer (type)                 Output Shape              Param #   \n",
      "=================================================================\n",
      "twin_vf_fc_0 (Dense)         (None, 40)                1240      \n",
      "vf_observation (InputLayer)  [(None, 30)]              0         \n",
      "_________________________________________________________________\n",
      "_________________________________________________________________\n",
      "twin_vf_fc_1 (Dense)         (None, 40)                1640      \n",
      "twin_vf_fc_0 (Dense)         (None, 40)                1240      \n",
      "_________________________________________________________________\n",
      "twin_vf_fc_1 (Dense)         (None, 40)                1640      \n",
      "_________________________________________________________________\n",
      "twin_vf_fc_2 (Dense)         (None, 40)                1640      \n",
      "_________________________________________________________________\n",
      "twin_vf_fc_q_out (Dense)     (None, 3)                 123       \n",
      "=================================================================\n",
      "Total params: 4,643\n",
      "Model: \"model_5\"\n",
      "_________________________________________________________________\n",
      "_________________________________________________________________\n",
      "twin_vf_fc_2 (Dense)         (None, 40)                1640      \n",
      "Layer (type)                 Output Shape              Param #   \n",
      "=================================================================\n",
      "_________________________________________________________________\n",
      "twin_vf_fc_q_out (Dense)     (None, 3)                 123       \n",
      "=================================================================\n",
      "Total params: 4,643\n",
      "vf_observation (InputLayer)  [(None, 30)]              0         \n",
      "_________________________________________________________________\n",
      "Trainable params: 4,643\n",
      "Non-trainable params: 0\n",
      "twin_vf_fc_0 (Dense)         (None, 40)                1240      \n",
      "Trainable params: 4,643\n",
      "Model: \"model_5\"\n",
      "_________________________________________________________________\n",
      "Non-trainable params: 0\n",
      "twin_vf_fc_1 (Dense)         (None, 40)                1640      \n",
      "_________________________________________________________________\n",
      "Model: \"model_5\"\n",
      "_________________________________________________________________\n",
      "Layer (type)                 Output Shape              Param #   \n",
      "_________________________________________________________________\n",
      "_________________________________________________________________\n",
      "=================================================================\n",
      "Layer (type)                 Output Shape              Param #   \n",
      "twin_vf_fc_2 (Dense)         (None, 40)                1640      \n",
      "vf_observation (InputLayer)  [(None, 30)]              0         \n",
      "=================================================================\n",
      "_________________________________________________________________\n",
      "_________________________________________________________________\n",
      "vf_observation (InputLayer)  [(None, 30)]              0         \n",
      "None\n",
      "twin_vf_fc_q_out (Dense)     (None, 3)                 123       \n",
      "twin_vf_fc_0 (Dense)         (None, 40)                1240      \n",
      "_________________________________________________________________\n",
      "_________________________________________________________________\n",
      "twin_vf_fc_0 (Dense)         (None, 40)                1240      \n",
      "twin_vf_fc_1 (Dense)         (None, 40)                1640      \n",
      "_________________________________________________________________\n",
      "Model: \"model_5\"\n",
      "twin_vf_fc_1 (Dense)         (None, 40)                1640      \n",
      "_________________________________________________________________\n",
      "Model: \"model_3\"\n",
      "Layer (type)                 Output Shape              Param #   \n",
      "=================================================================\n",
      "_________________________________________________________________\n",
      "vf_observation (InputLayer)  [(None, 30)]              0         \n",
      "_________________________________________________________________\n",
      "None\n",
      "_________________________________________________________________\n",
      "twin_vf_fc_2 (Dense)         (None, 40)                1640      \n",
      "_________________________________________________________________\n",
      "Model: \"model_3\"\n",
      "_________________________________________________________________\n",
      "=================================================================\n",
      "Total params: 4,643\n",
      "Layer (type)                 Output Shape              Param #   \n",
      "Trainable params: 4,643\n",
      "=================================================================\n",
      "Non-trainable params: 0\n",
      "twin_vf_fc_0 (Dense)         (None, 40)                1240      \n",
      "pi_observation (InputLayer)  [(None, 30)]              0         \n",
      "_________________________________________________________________\n",
      "_________________________________________________________________\n",
      "_________________________________________________________________\n",
      "None\n",
      "twin_vf_fc_1 (Dense)         (None, 40)                1640      \n",
      "Model: \"model_3\"\n",
      "pi_fc_0 (Dense)              (None, 40)                1240      \n",
      "_________________________________________________________________\n",
      "_________________________________________________________________\n",
      "_________________________________________________________________\n",
      "Layer (type)                 Output Shape              Param #   \n",
      "_________________________________________________________________\n",
      "twin_vf_fc_2 (Dense)         (None, 40)                1640      \n",
      "=================================================================\n",
      "pi_fc_1 (Dense)              (None, 40)                1640      \n",
      "_________________________________________________________________\n",
      "pi_observation (InputLayer)  [(None, 30)]              0         \n",
      "twin_vf_fc_q_out (Dense)     (None, 3)                 123       \n",
      "Layer (type)                 Output Shape              Param #   \n",
      "_________________________________________________________________\n",
      "_________________________________________________________________\n",
      "_________________________________________________________________\n",
      "=================================================================\n",
      "pi_fc_2 (Dense)              (None, 40)                1640      \n",
      "pi_fc_0 (Dense)              (None, 40)                1240      \n",
      "=================================================================\n",
      "_________________________________________________________________\n",
      "Total params: 4,643\n",
      "twin_vf_fc_2 (Dense)         (None, 40)                1640      \n",
      "pi_observation (InputLayer)  [(None, 30)]              0         \n",
      "Trainable params: 4,643\n",
      "pi_fc_unmasked_logits (Dense (None, 3)                 123       \n",
      "_________________________________________________________________\n",
      "twin_vf_fc_q_out (Dense)     (None, 3)                 123       \n"
     ]
    },
    {
     "name": "stdout",
     "output_type": "stream",
     "text": [
      "Non-trainable params: 0\n",
      "_________________________________________________________________\n",
      "=================================================================\n",
      "twin_vf_fc_q_out (Dense)     (None, 3)                 123       \n",
      "_________________________________________________________________\n",
      "pi_fc_0 (Dense)              (None, 40)                1240      \n",
      "Total params: 4,643\n",
      "=================================================================\n",
      "None\n",
      "_________________________________________________________________\n",
      "=================================================================\n",
      "Trainable params: 4,643\n",
      "Total params: 4,643\n",
      "Model: \"model_3\"\n",
      "pi_fc_1 (Dense)              (None, 40)                1640      \n",
      "Non-trainable params: 0\n",
      "_________________________________________________________________\n",
      "_________________________________________________________________\n",
      "_________________________________________________________________\n",
      "Layer (type)                 Output Shape              Param #   \n",
      "None\n",
      "=================================================================\n",
      "Model: \"model_3\"\n",
      "pi_observation (InputLayer)  [(None, 30)]              0         \n",
      "_________________________________________________________________\n",
      "_________________________________________________________________\n",
      "Trainable params: 4,643\n",
      "Layer (type)                 Output Shape              Param #   \n",
      "Non-trainable params: 0\n",
      "_________________________________________________________________\n",
      "=================================================================\n",
      "pi_fc_0 (Dense)              (None, 40)                1240      \n",
      "pi_observation (InputLayer)  [(None, 30)]              0         \n",
      "None\n",
      "_________________________________________________________________\n",
      "_________________________________________________________________\n",
      "_________________________________________________________________\n",
      "pi_fc_2 (Dense)              (None, 40)                1640      \n",
      "pi_fc_1 (Dense)              (None, 40)                1640      \n",
      "pi_fc_1 (Dense)              (None, 40)                1640      \n",
      "Model: \"model_3\"\n",
      "pi_fc_0 (Dense)              (None, 40)                1240      \n",
      "_________________________________________________________________\n",
      "_________________________________________________________________\n",
      "_________________________________________________________________\n",
      "_________________________________________________________________\n",
      "_________________________________________________________________\n",
      "pi_fc_unmasked_logits (Dense (None, 3)                 123       \n",
      "Model: \"model_5\"\n",
      "pi_fc_1 (Dense)              (None, 40)                1640      \n",
      "=================================================================\n",
      "Layer (type)                 Output Shape              Param #   \n",
      "pi_fc_2 (Dense)              (None, 40)                1640      \n",
      "pi_fc_2 (Dense)              (None, 40)                1640      \n",
      "_________________________________________________________________\n",
      "_________________________________________________________________\n",
      "_________________________________________________________________\n",
      "Total params: 4,643\n",
      "=================================================================\n",
      "pi_fc_2 (Dense)              (None, 40)                1640      \n",
      "Layer (type)                 Output Shape              Param #   \n",
      "=================================================================\n",
      "Trainable params: 4,643\n",
      "pi_observation (InputLayer)  [(None, 30)]              0         \n",
      "Non-trainable params: 0\n",
      "vf_observation (InputLayer)  [(None, 30)]              0         \n",
      "_________________________________________________________________\n",
      "Total params: 4,643\n",
      "_________________________________________________________________\n",
      "_________________________________________________________________\n",
      "pi_fc_0 (Dense)              (None, 40)                1240      \n",
      "None\n",
      "Trainable params: 4,643\n",
      "_________________________________________________________________\n",
      "Non-trainable params: 0\n",
      "Model: \"model_4\"\n",
      "pi_fc_1 (Dense)              (None, 40)                1640      \n",
      "_________________________________________________________________\n",
      "twin_vf_fc_0 (Dense)         (None, 40)                1240      \n",
      "None\n",
      "_________________________________________________________________\n",
      "pi_fc_unmasked_logits (Dense (None, 3)                 123       \n",
      "_________________________________________________________________\n",
      "Model: \"model_4\"\n",
      "=================================================================\n",
      "_________________________________________________________________\n",
      "twin_vf_fc_1 (Dense)         (None, 40)                1640      \n",
      "pi_fc_2 (Dense)              (None, 40)                1640      \n",
      "Layer (type)                 Output Shape              Param #   \n",
      "_________________________________________________________________\n",
      "_________________________________________________________________\n",
      "Total params: 4,643\n",
      "Model: \"model_5\"\n",
      "=================================================================\n",
      "_________________________________________________________________\n",
      "_________________________________________________________________\n",
      "twin_vf_fc_2 (Dense)         (None, 40)                1640      \n",
      "_________________________________________________________________\n",
      "_________________________________________________________________\n",
      "pi_fc_unmasked_logits (Dense (None, 3)                 123       \n",
      "Layer (type)                 Output Shape              Param #   \n",
      "_________________________________________________________________\n",
      "pi_fc_unmasked_logits (Dense (None, 3)                 123       \n",
      "pi_fc_unmasked_logits (Dense (None, 3)                 123       \n",
      "vf_observation (InputLayer)  [(None, 30)]              0         \n",
      "=================================================================\n",
      "Layer (type)                 Output Shape              Param #   \n",
      "=================================================================\n",
      "=================================================================\n",
      "twin_vf_fc_q_out (Dense)     (None, 3)                 123       \n",
      "_________________________________________________________________\n",
      "=================================================================\n",
      "Total params: 4,643\n",
      "vf_observation (InputLayer)  [(None, 30)]              0         \n",
      "main_vf_fc_0 (Dense)         (None, 40)                1240      \n",
      "Total params: 4,643\n",
      "_________________________________________________________________\n",
      "Trainable params: 4,643\n",
      "_________________________________________________________________\n",
      "Total params: 4,643\n",
      "Trainable params: 4,643\n",
      "Non-trainable params: 0\n",
      "Trainable params: 4,643\n",
      "main_vf_fc_1 (Dense)         (None, 40)                1640      \n",
      "Non-trainable params: 0\n",
      "=================================================================\n",
      "_________________________________________________________________\n",
      "_________________________________________________________________\n",
      "Non-trainable params: 0\n",
      "_________________________________________________________________\n",
      "None\n",
      "main_vf_fc_2 (Dense)         (None, 40)                1640      \n",
      "None\n",
      "_________________________________________________________________\n",
      "Total params: 4,643\n",
      "_________________________________________________________________\n",
      "Model: \"model_4\"\n",
      "=================================================================\n",
      "None\n",
      "main_vf_fc_q_out (Dense)     (None, 3)                 123       \n",
      "Model: \"model_4\"\n",
      "_________________________________________________________________\n",
      "=================================================================\n",
      "Layer (type)                 Output Shape              Param #   \n",
      "_________________________________________________________________\n",
      "=================================================================\n",
      "Layer (type)                 Output Shape              Param #   \n",
      "Total params: 4,643\n",
      "Trainable params: 4,643\n",
      "vf_observation (InputLayer)  [(None, 30)]              0         \n",
      "vf_observation (InputLayer)  [(None, 30)]              0         \n",
      "Trainable params: 4,643\n",
      "_________________________________________________________________\n",
      "=================================================================\n",
      "Non-trainable params: 0\n",
      "_________________________________________________________________\n",
      "main_vf_fc_0 (Dense)         (None, 40)                1240      \n"
     ]
    },
    {
     "name": "stdout",
     "output_type": "stream",
     "text": [
      "Non-trainable params: 0\n",
      "_________________________________________________________________\n",
      "main_vf_fc_0 (Dense)         (None, 40)                1240      \n",
      "_________________________________________________________________\n",
      "_________________________________________________________________\n",
      "twin_vf_fc_0 (Dense)         (None, 40)                1240      \n",
      "None\n",
      "_________________________________________________________________\n",
      "None\n",
      "main_vf_fc_1 (Dense)         (None, 40)                1640      \n",
      "vf_observation (InputLayer)  [(None, 30)]              0         \n",
      "_________________________________________________________________\n",
      "Model: \"model_4\"\n",
      "main_vf_fc_1 (Dense)         (None, 40)                1640      \n",
      "Model: \"model_3\"\n",
      "_________________________________________________________________\n",
      "_________________________________________________________________\n",
      "twin_vf_fc_1 (Dense)         (None, 40)                1640      \n",
      "_________________________________________________________________\n",
      "_________________________________________________________________\n",
      "Layer (type)                 Output Shape              Param #   \n",
      "_________________________________________________________________\n",
      "main_vf_fc_2 (Dense)         (None, 40)                1640      \n",
      "Layer (type)                 Output Shape              Param #   \n",
      "main_vf_fc_2 (Dense)         (None, 40)                1640      \n",
      "=================================================================\n",
      "=================================================================\n",
      "_________________________________________________________________\n",
      "vf_observation (InputLayer)  [(None, 30)]              0         \n",
      "pi_observation (InputLayer)  [(None, 30)]              0         \n",
      "main_vf_fc_q_out (Dense)     (None, 3)                 123       \n",
      "_________________________________________________________________\n",
      "=================================================================\n",
      "pi_fc_0 (Dense)              (None, 40)                1240      \n",
      "Total params: 4,643\n",
      "_________________________________________________________________\n",
      "twin_vf_fc_2 (Dense)         (None, 40)                1640      \n",
      "_________________________________________________________________\n",
      "Trainable params: 4,643\n",
      "_________________________________________________________________\n",
      "main_vf_fc_0 (Dense)         (None, 40)                1240      \n",
      "pi_fc_1 (Dense)              (None, 40)                1640      \n",
      "Non-trainable params: 0\n",
      "_________________________________________________________________\n",
      "_________________________________________________________________\n",
      "twin_vf_fc_q_out (Dense)     (None, 3)                 123       \n",
      "_________________________________________________________________\n",
      "pi_fc_2 (Dense)              (None, 40)                1640      \n",
      "main_vf_fc_1 (Dense)         (None, 40)                1640      \n",
      "=================================================================\n",
      "Trainable params: 4,643\n",
      "_________________________________________________________________\n",
      "_________________________________________________________________\n",
      "_________________________________________________________________\n",
      "Non-trainable params: 0\n",
      "Total params: 4,643\n",
      "main_vf_fc_0 (Dense)         (None, 40)                1240      \n",
      "_________________________________________________________________\n",
      "Trainable params: 4,643\n",
      "main_vf_fc_2 (Dense)         (None, 40)                1640      \n",
      "None\n",
      "_________________________________________________________________\n",
      "Non-trainable params: 0\n",
      "None\n",
      "_________________________________________________________________\n",
      "_________________________________________________________________\n",
      "main_vf_fc_1 (Dense)         (None, 40)                1640      \n",
      "_________________________________________________________________\n",
      "main_vf_fc_q_out (Dense)     (None, 3)                 123       \n",
      "_________________________________________________________________\n",
      "=================================================================\n",
      "main_vf_fc_q_out (Dense)     (None, 3)                 123       \n",
      "Total params: 4,643\n",
      "main_vf_fc_2 (Dense)         (None, 40)                1640      \n",
      "Trainable params: 4,643\n",
      "_________________________________________________________________\n",
      "Non-trainable params: 0\n",
      "main_vf_fc_q_out (Dense)     (None, 3)                 123       \n",
      "_________________________________________________________________\n",
      "None\n",
      "None\n",
      "=================================================================\n",
      "Model: \"model_3\"\n",
      "Total params: 4,643\n",
      "=================================================================\n",
      "Trainable params: 4,643\n",
      "_________________________________________________________________\n",
      "pi_fc_unmasked_logits (Dense (None, 3)                 123       \n",
      "Layer (type)                 Output Shape              Param #   \n",
      "=================================================================\n",
      "Total params: 4,643\n",
      "Model: \"model_4\"\n",
      "pi_observation (InputLayer)  [(None, 30)]              0         \n",
      "Non-trainable params: 0\n",
      "=================================================================\n",
      "Trainable params: 4,643\n",
      "Total params: 4,643\n",
      "_________________________________________________________________\n",
      "Non-trainable params: 0\n",
      "Trainable params: 4,643\n",
      "_________________________________________________________________\n",
      "_________________________________________________________________\n",
      "_________________________________________________________________\n",
      "pi_fc_0 (Dense)              (None, 40)                1240      \n",
      "Layer (type)                 Output Shape              Param #   \n",
      "_________________________________________________________________\n",
      "=================================================================\n",
      "pi_fc_1 (Dense)              (None, 40)                1640      \n",
      "_________________________________________________________________\n",
      "vf_observation (InputLayer)  [(None, 30)]              0         \n",
      "pi_fc_2 (Dense)              (None, 40)                1640      \n",
      "_________________________________________________________________\n",
      "_________________________________________________________________\n",
      "main_vf_fc_0 (Dense)         (None, 40)                1240      \n",
      "pi_fc_unmasked_logits (Dense (None, 3)                 123       \n",
      "_________________________________________________________________\n",
      "=================================================================\n",
      "main_vf_fc_1 (Dense)         (None, 40)                1640      \n",
      "_________________________________________________________________\n",
      "Total params: 4,643\n",
      "None\n",
      "None\n",
      "Non-trainable params: 0\n",
      "main_vf_fc_2 (Dense)         (None, 40)                1640      \n",
      "Trainable params: 4,643\n",
      "_________________________________________________________________\n",
      "_________________________________________________________________\n",
      "None\n",
      "main_vf_fc_q_out (Dense)     (None, 3)                 123       \n",
      "Non-trainable params: 0\n",
      "_________________________________________________________________\n",
      "=================================================================\n",
      "None\n",
      "Model: \"model_4\"\n",
      "Model: \"model_4\"\n",
      "_________________________________________________________________\n",
      "Total params: 4,643\n",
      "_________________________________________________________________\n",
      "Layer (type)                 Output Shape              Param #   \n",
      "Trainable params: 4,643\n",
      "Layer (type)                 Output Shape              Param #   \n",
      "=================================================================\n",
      "vf_observation (InputLayer)  [(None, 30)]              0         \n",
      "_________________________________________________________________\n",
      "main_vf_fc_0 (Dense)         (None, 40)                1240      \n",
      "_________________________________________________________________\n",
      "Non-trainable params: 0\n",
      "main_vf_fc_1 (Dense)         (None, 40)                1640      \n",
      "_________________________________________________________________\n",
      "_________________________________________________________________\n",
      "main_vf_fc_2 (Dense)         (None, 40)                1640      \n",
      "None\n",
      "_________________________________________________________________\n",
      "main_vf_fc_q_out (Dense)     (None, 3)                 123       \n",
      "=================================================================\n",
      "=================================================================\n",
      "Total params: 4,643\n",
      "vf_observation (InputLayer)  [(None, 30)]              0         \n"
     ]
    },
    {
     "name": "stdout",
     "output_type": "stream",
     "text": [
      "Trainable params: 4,643\n",
      "_________________________________________________________________\n",
      "main_vf_fc_0 (Dense)         (None, 40)                1240      \n",
      "_________________________________________________________________\n",
      "main_vf_fc_1 (Dense)         (None, 40)                1640      \n",
      "Non-trainable params: 0\n",
      "_________________________________________________________________\n",
      "_________________________________________________________________\n",
      "None\n",
      "main_vf_fc_2 (Dense)         (None, 40)                1640      \n",
      "_________________________________________________________________\n",
      "main_vf_fc_q_out (Dense)     (None, 3)                 123       \n",
      "=================================================================\n",
      "Total params: 4,643\n",
      "Trainable params: 4,643\n",
      "Non-trainable params: 0\n",
      "_________________________________________________________________\n",
      "None\n"
     ]
    },
    {
     "name": "stderr",
     "output_type": "stream",
     "text": [
      "2020-06-01 19:10:02,296\tINFO tf_run_builder.py:92 -- Executing TF run without tracing. To dump TF timeline traces to disk, set the TF_TIMELINE_DIR environment variable.\n",
      "2020-06-01 19:10:03,072\tINFO tf_run_builder.py:92 -- Executing TF run without tracing. To dump TF timeline traces to disk, set the TF_TIMELINE_DIR environment variable.\n",
      "2020-06-01 19:10:03,175\tINFO tf_run_builder.py:92 -- Executing TF run without tracing. To dump TF timeline traces to disk, set the TF_TIMELINE_DIR environment variable.\n",
      "2020-06-01 19:10:03,405\tINFO tf_run_builder.py:92 -- Executing TF run without tracing. To dump TF timeline traces to disk, set the TF_TIMELINE_DIR environment variable.\n",
      "2020-06-01 19:10:03,505\tINFO tf_run_builder.py:92 -- Executing TF run without tracing. To dump TF timeline traces to disk, set the TF_TIMELINE_DIR environment variable.\n",
      "2020-06-01 19:10:03,518\tINFO tf_run_builder.py:92 -- Executing TF run without tracing. To dump TF timeline traces to disk, set the TF_TIMELINE_DIR environment variable.\n",
      "2020-06-01 19:10:03,562\tINFO tf_run_builder.py:92 -- Executing TF run without tracing. To dump TF timeline traces to disk, set the TF_TIMELINE_DIR environment variable.\n",
      "2020-06-01 19:10:03,645\tINFO tf_run_builder.py:92 -- Executing TF run without tracing. To dump TF timeline traces to disk, set the TF_TIMELINE_DIR environment variable.\n",
      "2020-06-01 19:10:03,657\tINFO tf_run_builder.py:92 -- Executing TF run without tracing. To dump TF timeline traces to disk, set the TF_TIMELINE_DIR environment variable.\n"
     ]
    },
    {
     "name": "stdout",
     "output_type": "stream",
     "text": [
      "1 policies, 2.9374850478021273 exploitability\n",
      "1 policies, 2.653782920508414 exploitability\n",
      "1 policies, 3.066534679987807 exploitability\n",
      "1 policies, 3.074998869772367 exploitability\n",
      "1 policies, 2.957693296405573 exploitability\n",
      "1 policies, 3.037660387070674 exploitability\n",
      "1 policies, 3.1543033616375658 exploitability\n",
      "1 policies, 2.999997654584079 exploitability\n",
      "1 policies, 3.4583411164274986 exploitability\n",
      "2 policies, 2.979169793580082 exploitability\n",
      "2 policies, 1.4908850095293888 exploitability\n",
      "2 policies, 1.6788976073216095 exploitability\n",
      "2 policies, 2.011005858413469 exploitability\n",
      "2 policies, 2.039313971763035 exploitability\n",
      "2 policies, 1.834529209056181 exploitability\n",
      "2 policies, 3.015247828497479 exploitability\n",
      "2 policies, 2.571364389119915 exploitability\n",
      "2 policies, 2.0466764640548027 exploitability\n",
      "3 policies, 3.0513811180907915 exploitability\n",
      "3 policies, 1.599272362898265 exploitability\n",
      "3 policies, 2.957589753225438 exploitability\n",
      "3 policies, 1.2482805139387887 exploitability\n",
      "3 policies, 1.7759193776898146 exploitability\n",
      "3 policies, 2.096307725603419 exploitability\n",
      "3 policies, 1.4613696626664026 exploitability\n",
      "3 policies, 2.6848255616685424 exploitability\n",
      "3 policies, 1.898161854300493 exploitability\n",
      "4 policies, 1.4061138906233142 exploitability\n",
      "4 policies, 2.228605310859631 exploitability\n",
      "4 policies, 2.5472098263479097 exploitability\n",
      "4 policies, 1.1048147695343689 exploitability\n",
      "4 policies, 1.7474989772134923 exploitability\n",
      "4 policies, 1.070110380463577 exploitability\n",
      "4 policies, 2.5621776326944636 exploitability\n",
      "4 policies, 2.1622034246303294 exploitability\n",
      "4 policies, 2.285012339058354 exploitability\n",
      "5 policies, 2.3343692667700005 exploitability\n",
      "5 policies, 1.1046005760744717 exploitability\n",
      "5 policies, 1.5419311550541348 exploitability\n",
      "5 policies, 0.9509428241392155 exploitability\n",
      "5 policies, 2.3243305891072366 exploitability\n",
      "5 policies, 1.9149878346058662 exploitability\n",
      "5 policies, 1.6691364710222125 exploitability\n",
      "5 policies, 1.975090277476956 exploitability\n",
      "5 policies, 1.8317969003475674 exploitability\n",
      "6 policies, 0.9213136667277608 exploitability\n",
      "6 policies, 1.5727469582938542 exploitability\n",
      "6 policies, 1.7170814607799247 exploitability\n",
      "6 policies, 1.9942967056230412 exploitability\n",
      "6 policies, 1.1436629436180168 exploitability\n",
      "6 policies, 1.5195192510081301 exploitability\n",
      "6 policies, 1.9647581107973426 exploitability\n",
      "6 policies, 1.8923103737952869 exploitability\n",
      "6 policies, 1.5711542080197138 exploitability\n",
      "7 policies, 1.4265281906414495 exploitability\n",
      "7 policies, 1.1016455365351296 exploitability\n",
      "7 policies, 1.7728548537324182 exploitability\n",
      "7 policies, 1.9434536321252402 exploitability\n",
      "7 policies, 0.8218503084668338 exploitability\n",
      "7 policies, 1.6090534520622857 exploitability\n",
      "7 policies, 1.3676761012400542 exploitability\n",
      "7 policies, 1.414523356830712 exploitability\n",
      "7 policies, 1.6668779666886273 exploitability\n",
      "8 policies, 0.9637355908631048 exploitability\n",
      "8 policies, 1.5282507174782038 exploitability\n",
      "8 policies, 0.7685572493850579 exploitability\n",
      "8 policies, 1.6866938331939014 exploitability\n",
      "8 policies, 1.3728056876031154 exploitability\n",
      "8 policies, 1.5982725094216708 exploitability\n",
      "8 policies, 1.2309368510793468 exploitability\n",
      "8 policies, 1.4246195165062079 exploitability\n",
      "8 policies, 1.7241483072139645 exploitability\n",
      "9 policies, 1.1411645068083118 exploitability\n",
      "9 policies, 1.4284518809320752 exploitability\n",
      "9 policies, 1.5708559925918193 exploitability\n",
      "9 policies, 0.9075104593667819 exploitability\n",
      "9 policies, 0.7206313923920401 exploitability\n",
      "9 policies, 1.4145794770828002 exploitability\n",
      "9 policies, 1.5657955848361609 exploitability\n",
      "9 policies, 1.3824656413065668 exploitability\n",
      "9 policies, 1.6798819422144757 exploitability\n",
      "10 policies, 1.4679964827232266 exploitability\n",
      "10 policies, 1.3319269689421325 exploitability\n",
      "10 policies, 1.0218268133775648 exploitability\n",
      "10 policies, 0.7104273768961636 exploitability\n",
      "10 policies, 1.5601124842581697 exploitability\n",
      "10 policies, 0.8700703524007773 exploitability\n",
      "10 policies, 1.3992881802243713 exploitability\n",
      "10 policies, 1.3706108219475515 exploitability\n",
      "10 policies, 1.7678697332376365 exploitability\n",
      "11 policies, 1.3977458458420386 exploitability\n",
      "11 policies, 0.6999368084236011 exploitability\n",
      "11 policies, 0.8696168666604365 exploitability\n",
      "11 policies, 1.3267276718033356 exploitability\n",
      "11 policies, 1.0620878241972946 exploitability\n",
      "11 policies, 1.634128364095853 exploitability\n",
      "11 policies, 1.3287813309530385 exploitability\n",
      "11 policies, 1.2877542456813011 exploitability\n",
      "11 policies, 1.6346272895905758 exploitability\n",
      "12 policies, 0.9331043924453645 exploitability\n",
      "12 policies, 1.3475703877825003 exploitability\n",
      "12 policies, 1.3206375588908021 exploitability\n",
      "12 policies, 1.0650542282474698 exploitability\n",
      "12 policies, 0.6935496110315593 exploitability\n",
      "12 policies, 1.5287892318626064 exploitability\n",
      "12 policies, 1.2318567075781264 exploitability\n",
      "12 policies, 1.3132632021875243 exploitability\n",
      "12 policies, 1.6064474074623858 exploitability\n",
      "13 policies, 0.8766539433491127 exploitability\n",
      "13 policies, 1.302541406957481 exploitability\n",
      "13 policies, 1.2883706045925463 exploitability\n",
      "13 policies, 1.0130551845528148 exploitability\n",
      "13 policies, 0.6843369082543248 exploitability\n",
      "13 policies, 1.2938084772014216 exploitability\n",
      "13 policies, 1.433147306556825 exploitability\n",
      "13 policies, 1.2188992163488779 exploitability\n",
      "13 policies, 1.6446889874183241 exploitability\n",
      "14 policies, 0.815137928892651 exploitability\n",
      "14 policies, 1.2397032120716325 exploitability\n",
      "14 policies, 1.2373832186636076 exploitability\n",
      "14 policies, 0.6337877357951831 exploitability\n",
      "14 policies, 1.223656250594831 exploitability\n",
      "14 policies, 0.9312271290740857 exploitability\n",
      "14 policies, 1.3594247037333784 exploitability\n",
      "14 policies, 1.2920448160764002 exploitability\n",
      "14 policies, 1.574041043186805 exploitability\n",
      "15 policies, 1.2054966281180148 exploitability\n",
      "15 policies, 0.771609254914562 exploitability\n",
      "15 policies, 1.2253067910800848 exploitability\n",
      "15 policies, 0.6085350518934068 exploitability\n",
      "15 policies, 1.1925580468403933 exploitability\n",
      "15 policies, 0.860360791752681 exploitability\n",
      "15 policies, 1.3013724583718282 exploitability\n",
      "15 policies, 1.3526357054720628 exploitability\n",
      "15 policies, 1.597831093483273 exploitability\n",
      "16 policies, 0.591408280863996 exploitability\n",
      "16 policies, 0.7604687337254115 exploitability\n",
      "16 policies, 1.1546272391823038 exploitability\n",
      "16 policies, 1.1634204054114443 exploitability\n",
      "16 policies, 0.7973117377083137 exploitability\n",
      "16 policies, 1.1790869783963047 exploitability\n",
      "16 policies, 1.2199894765815733 exploitability\n",
      "16 policies, 1.2813652163929314 exploitability\n",
      "16 policies, 1.7094198835963592 exploitability\n",
      "17 policies, 0.616540459802762 exploitability\n",
      "17 policies, 1.1885167891260577 exploitability\n",
      "17 policies, 0.7473294323836315 exploitability\n",
      "17 policies, 0.7482683842734918 exploitability\n",
      "17 policies, 1.1453048172086207 exploitability\n",
      "17 policies, 1.118842586367367 exploitability\n",
      "17 policies, 1.1466714935589708 exploitability\n",
      "17 policies, 1.3514051342096027 exploitability\n",
      "17 policies, 1.6304882392737685 exploitability\n",
      "18 policies, 0.6214912141036102 exploitability\n",
      "18 policies, 0.7216009238732046 exploitability\n",
      "18 policies, 1.134223076933143 exploitability\n",
      "18 policies, 1.1187193748546629 exploitability\n",
      "18 policies, 1.0972141637278976 exploitability\n",
      "18 policies, 1.0851308702436295 exploitability\n",
      "18 policies, 1.3042611829331179 exploitability\n",
      "18 policies, 1.5948357776853417 exploitability\n",
      "19 policies, 0.6094720463197595 exploitability\n",
      "19 policies, 1.0999887702892013 exploitability\n",
      "19 policies, 0.7143414998842352 exploitability\n",
      "19 policies, 1.060725877742928 exploitability\n",
      "19 policies, 1.060631022721374 exploitability\n",
      "19 policies, 1.1759891220576912 exploitability\n",
      "19 policies, 1.3238709327928682 exploitability\n",
      "19 policies, 1.5636297284528684 exploitability\n",
      "20 policies, 1.0472513824709322 exploitability\n",
      "20 policies, 0.5637141726177309 exploitability\n",
      "20 policies, 0.6799233354755527 exploitability\n",
      "20 policies, 1.0122290082634449 exploitability\n",
      "20 policies, 1.0086395141555473 exploitability\n",
      "20 policies, 1.1702806417962477 exploitability\n",
      "20 policies, 1.3681323490263333 exploitability\n",
      "20 policies, 1.5175805330904144 exploitability\n"
     ]
    },
    {
     "name": "stdout",
     "output_type": "stream",
     "text": [
      "21 policies, 0.6647079411675371 exploitability\n",
      "21 policies, 1.0192720063871876 exploitability\n",
      "21 policies, 1.0023541287322477 exploitability\n",
      "21 policies, 0.9574264018863472 exploitability\n",
      "21 policies, 1.1512243956268229 exploitability\n",
      "21 policies, 1.3755090980239415 exploitability\n",
      "21 policies, 1.5122641861045196 exploitability\n",
      "22 policies, 0.9712953890334635 exploitability\n",
      "22 policies, 0.9903251272791094 exploitability\n",
      "22 policies, 0.6426449713384652 exploitability\n",
      "22 policies, 0.9762983004457171 exploitability\n",
      "22 policies, 1.1259424624863035 exploitability\n",
      "22 policies, 1.3401382258799333 exploitability\n",
      "22 policies, 1.4972847688252173 exploitability\n",
      "23 policies, 0.953002914738782 exploitability\n",
      "23 policies, 0.9762197628234159 exploitability\n",
      "23 policies, 0.9456022488465611 exploitability\n",
      "23 policies, 1.3248049926891938 exploitability\n",
      "23 policies, 1.1378681494231786 exploitability\n",
      "23 policies, 1.4291522823981913 exploitability\n",
      "24 policies, 0.9157823175234896 exploitability\n",
      "24 policies, 0.9785385877410748 exploitability\n",
      "24 policies, 0.9167784000162144 exploitability\n",
      "24 policies, 1.184836357906926 exploitability\n",
      "24 policies, 1.3200535851256576 exploitability\n",
      "24 policies, 1.3677855239464134 exploitability\n",
      "25 policies, 0.9406458719408961 exploitability\n",
      "25 policies, 0.9894511424643632 exploitability\n",
      "25 policies, 0.9168118793277628 exploitability\n",
      "25 policies, 1.209663114940138 exploitability\n",
      "25 policies, 1.2821263308287678 exploitability\n",
      "25 policies, 1.3322385571807378 exploitability\n",
      "26 policies, 0.9277007134297333 exploitability\n",
      "26 policies, 0.9786328268297367 exploitability\n",
      "26 policies, 0.9088674855664606 exploitability\n",
      "26 policies, 1.20732605187885 exploitability\n",
      "26 policies, 1.310188551762109 exploitability\n",
      "26 policies, 1.3185722061281568 exploitability\n",
      "27 policies, 0.9575311049900683 exploitability\n",
      "27 policies, 0.9173462879476523 exploitability\n",
      "27 policies, 0.8820231280717366 exploitability\n",
      "27 policies, 1.2840052286113486 exploitability\n",
      "27 policies, 1.18080902472236 exploitability\n",
      "27 policies, 1.3246724926813582 exploitability\n",
      "28 policies, 0.9112286997722936 exploitability\n",
      "28 policies, 0.9503108344985043 exploitability\n",
      "28 policies, 0.8661625423262329 exploitability\n",
      "28 policies, 1.221746286987006 exploitability\n",
      "28 policies, 1.1537879685181551 exploitability\n",
      "28 policies, 1.319234658234751 exploitability\n",
      "29 policies, 0.8934850448562367 exploitability\n",
      "29 policies, 0.9179889818647285 exploitability\n",
      "29 policies, 0.8564948073070697 exploitability\n",
      "29 policies, 1.1784829839114193 exploitability\n",
      "29 policies, 1.1761166487931263 exploitability\n",
      "29 policies, 1.3035305047463799 exploitability\n",
      "30 policies, 0.8767526171184665 exploitability\n",
      "30 policies, 0.8871043570266017 exploitability\n",
      "30 policies, 0.8455900119812242 exploitability\n",
      "30 policies, 1.164859770789625 exploitability\n",
      "30 policies, 1.1868569380000493 exploitability\n",
      "30 policies, 1.3065823581910354 exploitability\n",
      "31 policies, 0.8491933816596092 exploitability\n",
      "31 policies, 0.8553651718004344 exploitability\n",
      "31 policies, 0.8166034566813258 exploitability\n",
      "31 policies, 1.199661329668949 exploitability\n",
      "31 policies, 1.2138831796906402 exploitability\n",
      "31 policies, 1.2972742420973047 exploitability\n",
      "32 policies, 0.8428685620308332 exploitability\n",
      "32 policies, 0.8376799793773335 exploitability\n",
      "32 policies, 0.7899740514470805 exploitability\n",
      "32 policies, 1.1973506253346557 exploitability\n",
      "32 policies, 1.19433507782428 exploitability\n",
      "32 policies, 1.2690836792815956 exploitability\n",
      "33 policies, 0.8128160419957139 exploitability\n",
      "33 policies, 0.7730306159827685 exploitability\n",
      "33 policies, 0.8166273972505312 exploitability\n",
      "33 policies, 1.1826471154210343 exploitability\n",
      "33 policies, 1.1810219374049964 exploitability\n",
      "33 policies, 1.257365430094428 exploitability\n",
      "34 policies, 0.790456588053664 exploitability\n",
      "34 policies, 0.7515620614288877 exploitability\n",
      "34 policies, 0.7874214024191175 exploitability\n",
      "34 policies, 1.1962816517566393 exploitability\n",
      "34 policies, 1.230711024518354 exploitability\n",
      "34 policies, 1.2400326878945194 exploitability\n",
      "35 policies, 0.7628590219319629 exploitability\n",
      "35 policies, 0.7704125573065607 exploitability\n",
      "35 policies, 0.7436307951274355 exploitability\n",
      "35 policies, 1.207063295871513 exploitability\n",
      "35 policies, 1.2490772374874108 exploitability\n",
      "35 policies, 1.2181211968685393 exploitability\n",
      "36 policies, 0.7629690715044907 exploitability\n",
      "36 policies, 0.7407925558400057 exploitability\n",
      "36 policies, 0.7356814743566344 exploitability\n",
      "36 policies, 1.1875503516721648 exploitability\n",
      "36 policies, 1.2300216338812877 exploitability\n",
      "36 policies, 1.2009293288716985 exploitability\n",
      "37 policies, 0.7220716029725545 exploitability\n",
      "37 policies, 0.730178840288433 exploitability\n",
      "37 policies, 0.7506109587548069 exploitability\n",
      "37 policies, 1.177566782896937 exploitability\n",
      "37 policies, 1.21651683028194 exploitability\n",
      "37 policies, 1.2047419945627307 exploitability\n",
      "38 policies, 0.7057269614399118 exploitability\n",
      "38 policies, 0.747964139323152 exploitability\n",
      "38 policies, 0.7131272041210047 exploitability\n",
      "38 policies, 1.1653084119906283 exploitability\n",
      "38 policies, 1.1966131709490149 exploitability\n",
      "38 policies, 1.2029327074319347 exploitability\n",
      "39 policies, 0.6971793072572448 exploitability\n",
      "39 policies, 0.696049224464051 exploitability\n",
      "39 policies, 0.7537546847925825 exploitability\n",
      "39 policies, 1.142256176230344 exploitability\n",
      "39 policies, 1.2130702625024097 exploitability\n",
      "39 policies, 1.1898744042184228 exploitability\n",
      "40 policies, 0.688412088291608 exploitability\n",
      "40 policies, 0.6854203236492508 exploitability\n",
      "40 policies, 0.7452821104952005 exploitability\n",
      "40 policies, 1.1120430837878559 exploitability\n",
      "40 policies, 1.2245737296998076 exploitability\n",
      "40 policies, 1.215212695683301 exploitability\n",
      "41 policies, 0.6785284287270408 exploitability\n",
      "41 policies, 0.6723659595398915 exploitability\n",
      "41 policies, 1.1174893487704964 exploitability\n",
      "41 policies, 0.7380028585728035 exploitability\n",
      "41 policies, 1.190783580223425 exploitability\n",
      "41 policies, 1.2065010217439756 exploitability\n",
      "42 policies, 0.6749873208968156 exploitability\n",
      "42 policies, 0.720143193623443 exploitability\n",
      "42 policies, 0.6796851397841491 exploitability\n",
      "42 policies, 1.1279570247278712 exploitability\n",
      "42 policies, 1.192528160130872 exploitability\n",
      "42 policies, 1.2042333769827964 exploitability\n",
      "43 policies, 0.6713736911174131 exploitability\n",
      "43 policies, 0.6781598042832688 exploitability\n",
      "43 policies, 0.7111662252966227 exploitability\n",
      "43 policies, 1.1531783936579343 exploitability\n",
      "43 policies, 1.1755847378246138 exploitability\n",
      "43 policies, 1.2021207121249466 exploitability\n",
      "44 policies, 0.6705592639530276 exploitability\n",
      "44 policies, 0.6967627582049597 exploitability\n",
      "44 policies, 0.6791919252247307 exploitability\n",
      "44 policies, 1.159532351826587 exploitability\n",
      "44 policies, 1.1413076119624264 exploitability\n",
      "44 policies, 1.2043803811447016 exploitability\n",
      "45 policies, 0.6610050430545517 exploitability\n",
      "45 policies, 0.6726915638163631 exploitability\n",
      "45 policies, 1.123680066574677 exploitability\n",
      "45 policies, 0.6823091875063074 exploitability\n",
      "45 policies, 1.1404122425219005 exploitability\n",
      "45 policies, 1.189967090539102 exploitability\n",
      "46 policies, 0.6539123165908656 exploitability\n",
      "46 policies, 0.6769635877649274 exploitability\n",
      "46 policies, 1.154702494098375 exploitability\n",
      "46 policies, 0.672580561706553 exploitability\n",
      "47 policies, 0.6377458896064833 exploitability\n",
      "47 policies, 0.6712316957133355 exploitability\n",
      "47 policies, 1.144894322055809 exploitability\n",
      "47 policies, 0.6624386162764209 exploitability\n",
      "48 policies, 0.622777022393246 exploitability\n",
      "48 policies, 0.6721263864330513 exploitability\n",
      "48 policies, 1.1785907985882391 exploitability\n",
      "48 policies, 0.6471972046136549 exploitability\n",
      "49 policies, 0.6164414207391675 exploitability\n",
      "49 policies, 0.6673556860576451 exploitability\n",
      "49 policies, 0.6343945926297778 exploitability\n",
      "50 policies, 0.6147244233045908 exploitability\n",
      "50 policies, 0.6619966077733113 exploitability\n",
      "50 policies, 0.6313135030703927 exploitability\n",
      "51 policies, 0.6187785251557374 exploitability\n",
      "51 policies, 0.6633749665911731 exploitability\n",
      "51 policies, 0.6274365267083303 exploitability\n",
      "52 policies, 0.6164791500887605 exploitability\n",
      "52 policies, 0.6528895553708249 exploitability\n",
      "52 policies, 0.6191769309105855 exploitability\n"
     ]
    },
    {
     "name": "stdout",
     "output_type": "stream",
     "text": [
      "53 policies, 0.6089420075152792 exploitability\n",
      "53 policies, 0.6425002109997187 exploitability\n",
      "53 policies, 0.6176685075222941 exploitability\n",
      "54 policies, 0.6318998985693998 exploitability\n",
      "54 policies, 0.6224179845818658 exploitability\n"
     ]
    }
   ],
   "source": [
    "# google_cloud_kuhn_experiment_payoff_tables_and_names = [\n",
    "#     (\"leduc_poker_pipe_3_workers_poker_ps/leduc_pipeline_psro/pipe-1-3-3-leduc-poker_pid_430_09_03_49AM_Jun-01-2020/payoff_tables/latest.dill\",\"leduc_pipe_1\"),\n",
    "#     (\"leduc_poker_pipe_3_workers_poker_ps/leduc_pipeline_psro/pipe-2-3-3-leduc-poker_pid_430_09_04_00AM_Jun-01-2020/payoff_tables/latest.dill\",\"leduc_pipe_2\"),\n",
    "#     (\"leduc_poker_pipe_3_workers_poker_ps/leduc_pipeline_psro/pipe-3-3-3-leduc-poker_pid_431_09_04_01AM_Jun-01-2020/payoff_tables/latest.dill\",\"leduc_pipe_3\"),\n",
    "#     (\"leduc_poker_rect_3_workers_poker_ps/leduc_psro_rectified/rect-1-3-3-leduc-poker_pid_429_09_04_14AM_Jun-01-2020/payoff_tables/latest.dill\",\"leduc_rect_1\"),\n",
    "#     (\"leduc_poker_rect_3_workers_poker_ps/leduc_psro_rectified/rect-2-3-3-leduc-poker_pid_430_09_04_24AM_Jun-01-2020/payoff_tables/latest.dill\",\"leduc_rect_2\"),\n",
    "#     (\"leduc_poker_rect_3_workers_poker_ps/leduc_psro_rectified/rect-3-3-3-leduc-poker_pid_430_09_04_45AM_Jun-01-2020/payoff_tables/latest.dill\",\"leduc_rect_3\"),\n",
    "#     (\"leduc_poker_naive_3_workers_poker_ps/leduc_psro_naive/naive-1-3-3-leduc-poker_pid_430_09_03_04AM_Jun-01-2020/payoff_tables/latest.dill\",\"leduc_naive_1\"),\n",
    "#     (\"leduc_poker_naive_3_workers_poker_ps/leduc_psro_naive/naive-2-3-3-leduc-poker_pid_430_09_03_16AM_Jun-01-2020/payoff_tables/latest.dill\",\"leduc_naive_2\"),\n",
    "#     (\"leduc_poker_naive_3_workers_poker_ps/leduc_psro_naive/naive-3-3-3-leduc-poker_pid_430_09_03_34AM_Jun-01-2020/payoff_tables/latest.dill\",\"leduc_naive_3\")\n",
    "\n",
    "# ]\n",
    "\n",
    "# gc_kuhn_table_keys, gc_kuhn_exp_names = zip(*google_cloud_kuhn_experiment_payoff_tables_and_names)\n",
    "\n",
    "# gc_kuhn_perf_df = get_exploitability_stats_over_time_for_payoff_table_all_same_poker_version(\n",
    "#     payoff_table_keys=gc_kuhn_table_keys,\n",
    "#     exp_names=gc_kuhn_exp_names,\n",
    "#     poker_game_version=\"leduc_poker\",\n",
    "#     model_config_key=POKER_ARCH1_MODEL_CONFIG_KEY\n",
    "# )"
   ]
  },
  {
   "cell_type": "code",
   "execution_count": 9,
   "metadata": {},
   "outputs": [],
   "source": [
    "# gc_leduc_perf_df = gc_kuhn_perf_df"
   ]
  },
  {
   "cell_type": "code",
   "execution_count": 14,
   "metadata": {},
   "outputs": [
    {
     "data": {
      "application/vnd.plotly.v1+json": {
       "config": {
        "plotlyServerURL": "https://plot.ly"
       },
       "data": [
        {
         "hoverlabel": {
          "namelength": 0
         },
         "hovertemplate": "experiment_name=leduc_pipe_1<br>total_episodes=%{x}<br>exploitability=%{y}",
         "legendgroup": "experiment_name=leduc_pipe_1",
         "line": {
          "color": "#636efa",
          "dash": "solid"
         },
         "mode": "lines",
         "name": "experiment_name=leduc_pipe_1",
         "showlegend": true,
         "type": "scatter",
         "x": [
          17247,
          45582,
          77889,
          112909,
          141741,
          188158,
          218592,
          252934,
          285765,
          312582,
          337265,
          381777,
          408688,
          437839,
          457298,
          488282,
          509956,
          532601,
          550622,
          572624
         ],
         "xaxis": "x",
         "y": [
          3.066534679987807,
          1.834529209056181,
          1.4613696626664026,
          1.1048147695343689,
          0.9509428241392155,
          0.9213136667277608,
          0.8218503084668338,
          0.7685572493850579,
          0.7206313923920401,
          0.7104273768961636,
          0.6999368084236011,
          0.6935496110315593,
          0.6843369082543248,
          0.6337877357951831,
          0.6085350518934068,
          0.591408280863996,
          0.616540459802762,
          0.6214912141036102,
          0.6094720463197595,
          0.5637141726177309
         ],
         "yaxis": "y"
        },
        {
         "hoverlabel": {
          "namelength": 0
         },
         "hovertemplate": "experiment_name=leduc_pipe_2<br>total_episodes=%{x}<br>exploitability=%{y}",
         "legendgroup": "experiment_name=leduc_pipe_2",
         "line": {
          "color": "#EF553B",
          "dash": "solid"
         },
         "mode": "lines",
         "name": "experiment_name=leduc_pipe_2",
         "showlegend": true,
         "type": "scatter",
         "x": [
          17211,
          42087,
          75981,
          103956,
          136183,
          166164,
          195279,
          224378,
          242988,
          263942,
          289669,
          313768,
          337031,
          355489,
          379977,
          404386,
          421385
         ],
         "xaxis": "x",
         "y": [
          2.653782920508414,
          1.4908850095293888,
          1.2482805139387887,
          1.070110380463577,
          1.1046005760744717,
          1.1436629436180168,
          1.1016455365351296,
          0.9637355908631048,
          0.9075104593667819,
          0.8700703524007773,
          0.8696168666604365,
          0.9331043924453645,
          0.8766539433491127,
          0.815137928892651,
          0.771609254914562,
          0.7604687337254115,
          0.7473294323836315
         ],
         "yaxis": "y"
        },
        {
         "hoverlabel": {
          "namelength": 0
         },
         "hovertemplate": "experiment_name=leduc_pipe_3<br>total_episodes=%{x}<br>exploitability=%{y}",
         "legendgroup": "experiment_name=leduc_pipe_3",
         "line": {
          "color": "#00cc96",
          "dash": "solid"
         },
         "mode": "lines",
         "name": "experiment_name=leduc_pipe_3",
         "showlegend": true,
         "type": "scatter",
         "x": [
          17399,
          44885,
          78149,
          118891,
          153217,
          186132,
          220275,
          249405,
          281936,
          308508,
          353096,
          377032,
          405169,
          432980,
          453608,
          478463,
          509080,
          533460,
          555903,
          588848,
          613485,
          641307
         ],
         "xaxis": "x",
         "y": [
          3.4583411164274986,
          2.011005858413469,
          1.7759193776898146,
          1.7474989772134923,
          1.6691364710222125,
          1.5195192510081301,
          1.3676761012400542,
          1.2309368510793468,
          1.1411645068083118,
          1.0218268133775648,
          1.0620878241972946,
          1.0650542282474698,
          1.0130551845528148,
          0.9312271290740857,
          0.860360791752681,
          0.7973117377083137,
          0.7482683842734918,
          0.7216009238732046,
          0.7143414998842352,
          0.6799233354755527,
          0.6647079411675371,
          0.6426449713384652
         ],
         "yaxis": "y"
        },
        {
         "hoverlabel": {
          "namelength": 0
         },
         "hovertemplate": "experiment_name=leduc_rect_1<br>total_episodes=%{x}<br>exploitability=%{y}",
         "legendgroup": "experiment_name=leduc_rect_1",
         "line": {
          "color": "#ab63fa",
          "dash": "solid"
         },
         "mode": "lines",
         "name": "experiment_name=leduc_rect_1",
         "showlegend": true,
         "type": "scatter",
         "x": [
          16887,
          52324,
          74024,
          93323,
          115183,
          137355,
          154792,
          174192,
          193788,
          213001,
          230525,
          253455,
          274888,
          293016,
          315340,
          336620,
          352728,
          371733,
          397261,
          417888,
          440531,
          463037,
          487227,
          508452,
          533182,
          553676,
          572963,
          593855,
          611728,
          631710,
          651042,
          673614,
          692072,
          711281,
          732884,
          749319,
          767952,
          789470,
          809351,
          834615,
          859375,
          877083,
          899944,
          923465,
          944796
         ],
         "xaxis": "x",
         "y": [
          3.037660387070674,
          1.6788976073216095,
          1.599272362898265,
          1.4061138906233142,
          1.5419311550541348,
          1.5727469582938542,
          1.4265281906414495,
          1.3728056876031154,
          1.4145794770828002,
          1.3992881802243713,
          1.2877542456813011,
          1.2318567075781264,
          1.2188992163488779,
          1.223656250594831,
          1.1925580468403933,
          1.1634204054114443,
          1.1885167891260577,
          1.134223076933143,
          1.1759891220576912,
          1.1702806417962477,
          1.1512243956268229,
          1.1259424624863035,
          1.1378681494231786,
          1.184836357906926,
          1.209663114940138,
          1.20732605187885,
          1.18080902472236,
          1.1537879685181551,
          1.1784829839114193,
          1.1868569380000493,
          1.2138831796906402,
          1.19433507782428,
          1.1810219374049964,
          1.230711024518354,
          1.2490772374874108,
          1.2300216338812877,
          1.21651683028194,
          1.1966131709490149,
          1.2130702625024097,
          1.2245737296998076,
          1.190783580223425,
          1.192528160130872,
          1.1755847378246138,
          1.1413076119624264,
          1.1404122425219005
         ],
         "yaxis": "y"
        },
        {
         "hoverlabel": {
          "namelength": 0
         },
         "hovertemplate": "experiment_name=leduc_rect_2<br>total_episodes=%{x}<br>exploitability=%{y}",
         "legendgroup": "experiment_name=leduc_rect_2",
         "line": {
          "color": "#FFA15A",
          "dash": "solid"
         },
         "mode": "lines",
         "name": "experiment_name=leduc_rect_2",
         "showlegend": true,
         "type": "scatter",
         "x": [
          16285,
          35373,
          61495,
          83199,
          102521,
          126495,
          144395,
          163408,
          182336,
          202435,
          222222,
          245343,
          264895,
          287175,
          306542,
          330441,
          348140,
          367835,
          388090,
          418186,
          437344,
          457772,
          484090,
          504300,
          535010,
          559720,
          577673,
          595946,
          616560,
          636337,
          657567,
          675886,
          697181,
          716529,
          737986,
          756864,
          777850,
          802346,
          820815,
          847002,
          869566,
          888934,
          907979,
          930109,
          948993,
          973657,
          992834,
          1014072
         ],
         "xaxis": "x",
         "y": [
          3.1543033616375658,
          2.0466764640548027,
          2.096307725603419,
          2.5621776326944636,
          2.3243305891072366,
          1.9647581107973426,
          1.9434536321252402,
          1.6866938331939014,
          1.5657955848361609,
          1.5601124842581697,
          1.634128364095853,
          1.5287892318626064,
          1.433147306556825,
          1.3594247037333784,
          1.3526357054720628,
          1.2813652163929314,
          1.3514051342096027,
          1.3042611829331179,
          1.3238709327928682,
          1.3681323490263333,
          1.3755090980239415,
          1.3401382258799333,
          1.3248049926891938,
          1.3200535851256576,
          1.2821263308287678,
          1.310188551762109,
          1.2840052286113486,
          1.221746286987006,
          1.1761166487931263,
          1.164859770789625,
          1.199661329668949,
          1.1973506253346557,
          1.1826471154210343,
          1.1962816517566393,
          1.207063295871513,
          1.1875503516721648,
          1.177566782896937,
          1.1653084119906283,
          1.142256176230344,
          1.1120430837878559,
          1.1174893487704964,
          1.1279570247278712,
          1.1531783936579343,
          1.159532351826587,
          1.123680066574677,
          1.154702494098375,
          1.144894322055809,
          1.1785907985882391
         ],
         "yaxis": "y"
        },
        {
         "hoverlabel": {
          "namelength": 0
         },
         "hovertemplate": "experiment_name=leduc_rect_3<br>total_episodes=%{x}<br>exploitability=%{y}",
         "legendgroup": "experiment_name=leduc_rect_3",
         "line": {
          "color": "#19d3f3",
          "dash": "solid"
         },
         "mode": "lines",
         "name": "experiment_name=leduc_rect_3",
         "showlegend": true,
         "type": "scatter",
         "x": [
          19280,
          37506,
          60368,
          78535,
          97254,
          119701,
          137256,
          160330,
          184191,
          207221,
          227445,
          247228,
          268187,
          287363,
          310787,
          338296,
          356429,
          375694,
          402022,
          421760,
          440276,
          457564,
          478163,
          498409,
          517162,
          535017,
          552282,
          574904,
          599462,
          618282,
          638269,
          657188,
          676273,
          697024,
          719241,
          738271,
          755071,
          777889,
          799728,
          826693,
          849383,
          868312,
          890687,
          907485,
          928819
         ],
         "xaxis": "x",
         "y": [
          2.957693296405573,
          2.039313971763035,
          1.898161854300493,
          2.1622034246303294,
          1.975090277476956,
          1.8923103737952869,
          1.6668779666886273,
          1.7241483072139645,
          1.6798819422144757,
          1.7678697332376365,
          1.6346272895905758,
          1.6064474074623858,
          1.6446889874183241,
          1.574041043186805,
          1.597831093483273,
          1.7094198835963592,
          1.6304882392737685,
          1.5948357776853417,
          1.5636297284528684,
          1.5175805330904144,
          1.5122641861045196,
          1.4972847688252173,
          1.4291522823981913,
          1.3677855239464134,
          1.3322385571807378,
          1.3185722061281568,
          1.3246724926813582,
          1.319234658234751,
          1.3035305047463799,
          1.3065823581910354,
          1.2972742420973047,
          1.2690836792815956,
          1.257365430094428,
          1.2400326878945194,
          1.2181211968685393,
          1.2009293288716985,
          1.2047419945627307,
          1.2029327074319347,
          1.1898744042184228,
          1.215212695683301,
          1.2065010217439756,
          1.2042333769827964,
          1.2021207121249466,
          1.2043803811447016,
          1.189967090539102
         ],
         "yaxis": "y"
        },
        {
         "hoverlabel": {
          "namelength": 0
         },
         "hovertemplate": "experiment_name=leduc_naive_1<br>total_episodes=%{x}<br>exploitability=%{y}",
         "legendgroup": "experiment_name=leduc_naive_1",
         "line": {
          "color": "#FF6692",
          "dash": "solid"
         },
         "mode": "lines",
         "name": "experiment_name=leduc_naive_1",
         "showlegend": true,
         "type": "scatter",
         "x": [
          19545,
          38624,
          62005,
          78913,
          98777,
          116278,
          132460,
          149336,
          172152,
          194116,
          212890,
          232233,
          251529,
          271695,
          295588,
          317463,
          335639,
          356871,
          376189,
          394046,
          413902,
          429946,
          454902,
          476314,
          504442,
          524366,
          547854,
          580838,
          607989,
          628454,
          649009,
          669407,
          693799,
          714249,
          730268,
          753045,
          774361,
          792514,
          818268,
          838050,
          856789,
          877001,
          896546,
          921351,
          942501,
          963935,
          984340,
          1008889,
          1031729,
          1049630,
          1068301,
          1089928,
          1106188,
          1122293
         ],
         "xaxis": "x",
         "y": [
          3.074998869772367,
          3.015247828497479,
          2.957589753225438,
          2.5472098263479097,
          2.3343692667700005,
          1.9942967056230412,
          1.7728548537324182,
          1.5282507174782038,
          1.4284518809320752,
          1.3319269689421325,
          1.3267276718033356,
          1.3206375588908021,
          1.302541406957481,
          1.2397032120716325,
          1.2054966281180148,
          1.1546272391823038,
          1.118842586367367,
          1.0972141637278976,
          1.0999887702892013,
          1.0472513824709322,
          1.0192720063871876,
          0.9712953890334635,
          0.953002914738782,
          0.9157823175234896,
          0.9406458719408961,
          0.9277007134297333,
          0.9173462879476523,
          0.9112286997722936,
          0.8934850448562367,
          0.8767526171184665,
          0.8491933816596092,
          0.8376799793773335,
          0.8128160419957139,
          0.790456588053664,
          0.7704125573065607,
          0.7629690715044907,
          0.7506109587548069,
          0.747964139323152,
          0.7537546847925825,
          0.7452821104952005,
          0.7380028585728035,
          0.720143193623443,
          0.7111662252966227,
          0.6967627582049597,
          0.6823091875063074,
          0.672580561706553,
          0.6624386162764209,
          0.6471972046136549,
          0.6343945926297778,
          0.6313135030703927,
          0.6274365267083303,
          0.6191769309105855,
          0.6176685075222941,
          0.6224179845818658
         ],
         "yaxis": "y"
        },
        {
         "hoverlabel": {
          "namelength": 0
         },
         "hovertemplate": "experiment_name=leduc_naive_2<br>total_episodes=%{x}<br>exploitability=%{y}",
         "legendgroup": "experiment_name=leduc_naive_2",
         "line": {
          "color": "#B6E880",
          "dash": "solid"
         },
         "mode": "lines",
         "name": "experiment_name=leduc_naive_2",
         "showlegend": true,
         "type": "scatter",
         "x": [
          16945,
          35698,
          61755,
          81937,
          108386,
          124666,
          143266,
          166218,
          185524,
          201610,
          219118,
          247647,
          268327,
          287340,
          310724,
          330599,
          351232,
          373957,
          404102,
          427467,
          446333,
          473260,
          501444,
          520563,
          539239,
          567810,
          587157,
          612813,
          631166,
          648736,
          669277,
          693687,
          719910,
          738548,
          759513,
          776233,
          797317,
          815337,
          836442,
          856819,
          878677,
          897153,
          915875,
          934416,
          951320,
          967771,
          998116,
          1023182,
          1043860,
          1063268,
          1081971,
          1099964,
          1116195,
          1132710
         ],
         "xaxis": "x",
         "y": [
          2.9374850478021273,
          2.979169793580082,
          3.0513811180907915,
          2.228605310859631,
          1.9149878346058662,
          1.7170814607799247,
          1.6090534520622857,
          1.5982725094216708,
          1.5708559925918193,
          1.4679964827232266,
          1.3977458458420386,
          1.3475703877825003,
          1.2883706045925463,
          1.2373832186636076,
          1.2253067910800848,
          1.1790869783963047,
          1.1466714935589708,
          1.1187193748546629,
          1.060725877742928,
          1.0086395141555473,
          0.9574264018863472,
          0.9762983004457171,
          0.9456022488465611,
          0.9167784000162144,
          0.9168118793277628,
          0.9088674855664606,
          0.8820231280717366,
          0.8661625423262329,
          0.8564948073070697,
          0.8455900119812242,
          0.8166034566813258,
          0.7899740514470805,
          0.7730306159827685,
          0.7515620614288877,
          0.7436307951274355,
          0.7356814743566344,
          0.7220716029725545,
          0.7057269614399118,
          0.696049224464051,
          0.6854203236492508,
          0.6723659595398915,
          0.6796851397841491,
          0.6781598042832688,
          0.6791919252247307,
          0.6726915638163631,
          0.6769635877649274,
          0.6712316957133355,
          0.6721263864330513,
          0.6673556860576451,
          0.6619966077733113,
          0.6633749665911731,
          0.6528895553708249,
          0.6425002109997187,
          0.6318998985693998
         ],
         "yaxis": "y"
        },
        {
         "hoverlabel": {
          "namelength": 0
         },
         "hovertemplate": "experiment_name=leduc_naive_3<br>total_episodes=%{x}<br>exploitability=%{y}",
         "legendgroup": "experiment_name=leduc_naive_3",
         "line": {
          "color": "#FF97FF",
          "dash": "solid"
         },
         "mode": "lines",
         "name": "experiment_name=leduc_naive_3",
         "showlegend": true,
         "type": "scatter",
         "x": [
          18934,
          38978,
          60158,
          77025,
          95940,
          114118,
          147739,
          169406,
          191343,
          211036,
          229352,
          251605,
          269393,
          293593,
          315869,
          332738,
          349705,
          368715,
          389343,
          407793,
          426400,
          445100,
          467660,
          490515,
          509972,
          529711,
          551851,
          578050,
          594488,
          618925,
          639893,
          657871,
          673474,
          691656,
          710855,
          730094,
          746809,
          768710,
          792660,
          810784,
          831545,
          849962,
          872021,
          891086,
          910756,
          936276,
          956417,
          978198,
          998938,
          1018454,
          1039397,
          1061039,
          1088773
         ],
         "xaxis": "x",
         "y": [
          2.999997654584079,
          2.571364389119915,
          2.6848255616685424,
          2.285012339058354,
          1.8317969003475674,
          1.5711542080197138,
          1.414523356830712,
          1.4246195165062079,
          1.3824656413065668,
          1.3706108219475515,
          1.3287813309530385,
          1.3132632021875243,
          1.2938084772014216,
          1.2920448160764002,
          1.3013724583718282,
          1.2199894765815733,
          1.1453048172086207,
          1.0851308702436295,
          1.060631022721374,
          1.0122290082634449,
          1.0023541287322477,
          0.9903251272791094,
          0.9762197628234159,
          0.9785385877410748,
          0.9894511424643632,
          0.9786328268297367,
          0.9575311049900683,
          0.9503108344985043,
          0.9179889818647285,
          0.8871043570266017,
          0.8553651718004344,
          0.8428685620308332,
          0.8166273972505312,
          0.7874214024191175,
          0.7628590219319629,
          0.7407925558400057,
          0.730178840288433,
          0.7131272041210047,
          0.6971793072572448,
          0.688412088291608,
          0.6785284287270408,
          0.6749873208968156,
          0.6713736911174131,
          0.6705592639530276,
          0.6610050430545517,
          0.6539123165908656,
          0.6377458896064833,
          0.622777022393246,
          0.6164414207391675,
          0.6147244233045908,
          0.6187785251557374,
          0.6164791500887605,
          0.6089420075152792
         ],
         "yaxis": "y"
        }
       ],
       "layout": {
        "height": 600,
        "legend": {
         "tracegroupgap": 0
        },
        "template": {
         "data": {
          "bar": [
           {
            "error_x": {
             "color": "#2a3f5f"
            },
            "error_y": {
             "color": "#2a3f5f"
            },
            "marker": {
             "line": {
              "color": "#E5ECF6",
              "width": 0.5
             }
            },
            "type": "bar"
           }
          ],
          "barpolar": [
           {
            "marker": {
             "line": {
              "color": "#E5ECF6",
              "width": 0.5
             }
            },
            "type": "barpolar"
           }
          ],
          "carpet": [
           {
            "aaxis": {
             "endlinecolor": "#2a3f5f",
             "gridcolor": "white",
             "linecolor": "white",
             "minorgridcolor": "white",
             "startlinecolor": "#2a3f5f"
            },
            "baxis": {
             "endlinecolor": "#2a3f5f",
             "gridcolor": "white",
             "linecolor": "white",
             "minorgridcolor": "white",
             "startlinecolor": "#2a3f5f"
            },
            "type": "carpet"
           }
          ],
          "choropleth": [
           {
            "colorbar": {
             "outlinewidth": 0,
             "ticks": ""
            },
            "type": "choropleth"
           }
          ],
          "contour": [
           {
            "colorbar": {
             "outlinewidth": 0,
             "ticks": ""
            },
            "colorscale": [
             [
              0,
              "#0d0887"
             ],
             [
              0.1111111111111111,
              "#46039f"
             ],
             [
              0.2222222222222222,
              "#7201a8"
             ],
             [
              0.3333333333333333,
              "#9c179e"
             ],
             [
              0.4444444444444444,
              "#bd3786"
             ],
             [
              0.5555555555555556,
              "#d8576b"
             ],
             [
              0.6666666666666666,
              "#ed7953"
             ],
             [
              0.7777777777777778,
              "#fb9f3a"
             ],
             [
              0.8888888888888888,
              "#fdca26"
             ],
             [
              1,
              "#f0f921"
             ]
            ],
            "type": "contour"
           }
          ],
          "contourcarpet": [
           {
            "colorbar": {
             "outlinewidth": 0,
             "ticks": ""
            },
            "type": "contourcarpet"
           }
          ],
          "heatmap": [
           {
            "colorbar": {
             "outlinewidth": 0,
             "ticks": ""
            },
            "colorscale": [
             [
              0,
              "#0d0887"
             ],
             [
              0.1111111111111111,
              "#46039f"
             ],
             [
              0.2222222222222222,
              "#7201a8"
             ],
             [
              0.3333333333333333,
              "#9c179e"
             ],
             [
              0.4444444444444444,
              "#bd3786"
             ],
             [
              0.5555555555555556,
              "#d8576b"
             ],
             [
              0.6666666666666666,
              "#ed7953"
             ],
             [
              0.7777777777777778,
              "#fb9f3a"
             ],
             [
              0.8888888888888888,
              "#fdca26"
             ],
             [
              1,
              "#f0f921"
             ]
            ],
            "type": "heatmap"
           }
          ],
          "heatmapgl": [
           {
            "colorbar": {
             "outlinewidth": 0,
             "ticks": ""
            },
            "colorscale": [
             [
              0,
              "#0d0887"
             ],
             [
              0.1111111111111111,
              "#46039f"
             ],
             [
              0.2222222222222222,
              "#7201a8"
             ],
             [
              0.3333333333333333,
              "#9c179e"
             ],
             [
              0.4444444444444444,
              "#bd3786"
             ],
             [
              0.5555555555555556,
              "#d8576b"
             ],
             [
              0.6666666666666666,
              "#ed7953"
             ],
             [
              0.7777777777777778,
              "#fb9f3a"
             ],
             [
              0.8888888888888888,
              "#fdca26"
             ],
             [
              1,
              "#f0f921"
             ]
            ],
            "type": "heatmapgl"
           }
          ],
          "histogram": [
           {
            "marker": {
             "colorbar": {
              "outlinewidth": 0,
              "ticks": ""
             }
            },
            "type": "histogram"
           }
          ],
          "histogram2d": [
           {
            "colorbar": {
             "outlinewidth": 0,
             "ticks": ""
            },
            "colorscale": [
             [
              0,
              "#0d0887"
             ],
             [
              0.1111111111111111,
              "#46039f"
             ],
             [
              0.2222222222222222,
              "#7201a8"
             ],
             [
              0.3333333333333333,
              "#9c179e"
             ],
             [
              0.4444444444444444,
              "#bd3786"
             ],
             [
              0.5555555555555556,
              "#d8576b"
             ],
             [
              0.6666666666666666,
              "#ed7953"
             ],
             [
              0.7777777777777778,
              "#fb9f3a"
             ],
             [
              0.8888888888888888,
              "#fdca26"
             ],
             [
              1,
              "#f0f921"
             ]
            ],
            "type": "histogram2d"
           }
          ],
          "histogram2dcontour": [
           {
            "colorbar": {
             "outlinewidth": 0,
             "ticks": ""
            },
            "colorscale": [
             [
              0,
              "#0d0887"
             ],
             [
              0.1111111111111111,
              "#46039f"
             ],
             [
              0.2222222222222222,
              "#7201a8"
             ],
             [
              0.3333333333333333,
              "#9c179e"
             ],
             [
              0.4444444444444444,
              "#bd3786"
             ],
             [
              0.5555555555555556,
              "#d8576b"
             ],
             [
              0.6666666666666666,
              "#ed7953"
             ],
             [
              0.7777777777777778,
              "#fb9f3a"
             ],
             [
              0.8888888888888888,
              "#fdca26"
             ],
             [
              1,
              "#f0f921"
             ]
            ],
            "type": "histogram2dcontour"
           }
          ],
          "mesh3d": [
           {
            "colorbar": {
             "outlinewidth": 0,
             "ticks": ""
            },
            "type": "mesh3d"
           }
          ],
          "parcoords": [
           {
            "line": {
             "colorbar": {
              "outlinewidth": 0,
              "ticks": ""
             }
            },
            "type": "parcoords"
           }
          ],
          "scatter": [
           {
            "marker": {
             "colorbar": {
              "outlinewidth": 0,
              "ticks": ""
             }
            },
            "type": "scatter"
           }
          ],
          "scatter3d": [
           {
            "line": {
             "colorbar": {
              "outlinewidth": 0,
              "ticks": ""
             }
            },
            "marker": {
             "colorbar": {
              "outlinewidth": 0,
              "ticks": ""
             }
            },
            "type": "scatter3d"
           }
          ],
          "scattercarpet": [
           {
            "marker": {
             "colorbar": {
              "outlinewidth": 0,
              "ticks": ""
             }
            },
            "type": "scattercarpet"
           }
          ],
          "scattergeo": [
           {
            "marker": {
             "colorbar": {
              "outlinewidth": 0,
              "ticks": ""
             }
            },
            "type": "scattergeo"
           }
          ],
          "scattergl": [
           {
            "marker": {
             "colorbar": {
              "outlinewidth": 0,
              "ticks": ""
             }
            },
            "type": "scattergl"
           }
          ],
          "scattermapbox": [
           {
            "marker": {
             "colorbar": {
              "outlinewidth": 0,
              "ticks": ""
             }
            },
            "type": "scattermapbox"
           }
          ],
          "scatterpolar": [
           {
            "marker": {
             "colorbar": {
              "outlinewidth": 0,
              "ticks": ""
             }
            },
            "type": "scatterpolar"
           }
          ],
          "scatterpolargl": [
           {
            "marker": {
             "colorbar": {
              "outlinewidth": 0,
              "ticks": ""
             }
            },
            "type": "scatterpolargl"
           }
          ],
          "scatterternary": [
           {
            "marker": {
             "colorbar": {
              "outlinewidth": 0,
              "ticks": ""
             }
            },
            "type": "scatterternary"
           }
          ],
          "surface": [
           {
            "colorbar": {
             "outlinewidth": 0,
             "ticks": ""
            },
            "colorscale": [
             [
              0,
              "#0d0887"
             ],
             [
              0.1111111111111111,
              "#46039f"
             ],
             [
              0.2222222222222222,
              "#7201a8"
             ],
             [
              0.3333333333333333,
              "#9c179e"
             ],
             [
              0.4444444444444444,
              "#bd3786"
             ],
             [
              0.5555555555555556,
              "#d8576b"
             ],
             [
              0.6666666666666666,
              "#ed7953"
             ],
             [
              0.7777777777777778,
              "#fb9f3a"
             ],
             [
              0.8888888888888888,
              "#fdca26"
             ],
             [
              1,
              "#f0f921"
             ]
            ],
            "type": "surface"
           }
          ],
          "table": [
           {
            "cells": {
             "fill": {
              "color": "#EBF0F8"
             },
             "line": {
              "color": "white"
             }
            },
            "header": {
             "fill": {
              "color": "#C8D4E3"
             },
             "line": {
              "color": "white"
             }
            },
            "type": "table"
           }
          ]
         },
         "layout": {
          "annotationdefaults": {
           "arrowcolor": "#2a3f5f",
           "arrowhead": 0,
           "arrowwidth": 1
          },
          "colorscale": {
           "diverging": [
            [
             0,
             "#8e0152"
            ],
            [
             0.1,
             "#c51b7d"
            ],
            [
             0.2,
             "#de77ae"
            ],
            [
             0.3,
             "#f1b6da"
            ],
            [
             0.4,
             "#fde0ef"
            ],
            [
             0.5,
             "#f7f7f7"
            ],
            [
             0.6,
             "#e6f5d0"
            ],
            [
             0.7,
             "#b8e186"
            ],
            [
             0.8,
             "#7fbc41"
            ],
            [
             0.9,
             "#4d9221"
            ],
            [
             1,
             "#276419"
            ]
           ],
           "sequential": [
            [
             0,
             "#0d0887"
            ],
            [
             0.1111111111111111,
             "#46039f"
            ],
            [
             0.2222222222222222,
             "#7201a8"
            ],
            [
             0.3333333333333333,
             "#9c179e"
            ],
            [
             0.4444444444444444,
             "#bd3786"
            ],
            [
             0.5555555555555556,
             "#d8576b"
            ],
            [
             0.6666666666666666,
             "#ed7953"
            ],
            [
             0.7777777777777778,
             "#fb9f3a"
            ],
            [
             0.8888888888888888,
             "#fdca26"
            ],
            [
             1,
             "#f0f921"
            ]
           ],
           "sequentialminus": [
            [
             0,
             "#0d0887"
            ],
            [
             0.1111111111111111,
             "#46039f"
            ],
            [
             0.2222222222222222,
             "#7201a8"
            ],
            [
             0.3333333333333333,
             "#9c179e"
            ],
            [
             0.4444444444444444,
             "#bd3786"
            ],
            [
             0.5555555555555556,
             "#d8576b"
            ],
            [
             0.6666666666666666,
             "#ed7953"
            ],
            [
             0.7777777777777778,
             "#fb9f3a"
            ],
            [
             0.8888888888888888,
             "#fdca26"
            ],
            [
             1,
             "#f0f921"
            ]
           ]
          },
          "colorway": [
           "#636efa",
           "#EF553B",
           "#00cc96",
           "#ab63fa",
           "#FFA15A",
           "#19d3f3",
           "#FF6692",
           "#B6E880",
           "#FF97FF",
           "#FECB52"
          ],
          "font": {
           "color": "#2a3f5f"
          },
          "geo": {
           "bgcolor": "white",
           "lakecolor": "white",
           "landcolor": "#E5ECF6",
           "showlakes": true,
           "showland": true,
           "subunitcolor": "white"
          },
          "hoverlabel": {
           "align": "left"
          },
          "hovermode": "closest",
          "mapbox": {
           "style": "light"
          },
          "paper_bgcolor": "white",
          "plot_bgcolor": "#E5ECF6",
          "polar": {
           "angularaxis": {
            "gridcolor": "white",
            "linecolor": "white",
            "ticks": ""
           },
           "bgcolor": "#E5ECF6",
           "radialaxis": {
            "gridcolor": "white",
            "linecolor": "white",
            "ticks": ""
           }
          },
          "scene": {
           "xaxis": {
            "backgroundcolor": "#E5ECF6",
            "gridcolor": "white",
            "gridwidth": 2,
            "linecolor": "white",
            "showbackground": true,
            "ticks": "",
            "zerolinecolor": "white"
           },
           "yaxis": {
            "backgroundcolor": "#E5ECF6",
            "gridcolor": "white",
            "gridwidth": 2,
            "linecolor": "white",
            "showbackground": true,
            "ticks": "",
            "zerolinecolor": "white"
           },
           "zaxis": {
            "backgroundcolor": "#E5ECF6",
            "gridcolor": "white",
            "gridwidth": 2,
            "linecolor": "white",
            "showbackground": true,
            "ticks": "",
            "zerolinecolor": "white"
           }
          },
          "shapedefaults": {
           "line": {
            "color": "#2a3f5f"
           }
          },
          "ternary": {
           "aaxis": {
            "gridcolor": "white",
            "linecolor": "white",
            "ticks": ""
           },
           "baxis": {
            "gridcolor": "white",
            "linecolor": "white",
            "ticks": ""
           },
           "bgcolor": "#E5ECF6",
           "caxis": {
            "gridcolor": "white",
            "linecolor": "white",
            "ticks": ""
           }
          },
          "title": {
           "x": 0.05
          },
          "xaxis": {
           "automargin": true,
           "gridcolor": "white",
           "linecolor": "white",
           "ticks": "",
           "zerolinecolor": "white",
           "zerolinewidth": 2
          },
          "yaxis": {
           "automargin": true,
           "gridcolor": "white",
           "linecolor": "white",
           "ticks": "",
           "zerolinecolor": "white",
           "zerolinewidth": 2
          }
         }
        },
        "title": {
         "text": "Exploitability over time Kuhn 3 workers"
        },
        "xaxis": {
         "anchor": "y",
         "domain": [
          0,
          0.98
         ],
         "title": {
          "text": "total_episodes"
         }
        },
        "yaxis": {
         "anchor": "x",
         "domain": [
          0,
          1
         ],
         "title": {
          "text": "exploitability"
         }
        }
       }
      },
      "text/html": [
       "<div>\n",
       "        \n",
       "        \n",
       "            <div id=\"bd867a45-d51d-47be-b3c6-53adc1fb39f4\" class=\"plotly-graph-div\" style=\"height:600px; width:100%;\"></div>\n",
       "            <script type=\"text/javascript\">\n",
       "                require([\"plotly\"], function(Plotly) {\n",
       "                    window.PLOTLYENV=window.PLOTLYENV || {};\n",
       "                    \n",
       "                if (document.getElementById(\"bd867a45-d51d-47be-b3c6-53adc1fb39f4\")) {\n",
       "                    Plotly.newPlot(\n",
       "                        'bd867a45-d51d-47be-b3c6-53adc1fb39f4',\n",
       "                        [{\"hoverlabel\": {\"namelength\": 0}, \"hovertemplate\": \"experiment_name=leduc_pipe_1<br>total_episodes=%{x}<br>exploitability=%{y}\", \"legendgroup\": \"experiment_name=leduc_pipe_1\", \"line\": {\"color\": \"#636efa\", \"dash\": \"solid\"}, \"mode\": \"lines\", \"name\": \"experiment_name=leduc_pipe_1\", \"showlegend\": true, \"type\": \"scatter\", \"x\": [17247, 45582, 77889, 112909, 141741, 188158, 218592, 252934, 285765, 312582, 337265, 381777, 408688, 437839, 457298, 488282, 509956, 532601, 550622, 572624], \"xaxis\": \"x\", \"y\": [3.066534679987807, 1.834529209056181, 1.4613696626664026, 1.1048147695343689, 0.9509428241392155, 0.9213136667277608, 0.8218503084668338, 0.7685572493850579, 0.7206313923920401, 0.7104273768961636, 0.6999368084236011, 0.6935496110315593, 0.6843369082543248, 0.6337877357951831, 0.6085350518934068, 0.591408280863996, 0.616540459802762, 0.6214912141036102, 0.6094720463197595, 0.5637141726177309], \"yaxis\": \"y\"}, {\"hoverlabel\": {\"namelength\": 0}, \"hovertemplate\": \"experiment_name=leduc_pipe_2<br>total_episodes=%{x}<br>exploitability=%{y}\", \"legendgroup\": \"experiment_name=leduc_pipe_2\", \"line\": {\"color\": \"#EF553B\", \"dash\": \"solid\"}, \"mode\": \"lines\", \"name\": \"experiment_name=leduc_pipe_2\", \"showlegend\": true, \"type\": \"scatter\", \"x\": [17211, 42087, 75981, 103956, 136183, 166164, 195279, 224378, 242988, 263942, 289669, 313768, 337031, 355489, 379977, 404386, 421385], \"xaxis\": \"x\", \"y\": [2.653782920508414, 1.4908850095293888, 1.2482805139387887, 1.070110380463577, 1.1046005760744717, 1.1436629436180168, 1.1016455365351296, 0.9637355908631048, 0.9075104593667819, 0.8700703524007773, 0.8696168666604365, 0.9331043924453645, 0.8766539433491127, 0.815137928892651, 0.771609254914562, 0.7604687337254115, 0.7473294323836315], \"yaxis\": \"y\"}, {\"hoverlabel\": {\"namelength\": 0}, \"hovertemplate\": \"experiment_name=leduc_pipe_3<br>total_episodes=%{x}<br>exploitability=%{y}\", \"legendgroup\": \"experiment_name=leduc_pipe_3\", \"line\": {\"color\": \"#00cc96\", \"dash\": \"solid\"}, \"mode\": \"lines\", \"name\": \"experiment_name=leduc_pipe_3\", \"showlegend\": true, \"type\": \"scatter\", \"x\": [17399, 44885, 78149, 118891, 153217, 186132, 220275, 249405, 281936, 308508, 353096, 377032, 405169, 432980, 453608, 478463, 509080, 533460, 555903, 588848, 613485, 641307], \"xaxis\": \"x\", \"y\": [3.4583411164274986, 2.011005858413469, 1.7759193776898146, 1.7474989772134923, 1.6691364710222125, 1.5195192510081301, 1.3676761012400542, 1.2309368510793468, 1.1411645068083118, 1.0218268133775648, 1.0620878241972946, 1.0650542282474698, 1.0130551845528148, 0.9312271290740857, 0.860360791752681, 0.7973117377083137, 0.7482683842734918, 0.7216009238732046, 0.7143414998842352, 0.6799233354755527, 0.6647079411675371, 0.6426449713384652], \"yaxis\": \"y\"}, {\"hoverlabel\": {\"namelength\": 0}, \"hovertemplate\": \"experiment_name=leduc_rect_1<br>total_episodes=%{x}<br>exploitability=%{y}\", \"legendgroup\": \"experiment_name=leduc_rect_1\", \"line\": {\"color\": \"#ab63fa\", \"dash\": \"solid\"}, \"mode\": \"lines\", \"name\": \"experiment_name=leduc_rect_1\", \"showlegend\": true, \"type\": \"scatter\", \"x\": [16887, 52324, 74024, 93323, 115183, 137355, 154792, 174192, 193788, 213001, 230525, 253455, 274888, 293016, 315340, 336620, 352728, 371733, 397261, 417888, 440531, 463037, 487227, 508452, 533182, 553676, 572963, 593855, 611728, 631710, 651042, 673614, 692072, 711281, 732884, 749319, 767952, 789470, 809351, 834615, 859375, 877083, 899944, 923465, 944796], \"xaxis\": \"x\", \"y\": [3.037660387070674, 1.6788976073216095, 1.599272362898265, 1.4061138906233142, 1.5419311550541348, 1.5727469582938542, 1.4265281906414495, 1.3728056876031154, 1.4145794770828002, 1.3992881802243713, 1.2877542456813011, 1.2318567075781264, 1.2188992163488779, 1.223656250594831, 1.1925580468403933, 1.1634204054114443, 1.1885167891260577, 1.134223076933143, 1.1759891220576912, 1.1702806417962477, 1.1512243956268229, 1.1259424624863035, 1.1378681494231786, 1.184836357906926, 1.209663114940138, 1.20732605187885, 1.18080902472236, 1.1537879685181551, 1.1784829839114193, 1.1868569380000493, 1.2138831796906402, 1.19433507782428, 1.1810219374049964, 1.230711024518354, 1.2490772374874108, 1.2300216338812877, 1.21651683028194, 1.1966131709490149, 1.2130702625024097, 1.2245737296998076, 1.190783580223425, 1.192528160130872, 1.1755847378246138, 1.1413076119624264, 1.1404122425219005], \"yaxis\": \"y\"}, {\"hoverlabel\": {\"namelength\": 0}, \"hovertemplate\": \"experiment_name=leduc_rect_2<br>total_episodes=%{x}<br>exploitability=%{y}\", \"legendgroup\": \"experiment_name=leduc_rect_2\", \"line\": {\"color\": \"#FFA15A\", \"dash\": \"solid\"}, \"mode\": \"lines\", \"name\": \"experiment_name=leduc_rect_2\", \"showlegend\": true, \"type\": \"scatter\", \"x\": [16285, 35373, 61495, 83199, 102521, 126495, 144395, 163408, 182336, 202435, 222222, 245343, 264895, 287175, 306542, 330441, 348140, 367835, 388090, 418186, 437344, 457772, 484090, 504300, 535010, 559720, 577673, 595946, 616560, 636337, 657567, 675886, 697181, 716529, 737986, 756864, 777850, 802346, 820815, 847002, 869566, 888934, 907979, 930109, 948993, 973657, 992834, 1014072], \"xaxis\": \"x\", \"y\": [3.1543033616375658, 2.0466764640548027, 2.096307725603419, 2.5621776326944636, 2.3243305891072366, 1.9647581107973426, 1.9434536321252402, 1.6866938331939014, 1.5657955848361609, 1.5601124842581697, 1.634128364095853, 1.5287892318626064, 1.433147306556825, 1.3594247037333784, 1.3526357054720628, 1.2813652163929314, 1.3514051342096027, 1.3042611829331179, 1.3238709327928682, 1.3681323490263333, 1.3755090980239415, 1.3401382258799333, 1.3248049926891938, 1.3200535851256576, 1.2821263308287678, 1.310188551762109, 1.2840052286113486, 1.221746286987006, 1.1761166487931263, 1.164859770789625, 1.199661329668949, 1.1973506253346557, 1.1826471154210343, 1.1962816517566393, 1.207063295871513, 1.1875503516721648, 1.177566782896937, 1.1653084119906283, 1.142256176230344, 1.1120430837878559, 1.1174893487704964, 1.1279570247278712, 1.1531783936579343, 1.159532351826587, 1.123680066574677, 1.154702494098375, 1.144894322055809, 1.1785907985882391], \"yaxis\": \"y\"}, {\"hoverlabel\": {\"namelength\": 0}, \"hovertemplate\": \"experiment_name=leduc_rect_3<br>total_episodes=%{x}<br>exploitability=%{y}\", \"legendgroup\": \"experiment_name=leduc_rect_3\", \"line\": {\"color\": \"#19d3f3\", \"dash\": \"solid\"}, \"mode\": \"lines\", \"name\": \"experiment_name=leduc_rect_3\", \"showlegend\": true, \"type\": \"scatter\", \"x\": [19280, 37506, 60368, 78535, 97254, 119701, 137256, 160330, 184191, 207221, 227445, 247228, 268187, 287363, 310787, 338296, 356429, 375694, 402022, 421760, 440276, 457564, 478163, 498409, 517162, 535017, 552282, 574904, 599462, 618282, 638269, 657188, 676273, 697024, 719241, 738271, 755071, 777889, 799728, 826693, 849383, 868312, 890687, 907485, 928819], \"xaxis\": \"x\", \"y\": [2.957693296405573, 2.039313971763035, 1.898161854300493, 2.1622034246303294, 1.975090277476956, 1.8923103737952869, 1.6668779666886273, 1.7241483072139645, 1.6798819422144757, 1.7678697332376365, 1.6346272895905758, 1.6064474074623858, 1.6446889874183241, 1.574041043186805, 1.597831093483273, 1.7094198835963592, 1.6304882392737685, 1.5948357776853417, 1.5636297284528684, 1.5175805330904144, 1.5122641861045196, 1.4972847688252173, 1.4291522823981913, 1.3677855239464134, 1.3322385571807378, 1.3185722061281568, 1.3246724926813582, 1.319234658234751, 1.3035305047463799, 1.3065823581910354, 1.2972742420973047, 1.2690836792815956, 1.257365430094428, 1.2400326878945194, 1.2181211968685393, 1.2009293288716985, 1.2047419945627307, 1.2029327074319347, 1.1898744042184228, 1.215212695683301, 1.2065010217439756, 1.2042333769827964, 1.2021207121249466, 1.2043803811447016, 1.189967090539102], \"yaxis\": \"y\"}, {\"hoverlabel\": {\"namelength\": 0}, \"hovertemplate\": \"experiment_name=leduc_naive_1<br>total_episodes=%{x}<br>exploitability=%{y}\", \"legendgroup\": \"experiment_name=leduc_naive_1\", \"line\": {\"color\": \"#FF6692\", \"dash\": \"solid\"}, \"mode\": \"lines\", \"name\": \"experiment_name=leduc_naive_1\", \"showlegend\": true, \"type\": \"scatter\", \"x\": [19545, 38624, 62005, 78913, 98777, 116278, 132460, 149336, 172152, 194116, 212890, 232233, 251529, 271695, 295588, 317463, 335639, 356871, 376189, 394046, 413902, 429946, 454902, 476314, 504442, 524366, 547854, 580838, 607989, 628454, 649009, 669407, 693799, 714249, 730268, 753045, 774361, 792514, 818268, 838050, 856789, 877001, 896546, 921351, 942501, 963935, 984340, 1008889, 1031729, 1049630, 1068301, 1089928, 1106188, 1122293], \"xaxis\": \"x\", \"y\": [3.074998869772367, 3.015247828497479, 2.957589753225438, 2.5472098263479097, 2.3343692667700005, 1.9942967056230412, 1.7728548537324182, 1.5282507174782038, 1.4284518809320752, 1.3319269689421325, 1.3267276718033356, 1.3206375588908021, 1.302541406957481, 1.2397032120716325, 1.2054966281180148, 1.1546272391823038, 1.118842586367367, 1.0972141637278976, 1.0999887702892013, 1.0472513824709322, 1.0192720063871876, 0.9712953890334635, 0.953002914738782, 0.9157823175234896, 0.9406458719408961, 0.9277007134297333, 0.9173462879476523, 0.9112286997722936, 0.8934850448562367, 0.8767526171184665, 0.8491933816596092, 0.8376799793773335, 0.8128160419957139, 0.790456588053664, 0.7704125573065607, 0.7629690715044907, 0.7506109587548069, 0.747964139323152, 0.7537546847925825, 0.7452821104952005, 0.7380028585728035, 0.720143193623443, 0.7111662252966227, 0.6967627582049597, 0.6823091875063074, 0.672580561706553, 0.6624386162764209, 0.6471972046136549, 0.6343945926297778, 0.6313135030703927, 0.6274365267083303, 0.6191769309105855, 0.6176685075222941, 0.6224179845818658], \"yaxis\": \"y\"}, {\"hoverlabel\": {\"namelength\": 0}, \"hovertemplate\": \"experiment_name=leduc_naive_2<br>total_episodes=%{x}<br>exploitability=%{y}\", \"legendgroup\": \"experiment_name=leduc_naive_2\", \"line\": {\"color\": \"#B6E880\", \"dash\": \"solid\"}, \"mode\": \"lines\", \"name\": \"experiment_name=leduc_naive_2\", \"showlegend\": true, \"type\": \"scatter\", \"x\": [16945, 35698, 61755, 81937, 108386, 124666, 143266, 166218, 185524, 201610, 219118, 247647, 268327, 287340, 310724, 330599, 351232, 373957, 404102, 427467, 446333, 473260, 501444, 520563, 539239, 567810, 587157, 612813, 631166, 648736, 669277, 693687, 719910, 738548, 759513, 776233, 797317, 815337, 836442, 856819, 878677, 897153, 915875, 934416, 951320, 967771, 998116, 1023182, 1043860, 1063268, 1081971, 1099964, 1116195, 1132710], \"xaxis\": \"x\", \"y\": [2.9374850478021273, 2.979169793580082, 3.0513811180907915, 2.228605310859631, 1.9149878346058662, 1.7170814607799247, 1.6090534520622857, 1.5982725094216708, 1.5708559925918193, 1.4679964827232266, 1.3977458458420386, 1.3475703877825003, 1.2883706045925463, 1.2373832186636076, 1.2253067910800848, 1.1790869783963047, 1.1466714935589708, 1.1187193748546629, 1.060725877742928, 1.0086395141555473, 0.9574264018863472, 0.9762983004457171, 0.9456022488465611, 0.9167784000162144, 0.9168118793277628, 0.9088674855664606, 0.8820231280717366, 0.8661625423262329, 0.8564948073070697, 0.8455900119812242, 0.8166034566813258, 0.7899740514470805, 0.7730306159827685, 0.7515620614288877, 0.7436307951274355, 0.7356814743566344, 0.7220716029725545, 0.7057269614399118, 0.696049224464051, 0.6854203236492508, 0.6723659595398915, 0.6796851397841491, 0.6781598042832688, 0.6791919252247307, 0.6726915638163631, 0.6769635877649274, 0.6712316957133355, 0.6721263864330513, 0.6673556860576451, 0.6619966077733113, 0.6633749665911731, 0.6528895553708249, 0.6425002109997187, 0.6318998985693998], \"yaxis\": \"y\"}, {\"hoverlabel\": {\"namelength\": 0}, \"hovertemplate\": \"experiment_name=leduc_naive_3<br>total_episodes=%{x}<br>exploitability=%{y}\", \"legendgroup\": \"experiment_name=leduc_naive_3\", \"line\": {\"color\": \"#FF97FF\", \"dash\": \"solid\"}, \"mode\": \"lines\", \"name\": \"experiment_name=leduc_naive_3\", \"showlegend\": true, \"type\": \"scatter\", \"x\": [18934, 38978, 60158, 77025, 95940, 114118, 147739, 169406, 191343, 211036, 229352, 251605, 269393, 293593, 315869, 332738, 349705, 368715, 389343, 407793, 426400, 445100, 467660, 490515, 509972, 529711, 551851, 578050, 594488, 618925, 639893, 657871, 673474, 691656, 710855, 730094, 746809, 768710, 792660, 810784, 831545, 849962, 872021, 891086, 910756, 936276, 956417, 978198, 998938, 1018454, 1039397, 1061039, 1088773], \"xaxis\": \"x\", \"y\": [2.999997654584079, 2.571364389119915, 2.6848255616685424, 2.285012339058354, 1.8317969003475674, 1.5711542080197138, 1.414523356830712, 1.4246195165062079, 1.3824656413065668, 1.3706108219475515, 1.3287813309530385, 1.3132632021875243, 1.2938084772014216, 1.2920448160764002, 1.3013724583718282, 1.2199894765815733, 1.1453048172086207, 1.0851308702436295, 1.060631022721374, 1.0122290082634449, 1.0023541287322477, 0.9903251272791094, 0.9762197628234159, 0.9785385877410748, 0.9894511424643632, 0.9786328268297367, 0.9575311049900683, 0.9503108344985043, 0.9179889818647285, 0.8871043570266017, 0.8553651718004344, 0.8428685620308332, 0.8166273972505312, 0.7874214024191175, 0.7628590219319629, 0.7407925558400057, 0.730178840288433, 0.7131272041210047, 0.6971793072572448, 0.688412088291608, 0.6785284287270408, 0.6749873208968156, 0.6713736911174131, 0.6705592639530276, 0.6610050430545517, 0.6539123165908656, 0.6377458896064833, 0.622777022393246, 0.6164414207391675, 0.6147244233045908, 0.6187785251557374, 0.6164791500887605, 0.6089420075152792], \"yaxis\": \"y\"}],\n",
       "                        {\"height\": 600, \"legend\": {\"tracegroupgap\": 0}, \"template\": {\"data\": {\"bar\": [{\"error_x\": {\"color\": \"#2a3f5f\"}, \"error_y\": {\"color\": \"#2a3f5f\"}, \"marker\": {\"line\": {\"color\": \"#E5ECF6\", \"width\": 0.5}}, \"type\": \"bar\"}], \"barpolar\": [{\"marker\": {\"line\": {\"color\": \"#E5ECF6\", \"width\": 0.5}}, \"type\": \"barpolar\"}], \"carpet\": [{\"aaxis\": {\"endlinecolor\": \"#2a3f5f\", \"gridcolor\": \"white\", \"linecolor\": \"white\", \"minorgridcolor\": \"white\", \"startlinecolor\": \"#2a3f5f\"}, \"baxis\": {\"endlinecolor\": \"#2a3f5f\", \"gridcolor\": \"white\", \"linecolor\": \"white\", \"minorgridcolor\": \"white\", \"startlinecolor\": \"#2a3f5f\"}, \"type\": \"carpet\"}], \"choropleth\": [{\"colorbar\": {\"outlinewidth\": 0, \"ticks\": \"\"}, \"type\": \"choropleth\"}], \"contour\": [{\"colorbar\": {\"outlinewidth\": 0, \"ticks\": \"\"}, \"colorscale\": [[0.0, \"#0d0887\"], [0.1111111111111111, \"#46039f\"], [0.2222222222222222, \"#7201a8\"], [0.3333333333333333, \"#9c179e\"], [0.4444444444444444, \"#bd3786\"], [0.5555555555555556, \"#d8576b\"], [0.6666666666666666, \"#ed7953\"], [0.7777777777777778, \"#fb9f3a\"], [0.8888888888888888, \"#fdca26\"], [1.0, \"#f0f921\"]], \"type\": \"contour\"}], \"contourcarpet\": [{\"colorbar\": {\"outlinewidth\": 0, \"ticks\": \"\"}, \"type\": \"contourcarpet\"}], \"heatmap\": [{\"colorbar\": {\"outlinewidth\": 0, \"ticks\": \"\"}, \"colorscale\": [[0.0, \"#0d0887\"], [0.1111111111111111, \"#46039f\"], [0.2222222222222222, \"#7201a8\"], [0.3333333333333333, \"#9c179e\"], [0.4444444444444444, \"#bd3786\"], [0.5555555555555556, \"#d8576b\"], [0.6666666666666666, \"#ed7953\"], [0.7777777777777778, \"#fb9f3a\"], [0.8888888888888888, \"#fdca26\"], [1.0, \"#f0f921\"]], \"type\": \"heatmap\"}], \"heatmapgl\": [{\"colorbar\": {\"outlinewidth\": 0, \"ticks\": \"\"}, \"colorscale\": [[0.0, \"#0d0887\"], [0.1111111111111111, \"#46039f\"], [0.2222222222222222, \"#7201a8\"], [0.3333333333333333, \"#9c179e\"], [0.4444444444444444, \"#bd3786\"], [0.5555555555555556, \"#d8576b\"], [0.6666666666666666, \"#ed7953\"], [0.7777777777777778, \"#fb9f3a\"], [0.8888888888888888, \"#fdca26\"], [1.0, \"#f0f921\"]], \"type\": \"heatmapgl\"}], \"histogram\": [{\"marker\": {\"colorbar\": {\"outlinewidth\": 0, \"ticks\": \"\"}}, \"type\": \"histogram\"}], \"histogram2d\": [{\"colorbar\": {\"outlinewidth\": 0, \"ticks\": \"\"}, \"colorscale\": [[0.0, \"#0d0887\"], [0.1111111111111111, \"#46039f\"], [0.2222222222222222, \"#7201a8\"], [0.3333333333333333, \"#9c179e\"], [0.4444444444444444, \"#bd3786\"], [0.5555555555555556, \"#d8576b\"], [0.6666666666666666, \"#ed7953\"], [0.7777777777777778, \"#fb9f3a\"], [0.8888888888888888, \"#fdca26\"], [1.0, \"#f0f921\"]], \"type\": \"histogram2d\"}], \"histogram2dcontour\": [{\"colorbar\": {\"outlinewidth\": 0, \"ticks\": \"\"}, \"colorscale\": [[0.0, \"#0d0887\"], [0.1111111111111111, \"#46039f\"], [0.2222222222222222, \"#7201a8\"], [0.3333333333333333, \"#9c179e\"], [0.4444444444444444, \"#bd3786\"], [0.5555555555555556, \"#d8576b\"], [0.6666666666666666, \"#ed7953\"], [0.7777777777777778, \"#fb9f3a\"], [0.8888888888888888, \"#fdca26\"], [1.0, \"#f0f921\"]], \"type\": \"histogram2dcontour\"}], \"mesh3d\": [{\"colorbar\": {\"outlinewidth\": 0, \"ticks\": \"\"}, \"type\": \"mesh3d\"}], \"parcoords\": [{\"line\": {\"colorbar\": {\"outlinewidth\": 0, \"ticks\": \"\"}}, \"type\": \"parcoords\"}], \"scatter\": [{\"marker\": {\"colorbar\": {\"outlinewidth\": 0, \"ticks\": \"\"}}, \"type\": \"scatter\"}], \"scatter3d\": [{\"line\": {\"colorbar\": {\"outlinewidth\": 0, \"ticks\": \"\"}}, \"marker\": {\"colorbar\": {\"outlinewidth\": 0, \"ticks\": \"\"}}, \"type\": \"scatter3d\"}], \"scattercarpet\": [{\"marker\": {\"colorbar\": {\"outlinewidth\": 0, \"ticks\": \"\"}}, \"type\": \"scattercarpet\"}], \"scattergeo\": [{\"marker\": {\"colorbar\": {\"outlinewidth\": 0, \"ticks\": \"\"}}, \"type\": \"scattergeo\"}], \"scattergl\": [{\"marker\": {\"colorbar\": {\"outlinewidth\": 0, \"ticks\": \"\"}}, \"type\": \"scattergl\"}], \"scattermapbox\": [{\"marker\": {\"colorbar\": {\"outlinewidth\": 0, \"ticks\": \"\"}}, \"type\": \"scattermapbox\"}], \"scatterpolar\": [{\"marker\": {\"colorbar\": {\"outlinewidth\": 0, \"ticks\": \"\"}}, \"type\": \"scatterpolar\"}], \"scatterpolargl\": [{\"marker\": {\"colorbar\": {\"outlinewidth\": 0, \"ticks\": \"\"}}, \"type\": \"scatterpolargl\"}], \"scatterternary\": [{\"marker\": {\"colorbar\": {\"outlinewidth\": 0, \"ticks\": \"\"}}, \"type\": \"scatterternary\"}], \"surface\": [{\"colorbar\": {\"outlinewidth\": 0, \"ticks\": \"\"}, \"colorscale\": [[0.0, \"#0d0887\"], [0.1111111111111111, \"#46039f\"], [0.2222222222222222, \"#7201a8\"], [0.3333333333333333, \"#9c179e\"], [0.4444444444444444, \"#bd3786\"], [0.5555555555555556, \"#d8576b\"], [0.6666666666666666, \"#ed7953\"], [0.7777777777777778, \"#fb9f3a\"], [0.8888888888888888, \"#fdca26\"], [1.0, \"#f0f921\"]], \"type\": \"surface\"}], \"table\": [{\"cells\": {\"fill\": {\"color\": \"#EBF0F8\"}, \"line\": {\"color\": \"white\"}}, \"header\": {\"fill\": {\"color\": \"#C8D4E3\"}, \"line\": {\"color\": \"white\"}}, \"type\": \"table\"}]}, \"layout\": {\"annotationdefaults\": {\"arrowcolor\": \"#2a3f5f\", \"arrowhead\": 0, \"arrowwidth\": 1}, \"colorscale\": {\"diverging\": [[0, \"#8e0152\"], [0.1, \"#c51b7d\"], [0.2, \"#de77ae\"], [0.3, \"#f1b6da\"], [0.4, \"#fde0ef\"], [0.5, \"#f7f7f7\"], [0.6, \"#e6f5d0\"], [0.7, \"#b8e186\"], [0.8, \"#7fbc41\"], [0.9, \"#4d9221\"], [1, \"#276419\"]], \"sequential\": [[0.0, \"#0d0887\"], [0.1111111111111111, \"#46039f\"], [0.2222222222222222, \"#7201a8\"], [0.3333333333333333, \"#9c179e\"], [0.4444444444444444, \"#bd3786\"], [0.5555555555555556, \"#d8576b\"], [0.6666666666666666, \"#ed7953\"], [0.7777777777777778, \"#fb9f3a\"], [0.8888888888888888, \"#fdca26\"], [1.0, \"#f0f921\"]], \"sequentialminus\": [[0.0, \"#0d0887\"], [0.1111111111111111, \"#46039f\"], [0.2222222222222222, \"#7201a8\"], [0.3333333333333333, \"#9c179e\"], [0.4444444444444444, \"#bd3786\"], [0.5555555555555556, \"#d8576b\"], [0.6666666666666666, \"#ed7953\"], [0.7777777777777778, \"#fb9f3a\"], [0.8888888888888888, \"#fdca26\"], [1.0, \"#f0f921\"]]}, \"colorway\": [\"#636efa\", \"#EF553B\", \"#00cc96\", \"#ab63fa\", \"#FFA15A\", \"#19d3f3\", \"#FF6692\", \"#B6E880\", \"#FF97FF\", \"#FECB52\"], \"font\": {\"color\": \"#2a3f5f\"}, \"geo\": {\"bgcolor\": \"white\", \"lakecolor\": \"white\", \"landcolor\": \"#E5ECF6\", \"showlakes\": true, \"showland\": true, \"subunitcolor\": \"white\"}, \"hoverlabel\": {\"align\": \"left\"}, \"hovermode\": \"closest\", \"mapbox\": {\"style\": \"light\"}, \"paper_bgcolor\": \"white\", \"plot_bgcolor\": \"#E5ECF6\", \"polar\": {\"angularaxis\": {\"gridcolor\": \"white\", \"linecolor\": \"white\", \"ticks\": \"\"}, \"bgcolor\": \"#E5ECF6\", \"radialaxis\": {\"gridcolor\": \"white\", \"linecolor\": \"white\", \"ticks\": \"\"}}, \"scene\": {\"xaxis\": {\"backgroundcolor\": \"#E5ECF6\", \"gridcolor\": \"white\", \"gridwidth\": 2, \"linecolor\": \"white\", \"showbackground\": true, \"ticks\": \"\", \"zerolinecolor\": \"white\"}, \"yaxis\": {\"backgroundcolor\": \"#E5ECF6\", \"gridcolor\": \"white\", \"gridwidth\": 2, \"linecolor\": \"white\", \"showbackground\": true, \"ticks\": \"\", \"zerolinecolor\": \"white\"}, \"zaxis\": {\"backgroundcolor\": \"#E5ECF6\", \"gridcolor\": \"white\", \"gridwidth\": 2, \"linecolor\": \"white\", \"showbackground\": true, \"ticks\": \"\", \"zerolinecolor\": \"white\"}}, \"shapedefaults\": {\"line\": {\"color\": \"#2a3f5f\"}}, \"ternary\": {\"aaxis\": {\"gridcolor\": \"white\", \"linecolor\": \"white\", \"ticks\": \"\"}, \"baxis\": {\"gridcolor\": \"white\", \"linecolor\": \"white\", \"ticks\": \"\"}, \"bgcolor\": \"#E5ECF6\", \"caxis\": {\"gridcolor\": \"white\", \"linecolor\": \"white\", \"ticks\": \"\"}}, \"title\": {\"x\": 0.05}, \"xaxis\": {\"automargin\": true, \"gridcolor\": \"white\", \"linecolor\": \"white\", \"ticks\": \"\", \"zerolinecolor\": \"white\", \"zerolinewidth\": 2}, \"yaxis\": {\"automargin\": true, \"gridcolor\": \"white\", \"linecolor\": \"white\", \"ticks\": \"\", \"zerolinecolor\": \"white\", \"zerolinewidth\": 2}}}, \"title\": {\"text\": \"Exploitability over time Kuhn 3 workers\"}, \"xaxis\": {\"anchor\": \"y\", \"domain\": [0.0, 0.98], \"title\": {\"text\": \"total_episodes\"}}, \"yaxis\": {\"anchor\": \"x\", \"domain\": [0.0, 1.0], \"title\": {\"text\": \"exploitability\"}}},\n",
       "                        {\"responsive\": true}\n",
       "                    ).then(function(){\n",
       "                            \n",
       "var gd = document.getElementById('bd867a45-d51d-47be-b3c6-53adc1fb39f4');\n",
       "var x = new MutationObserver(function (mutations, observer) {{\n",
       "        var display = window.getComputedStyle(gd).display;\n",
       "        if (!display || display === 'none') {{\n",
       "            console.log([gd, 'removed!']);\n",
       "            Plotly.purge(gd);\n",
       "            observer.disconnect();\n",
       "        }}\n",
       "}});\n",
       "\n",
       "// Listen for the removal of the full notebook cells\n",
       "var notebookContainer = gd.closest('#notebook-container');\n",
       "if (notebookContainer) {{\n",
       "    x.observe(notebookContainer, {childList: true});\n",
       "}}\n",
       "\n",
       "// Listen for the clearing of the current output cell\n",
       "var outputEl = gd.closest('.output');\n",
       "if (outputEl) {{\n",
       "    x.observe(outputEl, {childList: true});\n",
       "}}\n",
       "\n",
       "                        })\n",
       "                };\n",
       "                });\n",
       "            </script>\n",
       "        </div>"
      ]
     },
     "metadata": {},
     "output_type": "display_data"
    }
   ],
   "source": [
    "fig = px.line(gc_leduc_perf_df.drop_duplicates(), x=\"total_episodes\", y=\"exploitability\", title=f\"Exploitability over time Kuhn 3 workers\",\n",
    "        render_mode=\"svg\", color=\"experiment_name\")\n",
    "fig.show()"
   ]
  },
  {
   "cell_type": "code",
   "execution_count": 12,
   "metadata": {},
   "outputs": [],
   "source": [
    "gc_leduc_perf_df.to_csv(\"~/Desktop/gc_leduc_jun_1.csv\")"
   ]
  },
  {
   "cell_type": "code",
   "execution_count": null,
   "metadata": {},
   "outputs": [],
   "source": []
  }
 ],
 "metadata": {
  "kernelspec": {
   "display_name": "Python 3",
   "language": "python",
   "name": "python3"
  },
  "language_info": {
   "codemirror_mode": {
    "name": "ipython",
    "version": 3
   },
   "file_extension": ".py",
   "mimetype": "text/x-python",
   "name": "python",
   "nbconvert_exporter": "python",
   "pygments_lexer": "ipython3",
   "version": "3.6.9"
  },
  "pycharm": {
   "stem_cell": {
    "cell_type": "raw",
    "source": [],
    "metadata": {
     "collapsed": false
    }
   }
  }
 },
 "nbformat": 4,
 "nbformat_minor": 1
}